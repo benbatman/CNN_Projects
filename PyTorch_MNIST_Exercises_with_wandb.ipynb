{
  "nbformat": 4,
  "nbformat_minor": 0,
  "metadata": {
    "colab": {
      "provenance": [],
      "authorship_tag": "ABX9TyP2hTT9SXBWkAcr998wvV15",
      "include_colab_link": true
    },
    "kernelspec": {
      "name": "python3",
      "display_name": "Python 3"
    },
    "language_info": {
      "name": "python"
    },
    "accelerator": "GPU",
    "gpuClass": "standard",
    "widgets": {
      "application/vnd.jupyter.widget-state+json": {
        "1f0cb42eeae445a5b7354c9a530b56e4": {
          "model_module": "@jupyter-widgets/controls",
          "model_name": "HBoxModel",
          "model_module_version": "1.5.0",
          "state": {
            "_dom_classes": [],
            "_model_module": "@jupyter-widgets/controls",
            "_model_module_version": "1.5.0",
            "_model_name": "HBoxModel",
            "_view_count": null,
            "_view_module": "@jupyter-widgets/controls",
            "_view_module_version": "1.5.0",
            "_view_name": "HBoxView",
            "box_style": "",
            "children": [
              "IPY_MODEL_43d8f4072d0e4c46a419d54720bf4ad1",
              "IPY_MODEL_699f78b4b75d4d20a68b5862430ec85c",
              "IPY_MODEL_bce1d9b985124354a10d95777557db99"
            ],
            "layout": "IPY_MODEL_3806b1bfbc7f4c8b84d2f0460874bd26"
          }
        },
        "43d8f4072d0e4c46a419d54720bf4ad1": {
          "model_module": "@jupyter-widgets/controls",
          "model_name": "HTMLModel",
          "model_module_version": "1.5.0",
          "state": {
            "_dom_classes": [],
            "_model_module": "@jupyter-widgets/controls",
            "_model_module_version": "1.5.0",
            "_model_name": "HTMLModel",
            "_view_count": null,
            "_view_module": "@jupyter-widgets/controls",
            "_view_module_version": "1.5.0",
            "_view_name": "HTMLView",
            "description": "",
            "description_tooltip": null,
            "layout": "IPY_MODEL_331e967ad6e543d9870f5528e4b83d60",
            "placeholder": "​",
            "style": "IPY_MODEL_e6b22a480fd04c90b172e8c79ccf672e",
            "value": "100%"
          }
        },
        "699f78b4b75d4d20a68b5862430ec85c": {
          "model_module": "@jupyter-widgets/controls",
          "model_name": "FloatProgressModel",
          "model_module_version": "1.5.0",
          "state": {
            "_dom_classes": [],
            "_model_module": "@jupyter-widgets/controls",
            "_model_module_version": "1.5.0",
            "_model_name": "FloatProgressModel",
            "_view_count": null,
            "_view_module": "@jupyter-widgets/controls",
            "_view_module_version": "1.5.0",
            "_view_name": "ProgressView",
            "bar_style": "success",
            "description": "",
            "description_tooltip": null,
            "layout": "IPY_MODEL_cff90173297c4f908219b5dd23065fcd",
            "max": 9912422,
            "min": 0,
            "orientation": "horizontal",
            "style": "IPY_MODEL_19502ff7857046349ec44cff95b99324",
            "value": 9912422
          }
        },
        "bce1d9b985124354a10d95777557db99": {
          "model_module": "@jupyter-widgets/controls",
          "model_name": "HTMLModel",
          "model_module_version": "1.5.0",
          "state": {
            "_dom_classes": [],
            "_model_module": "@jupyter-widgets/controls",
            "_model_module_version": "1.5.0",
            "_model_name": "HTMLModel",
            "_view_count": null,
            "_view_module": "@jupyter-widgets/controls",
            "_view_module_version": "1.5.0",
            "_view_name": "HTMLView",
            "description": "",
            "description_tooltip": null,
            "layout": "IPY_MODEL_96614da6825d446f858ceb5bc0a8049e",
            "placeholder": "​",
            "style": "IPY_MODEL_cb185e1eba9e4661bd756ee609b12667",
            "value": " 9912422/9912422 [00:00&lt;00:00, 114740678.76it/s]"
          }
        },
        "3806b1bfbc7f4c8b84d2f0460874bd26": {
          "model_module": "@jupyter-widgets/base",
          "model_name": "LayoutModel",
          "model_module_version": "1.2.0",
          "state": {
            "_model_module": "@jupyter-widgets/base",
            "_model_module_version": "1.2.0",
            "_model_name": "LayoutModel",
            "_view_count": null,
            "_view_module": "@jupyter-widgets/base",
            "_view_module_version": "1.2.0",
            "_view_name": "LayoutView",
            "align_content": null,
            "align_items": null,
            "align_self": null,
            "border": null,
            "bottom": null,
            "display": null,
            "flex": null,
            "flex_flow": null,
            "grid_area": null,
            "grid_auto_columns": null,
            "grid_auto_flow": null,
            "grid_auto_rows": null,
            "grid_column": null,
            "grid_gap": null,
            "grid_row": null,
            "grid_template_areas": null,
            "grid_template_columns": null,
            "grid_template_rows": null,
            "height": null,
            "justify_content": null,
            "justify_items": null,
            "left": null,
            "margin": null,
            "max_height": null,
            "max_width": null,
            "min_height": null,
            "min_width": null,
            "object_fit": null,
            "object_position": null,
            "order": null,
            "overflow": null,
            "overflow_x": null,
            "overflow_y": null,
            "padding": null,
            "right": null,
            "top": null,
            "visibility": null,
            "width": null
          }
        },
        "331e967ad6e543d9870f5528e4b83d60": {
          "model_module": "@jupyter-widgets/base",
          "model_name": "LayoutModel",
          "model_module_version": "1.2.0",
          "state": {
            "_model_module": "@jupyter-widgets/base",
            "_model_module_version": "1.2.0",
            "_model_name": "LayoutModel",
            "_view_count": null,
            "_view_module": "@jupyter-widgets/base",
            "_view_module_version": "1.2.0",
            "_view_name": "LayoutView",
            "align_content": null,
            "align_items": null,
            "align_self": null,
            "border": null,
            "bottom": null,
            "display": null,
            "flex": null,
            "flex_flow": null,
            "grid_area": null,
            "grid_auto_columns": null,
            "grid_auto_flow": null,
            "grid_auto_rows": null,
            "grid_column": null,
            "grid_gap": null,
            "grid_row": null,
            "grid_template_areas": null,
            "grid_template_columns": null,
            "grid_template_rows": null,
            "height": null,
            "justify_content": null,
            "justify_items": null,
            "left": null,
            "margin": null,
            "max_height": null,
            "max_width": null,
            "min_height": null,
            "min_width": null,
            "object_fit": null,
            "object_position": null,
            "order": null,
            "overflow": null,
            "overflow_x": null,
            "overflow_y": null,
            "padding": null,
            "right": null,
            "top": null,
            "visibility": null,
            "width": null
          }
        },
        "e6b22a480fd04c90b172e8c79ccf672e": {
          "model_module": "@jupyter-widgets/controls",
          "model_name": "DescriptionStyleModel",
          "model_module_version": "1.5.0",
          "state": {
            "_model_module": "@jupyter-widgets/controls",
            "_model_module_version": "1.5.0",
            "_model_name": "DescriptionStyleModel",
            "_view_count": null,
            "_view_module": "@jupyter-widgets/base",
            "_view_module_version": "1.2.0",
            "_view_name": "StyleView",
            "description_width": ""
          }
        },
        "cff90173297c4f908219b5dd23065fcd": {
          "model_module": "@jupyter-widgets/base",
          "model_name": "LayoutModel",
          "model_module_version": "1.2.0",
          "state": {
            "_model_module": "@jupyter-widgets/base",
            "_model_module_version": "1.2.0",
            "_model_name": "LayoutModel",
            "_view_count": null,
            "_view_module": "@jupyter-widgets/base",
            "_view_module_version": "1.2.0",
            "_view_name": "LayoutView",
            "align_content": null,
            "align_items": null,
            "align_self": null,
            "border": null,
            "bottom": null,
            "display": null,
            "flex": null,
            "flex_flow": null,
            "grid_area": null,
            "grid_auto_columns": null,
            "grid_auto_flow": null,
            "grid_auto_rows": null,
            "grid_column": null,
            "grid_gap": null,
            "grid_row": null,
            "grid_template_areas": null,
            "grid_template_columns": null,
            "grid_template_rows": null,
            "height": null,
            "justify_content": null,
            "justify_items": null,
            "left": null,
            "margin": null,
            "max_height": null,
            "max_width": null,
            "min_height": null,
            "min_width": null,
            "object_fit": null,
            "object_position": null,
            "order": null,
            "overflow": null,
            "overflow_x": null,
            "overflow_y": null,
            "padding": null,
            "right": null,
            "top": null,
            "visibility": null,
            "width": null
          }
        },
        "19502ff7857046349ec44cff95b99324": {
          "model_module": "@jupyter-widgets/controls",
          "model_name": "ProgressStyleModel",
          "model_module_version": "1.5.0",
          "state": {
            "_model_module": "@jupyter-widgets/controls",
            "_model_module_version": "1.5.0",
            "_model_name": "ProgressStyleModel",
            "_view_count": null,
            "_view_module": "@jupyter-widgets/base",
            "_view_module_version": "1.2.0",
            "_view_name": "StyleView",
            "bar_color": null,
            "description_width": ""
          }
        },
        "96614da6825d446f858ceb5bc0a8049e": {
          "model_module": "@jupyter-widgets/base",
          "model_name": "LayoutModel",
          "model_module_version": "1.2.0",
          "state": {
            "_model_module": "@jupyter-widgets/base",
            "_model_module_version": "1.2.0",
            "_model_name": "LayoutModel",
            "_view_count": null,
            "_view_module": "@jupyter-widgets/base",
            "_view_module_version": "1.2.0",
            "_view_name": "LayoutView",
            "align_content": null,
            "align_items": null,
            "align_self": null,
            "border": null,
            "bottom": null,
            "display": null,
            "flex": null,
            "flex_flow": null,
            "grid_area": null,
            "grid_auto_columns": null,
            "grid_auto_flow": null,
            "grid_auto_rows": null,
            "grid_column": null,
            "grid_gap": null,
            "grid_row": null,
            "grid_template_areas": null,
            "grid_template_columns": null,
            "grid_template_rows": null,
            "height": null,
            "justify_content": null,
            "justify_items": null,
            "left": null,
            "margin": null,
            "max_height": null,
            "max_width": null,
            "min_height": null,
            "min_width": null,
            "object_fit": null,
            "object_position": null,
            "order": null,
            "overflow": null,
            "overflow_x": null,
            "overflow_y": null,
            "padding": null,
            "right": null,
            "top": null,
            "visibility": null,
            "width": null
          }
        },
        "cb185e1eba9e4661bd756ee609b12667": {
          "model_module": "@jupyter-widgets/controls",
          "model_name": "DescriptionStyleModel",
          "model_module_version": "1.5.0",
          "state": {
            "_model_module": "@jupyter-widgets/controls",
            "_model_module_version": "1.5.0",
            "_model_name": "DescriptionStyleModel",
            "_view_count": null,
            "_view_module": "@jupyter-widgets/base",
            "_view_module_version": "1.2.0",
            "_view_name": "StyleView",
            "description_width": ""
          }
        },
        "c7c89d0455c74f558d830f7e99cf5a89": {
          "model_module": "@jupyter-widgets/controls",
          "model_name": "HBoxModel",
          "model_module_version": "1.5.0",
          "state": {
            "_dom_classes": [],
            "_model_module": "@jupyter-widgets/controls",
            "_model_module_version": "1.5.0",
            "_model_name": "HBoxModel",
            "_view_count": null,
            "_view_module": "@jupyter-widgets/controls",
            "_view_module_version": "1.5.0",
            "_view_name": "HBoxView",
            "box_style": "",
            "children": [
              "IPY_MODEL_cce757cf3016424fa8d1a5e78cf8c87f",
              "IPY_MODEL_e25085f9b56043b4a1db083b507c8a36",
              "IPY_MODEL_b3ac68f4ccc54784ac37b2d3552b07a1"
            ],
            "layout": "IPY_MODEL_e93451ad113a45efb1ea420d8810b015"
          }
        },
        "cce757cf3016424fa8d1a5e78cf8c87f": {
          "model_module": "@jupyter-widgets/controls",
          "model_name": "HTMLModel",
          "model_module_version": "1.5.0",
          "state": {
            "_dom_classes": [],
            "_model_module": "@jupyter-widgets/controls",
            "_model_module_version": "1.5.0",
            "_model_name": "HTMLModel",
            "_view_count": null,
            "_view_module": "@jupyter-widgets/controls",
            "_view_module_version": "1.5.0",
            "_view_name": "HTMLView",
            "description": "",
            "description_tooltip": null,
            "layout": "IPY_MODEL_26a0df0bbb674bc8b69d40868f07483a",
            "placeholder": "​",
            "style": "IPY_MODEL_8bc9b9e1b6e643798b60a42bdb537c84",
            "value": "100%"
          }
        },
        "e25085f9b56043b4a1db083b507c8a36": {
          "model_module": "@jupyter-widgets/controls",
          "model_name": "FloatProgressModel",
          "model_module_version": "1.5.0",
          "state": {
            "_dom_classes": [],
            "_model_module": "@jupyter-widgets/controls",
            "_model_module_version": "1.5.0",
            "_model_name": "FloatProgressModel",
            "_view_count": null,
            "_view_module": "@jupyter-widgets/controls",
            "_view_module_version": "1.5.0",
            "_view_name": "ProgressView",
            "bar_style": "success",
            "description": "",
            "description_tooltip": null,
            "layout": "IPY_MODEL_8af2e64db7d34731a3a64ddde5aef0f5",
            "max": 28881,
            "min": 0,
            "orientation": "horizontal",
            "style": "IPY_MODEL_e3acd9a017b4485e957767346db90a28",
            "value": 28881
          }
        },
        "b3ac68f4ccc54784ac37b2d3552b07a1": {
          "model_module": "@jupyter-widgets/controls",
          "model_name": "HTMLModel",
          "model_module_version": "1.5.0",
          "state": {
            "_dom_classes": [],
            "_model_module": "@jupyter-widgets/controls",
            "_model_module_version": "1.5.0",
            "_model_name": "HTMLModel",
            "_view_count": null,
            "_view_module": "@jupyter-widgets/controls",
            "_view_module_version": "1.5.0",
            "_view_name": "HTMLView",
            "description": "",
            "description_tooltip": null,
            "layout": "IPY_MODEL_2a7f89b186ee42f4b314a0e4ea441833",
            "placeholder": "​",
            "style": "IPY_MODEL_6a13990195f54f6b9ed30380f7da31b6",
            "value": " 28881/28881 [00:00&lt;00:00, 997469.54it/s]"
          }
        },
        "e93451ad113a45efb1ea420d8810b015": {
          "model_module": "@jupyter-widgets/base",
          "model_name": "LayoutModel",
          "model_module_version": "1.2.0",
          "state": {
            "_model_module": "@jupyter-widgets/base",
            "_model_module_version": "1.2.0",
            "_model_name": "LayoutModel",
            "_view_count": null,
            "_view_module": "@jupyter-widgets/base",
            "_view_module_version": "1.2.0",
            "_view_name": "LayoutView",
            "align_content": null,
            "align_items": null,
            "align_self": null,
            "border": null,
            "bottom": null,
            "display": null,
            "flex": null,
            "flex_flow": null,
            "grid_area": null,
            "grid_auto_columns": null,
            "grid_auto_flow": null,
            "grid_auto_rows": null,
            "grid_column": null,
            "grid_gap": null,
            "grid_row": null,
            "grid_template_areas": null,
            "grid_template_columns": null,
            "grid_template_rows": null,
            "height": null,
            "justify_content": null,
            "justify_items": null,
            "left": null,
            "margin": null,
            "max_height": null,
            "max_width": null,
            "min_height": null,
            "min_width": null,
            "object_fit": null,
            "object_position": null,
            "order": null,
            "overflow": null,
            "overflow_x": null,
            "overflow_y": null,
            "padding": null,
            "right": null,
            "top": null,
            "visibility": null,
            "width": null
          }
        },
        "26a0df0bbb674bc8b69d40868f07483a": {
          "model_module": "@jupyter-widgets/base",
          "model_name": "LayoutModel",
          "model_module_version": "1.2.0",
          "state": {
            "_model_module": "@jupyter-widgets/base",
            "_model_module_version": "1.2.0",
            "_model_name": "LayoutModel",
            "_view_count": null,
            "_view_module": "@jupyter-widgets/base",
            "_view_module_version": "1.2.0",
            "_view_name": "LayoutView",
            "align_content": null,
            "align_items": null,
            "align_self": null,
            "border": null,
            "bottom": null,
            "display": null,
            "flex": null,
            "flex_flow": null,
            "grid_area": null,
            "grid_auto_columns": null,
            "grid_auto_flow": null,
            "grid_auto_rows": null,
            "grid_column": null,
            "grid_gap": null,
            "grid_row": null,
            "grid_template_areas": null,
            "grid_template_columns": null,
            "grid_template_rows": null,
            "height": null,
            "justify_content": null,
            "justify_items": null,
            "left": null,
            "margin": null,
            "max_height": null,
            "max_width": null,
            "min_height": null,
            "min_width": null,
            "object_fit": null,
            "object_position": null,
            "order": null,
            "overflow": null,
            "overflow_x": null,
            "overflow_y": null,
            "padding": null,
            "right": null,
            "top": null,
            "visibility": null,
            "width": null
          }
        },
        "8bc9b9e1b6e643798b60a42bdb537c84": {
          "model_module": "@jupyter-widgets/controls",
          "model_name": "DescriptionStyleModel",
          "model_module_version": "1.5.0",
          "state": {
            "_model_module": "@jupyter-widgets/controls",
            "_model_module_version": "1.5.0",
            "_model_name": "DescriptionStyleModel",
            "_view_count": null,
            "_view_module": "@jupyter-widgets/base",
            "_view_module_version": "1.2.0",
            "_view_name": "StyleView",
            "description_width": ""
          }
        },
        "8af2e64db7d34731a3a64ddde5aef0f5": {
          "model_module": "@jupyter-widgets/base",
          "model_name": "LayoutModel",
          "model_module_version": "1.2.0",
          "state": {
            "_model_module": "@jupyter-widgets/base",
            "_model_module_version": "1.2.0",
            "_model_name": "LayoutModel",
            "_view_count": null,
            "_view_module": "@jupyter-widgets/base",
            "_view_module_version": "1.2.0",
            "_view_name": "LayoutView",
            "align_content": null,
            "align_items": null,
            "align_self": null,
            "border": null,
            "bottom": null,
            "display": null,
            "flex": null,
            "flex_flow": null,
            "grid_area": null,
            "grid_auto_columns": null,
            "grid_auto_flow": null,
            "grid_auto_rows": null,
            "grid_column": null,
            "grid_gap": null,
            "grid_row": null,
            "grid_template_areas": null,
            "grid_template_columns": null,
            "grid_template_rows": null,
            "height": null,
            "justify_content": null,
            "justify_items": null,
            "left": null,
            "margin": null,
            "max_height": null,
            "max_width": null,
            "min_height": null,
            "min_width": null,
            "object_fit": null,
            "object_position": null,
            "order": null,
            "overflow": null,
            "overflow_x": null,
            "overflow_y": null,
            "padding": null,
            "right": null,
            "top": null,
            "visibility": null,
            "width": null
          }
        },
        "e3acd9a017b4485e957767346db90a28": {
          "model_module": "@jupyter-widgets/controls",
          "model_name": "ProgressStyleModel",
          "model_module_version": "1.5.0",
          "state": {
            "_model_module": "@jupyter-widgets/controls",
            "_model_module_version": "1.5.0",
            "_model_name": "ProgressStyleModel",
            "_view_count": null,
            "_view_module": "@jupyter-widgets/base",
            "_view_module_version": "1.2.0",
            "_view_name": "StyleView",
            "bar_color": null,
            "description_width": ""
          }
        },
        "2a7f89b186ee42f4b314a0e4ea441833": {
          "model_module": "@jupyter-widgets/base",
          "model_name": "LayoutModel",
          "model_module_version": "1.2.0",
          "state": {
            "_model_module": "@jupyter-widgets/base",
            "_model_module_version": "1.2.0",
            "_model_name": "LayoutModel",
            "_view_count": null,
            "_view_module": "@jupyter-widgets/base",
            "_view_module_version": "1.2.0",
            "_view_name": "LayoutView",
            "align_content": null,
            "align_items": null,
            "align_self": null,
            "border": null,
            "bottom": null,
            "display": null,
            "flex": null,
            "flex_flow": null,
            "grid_area": null,
            "grid_auto_columns": null,
            "grid_auto_flow": null,
            "grid_auto_rows": null,
            "grid_column": null,
            "grid_gap": null,
            "grid_row": null,
            "grid_template_areas": null,
            "grid_template_columns": null,
            "grid_template_rows": null,
            "height": null,
            "justify_content": null,
            "justify_items": null,
            "left": null,
            "margin": null,
            "max_height": null,
            "max_width": null,
            "min_height": null,
            "min_width": null,
            "object_fit": null,
            "object_position": null,
            "order": null,
            "overflow": null,
            "overflow_x": null,
            "overflow_y": null,
            "padding": null,
            "right": null,
            "top": null,
            "visibility": null,
            "width": null
          }
        },
        "6a13990195f54f6b9ed30380f7da31b6": {
          "model_module": "@jupyter-widgets/controls",
          "model_name": "DescriptionStyleModel",
          "model_module_version": "1.5.0",
          "state": {
            "_model_module": "@jupyter-widgets/controls",
            "_model_module_version": "1.5.0",
            "_model_name": "DescriptionStyleModel",
            "_view_count": null,
            "_view_module": "@jupyter-widgets/base",
            "_view_module_version": "1.2.0",
            "_view_name": "StyleView",
            "description_width": ""
          }
        },
        "37e4ff44f40a461d89955d75055fbec3": {
          "model_module": "@jupyter-widgets/controls",
          "model_name": "HBoxModel",
          "model_module_version": "1.5.0",
          "state": {
            "_dom_classes": [],
            "_model_module": "@jupyter-widgets/controls",
            "_model_module_version": "1.5.0",
            "_model_name": "HBoxModel",
            "_view_count": null,
            "_view_module": "@jupyter-widgets/controls",
            "_view_module_version": "1.5.0",
            "_view_name": "HBoxView",
            "box_style": "",
            "children": [
              "IPY_MODEL_abeb641f75cb4c6caf58686925d75728",
              "IPY_MODEL_5679686b61be47e8b4810f3dac8b71c1",
              "IPY_MODEL_ccdaff93090e439b8e9738c7f75ce792"
            ],
            "layout": "IPY_MODEL_7e0b42956f254b3d85296b4ac892afcc"
          }
        },
        "abeb641f75cb4c6caf58686925d75728": {
          "model_module": "@jupyter-widgets/controls",
          "model_name": "HTMLModel",
          "model_module_version": "1.5.0",
          "state": {
            "_dom_classes": [],
            "_model_module": "@jupyter-widgets/controls",
            "_model_module_version": "1.5.0",
            "_model_name": "HTMLModel",
            "_view_count": null,
            "_view_module": "@jupyter-widgets/controls",
            "_view_module_version": "1.5.0",
            "_view_name": "HTMLView",
            "description": "",
            "description_tooltip": null,
            "layout": "IPY_MODEL_f3a75232df1a4a89a374d2384c5ea22b",
            "placeholder": "​",
            "style": "IPY_MODEL_8bb5fa57f40049baa65d094a158eab0b",
            "value": "100%"
          }
        },
        "5679686b61be47e8b4810f3dac8b71c1": {
          "model_module": "@jupyter-widgets/controls",
          "model_name": "FloatProgressModel",
          "model_module_version": "1.5.0",
          "state": {
            "_dom_classes": [],
            "_model_module": "@jupyter-widgets/controls",
            "_model_module_version": "1.5.0",
            "_model_name": "FloatProgressModel",
            "_view_count": null,
            "_view_module": "@jupyter-widgets/controls",
            "_view_module_version": "1.5.0",
            "_view_name": "ProgressView",
            "bar_style": "success",
            "description": "",
            "description_tooltip": null,
            "layout": "IPY_MODEL_b4627ae961e546d19b96329d1f9f2288",
            "max": 1648877,
            "min": 0,
            "orientation": "horizontal",
            "style": "IPY_MODEL_e24b4d905eac409e9b2deebb182ac0a2",
            "value": 1648877
          }
        },
        "ccdaff93090e439b8e9738c7f75ce792": {
          "model_module": "@jupyter-widgets/controls",
          "model_name": "HTMLModel",
          "model_module_version": "1.5.0",
          "state": {
            "_dom_classes": [],
            "_model_module": "@jupyter-widgets/controls",
            "_model_module_version": "1.5.0",
            "_model_name": "HTMLModel",
            "_view_count": null,
            "_view_module": "@jupyter-widgets/controls",
            "_view_module_version": "1.5.0",
            "_view_name": "HTMLView",
            "description": "",
            "description_tooltip": null,
            "layout": "IPY_MODEL_e84acbe7707e468c8d0a9b62644927e7",
            "placeholder": "​",
            "style": "IPY_MODEL_05e90a894bf64948968de5248e5ff676",
            "value": " 1648877/1648877 [00:00&lt;00:00, 10467501.85it/s]"
          }
        },
        "7e0b42956f254b3d85296b4ac892afcc": {
          "model_module": "@jupyter-widgets/base",
          "model_name": "LayoutModel",
          "model_module_version": "1.2.0",
          "state": {
            "_model_module": "@jupyter-widgets/base",
            "_model_module_version": "1.2.0",
            "_model_name": "LayoutModel",
            "_view_count": null,
            "_view_module": "@jupyter-widgets/base",
            "_view_module_version": "1.2.0",
            "_view_name": "LayoutView",
            "align_content": null,
            "align_items": null,
            "align_self": null,
            "border": null,
            "bottom": null,
            "display": null,
            "flex": null,
            "flex_flow": null,
            "grid_area": null,
            "grid_auto_columns": null,
            "grid_auto_flow": null,
            "grid_auto_rows": null,
            "grid_column": null,
            "grid_gap": null,
            "grid_row": null,
            "grid_template_areas": null,
            "grid_template_columns": null,
            "grid_template_rows": null,
            "height": null,
            "justify_content": null,
            "justify_items": null,
            "left": null,
            "margin": null,
            "max_height": null,
            "max_width": null,
            "min_height": null,
            "min_width": null,
            "object_fit": null,
            "object_position": null,
            "order": null,
            "overflow": null,
            "overflow_x": null,
            "overflow_y": null,
            "padding": null,
            "right": null,
            "top": null,
            "visibility": null,
            "width": null
          }
        },
        "f3a75232df1a4a89a374d2384c5ea22b": {
          "model_module": "@jupyter-widgets/base",
          "model_name": "LayoutModel",
          "model_module_version": "1.2.0",
          "state": {
            "_model_module": "@jupyter-widgets/base",
            "_model_module_version": "1.2.0",
            "_model_name": "LayoutModel",
            "_view_count": null,
            "_view_module": "@jupyter-widgets/base",
            "_view_module_version": "1.2.0",
            "_view_name": "LayoutView",
            "align_content": null,
            "align_items": null,
            "align_self": null,
            "border": null,
            "bottom": null,
            "display": null,
            "flex": null,
            "flex_flow": null,
            "grid_area": null,
            "grid_auto_columns": null,
            "grid_auto_flow": null,
            "grid_auto_rows": null,
            "grid_column": null,
            "grid_gap": null,
            "grid_row": null,
            "grid_template_areas": null,
            "grid_template_columns": null,
            "grid_template_rows": null,
            "height": null,
            "justify_content": null,
            "justify_items": null,
            "left": null,
            "margin": null,
            "max_height": null,
            "max_width": null,
            "min_height": null,
            "min_width": null,
            "object_fit": null,
            "object_position": null,
            "order": null,
            "overflow": null,
            "overflow_x": null,
            "overflow_y": null,
            "padding": null,
            "right": null,
            "top": null,
            "visibility": null,
            "width": null
          }
        },
        "8bb5fa57f40049baa65d094a158eab0b": {
          "model_module": "@jupyter-widgets/controls",
          "model_name": "DescriptionStyleModel",
          "model_module_version": "1.5.0",
          "state": {
            "_model_module": "@jupyter-widgets/controls",
            "_model_module_version": "1.5.0",
            "_model_name": "DescriptionStyleModel",
            "_view_count": null,
            "_view_module": "@jupyter-widgets/base",
            "_view_module_version": "1.2.0",
            "_view_name": "StyleView",
            "description_width": ""
          }
        },
        "b4627ae961e546d19b96329d1f9f2288": {
          "model_module": "@jupyter-widgets/base",
          "model_name": "LayoutModel",
          "model_module_version": "1.2.0",
          "state": {
            "_model_module": "@jupyter-widgets/base",
            "_model_module_version": "1.2.0",
            "_model_name": "LayoutModel",
            "_view_count": null,
            "_view_module": "@jupyter-widgets/base",
            "_view_module_version": "1.2.0",
            "_view_name": "LayoutView",
            "align_content": null,
            "align_items": null,
            "align_self": null,
            "border": null,
            "bottom": null,
            "display": null,
            "flex": null,
            "flex_flow": null,
            "grid_area": null,
            "grid_auto_columns": null,
            "grid_auto_flow": null,
            "grid_auto_rows": null,
            "grid_column": null,
            "grid_gap": null,
            "grid_row": null,
            "grid_template_areas": null,
            "grid_template_columns": null,
            "grid_template_rows": null,
            "height": null,
            "justify_content": null,
            "justify_items": null,
            "left": null,
            "margin": null,
            "max_height": null,
            "max_width": null,
            "min_height": null,
            "min_width": null,
            "object_fit": null,
            "object_position": null,
            "order": null,
            "overflow": null,
            "overflow_x": null,
            "overflow_y": null,
            "padding": null,
            "right": null,
            "top": null,
            "visibility": null,
            "width": null
          }
        },
        "e24b4d905eac409e9b2deebb182ac0a2": {
          "model_module": "@jupyter-widgets/controls",
          "model_name": "ProgressStyleModel",
          "model_module_version": "1.5.0",
          "state": {
            "_model_module": "@jupyter-widgets/controls",
            "_model_module_version": "1.5.0",
            "_model_name": "ProgressStyleModel",
            "_view_count": null,
            "_view_module": "@jupyter-widgets/base",
            "_view_module_version": "1.2.0",
            "_view_name": "StyleView",
            "bar_color": null,
            "description_width": ""
          }
        },
        "e84acbe7707e468c8d0a9b62644927e7": {
          "model_module": "@jupyter-widgets/base",
          "model_name": "LayoutModel",
          "model_module_version": "1.2.0",
          "state": {
            "_model_module": "@jupyter-widgets/base",
            "_model_module_version": "1.2.0",
            "_model_name": "LayoutModel",
            "_view_count": null,
            "_view_module": "@jupyter-widgets/base",
            "_view_module_version": "1.2.0",
            "_view_name": "LayoutView",
            "align_content": null,
            "align_items": null,
            "align_self": null,
            "border": null,
            "bottom": null,
            "display": null,
            "flex": null,
            "flex_flow": null,
            "grid_area": null,
            "grid_auto_columns": null,
            "grid_auto_flow": null,
            "grid_auto_rows": null,
            "grid_column": null,
            "grid_gap": null,
            "grid_row": null,
            "grid_template_areas": null,
            "grid_template_columns": null,
            "grid_template_rows": null,
            "height": null,
            "justify_content": null,
            "justify_items": null,
            "left": null,
            "margin": null,
            "max_height": null,
            "max_width": null,
            "min_height": null,
            "min_width": null,
            "object_fit": null,
            "object_position": null,
            "order": null,
            "overflow": null,
            "overflow_x": null,
            "overflow_y": null,
            "padding": null,
            "right": null,
            "top": null,
            "visibility": null,
            "width": null
          }
        },
        "05e90a894bf64948968de5248e5ff676": {
          "model_module": "@jupyter-widgets/controls",
          "model_name": "DescriptionStyleModel",
          "model_module_version": "1.5.0",
          "state": {
            "_model_module": "@jupyter-widgets/controls",
            "_model_module_version": "1.5.0",
            "_model_name": "DescriptionStyleModel",
            "_view_count": null,
            "_view_module": "@jupyter-widgets/base",
            "_view_module_version": "1.2.0",
            "_view_name": "StyleView",
            "description_width": ""
          }
        },
        "1a73d3e771d04551b3cf2d57a35a7387": {
          "model_module": "@jupyter-widgets/controls",
          "model_name": "HBoxModel",
          "model_module_version": "1.5.0",
          "state": {
            "_dom_classes": [],
            "_model_module": "@jupyter-widgets/controls",
            "_model_module_version": "1.5.0",
            "_model_name": "HBoxModel",
            "_view_count": null,
            "_view_module": "@jupyter-widgets/controls",
            "_view_module_version": "1.5.0",
            "_view_name": "HBoxView",
            "box_style": "",
            "children": [
              "IPY_MODEL_4a6c424e11ed422aa730d3287d230271",
              "IPY_MODEL_54a35a72ae3942cea302dd9ef5186546",
              "IPY_MODEL_2510f0eebf634c128f4a4ad0012c13ed"
            ],
            "layout": "IPY_MODEL_7b1932cf70664fbe8df5b88089126511"
          }
        },
        "4a6c424e11ed422aa730d3287d230271": {
          "model_module": "@jupyter-widgets/controls",
          "model_name": "HTMLModel",
          "model_module_version": "1.5.0",
          "state": {
            "_dom_classes": [],
            "_model_module": "@jupyter-widgets/controls",
            "_model_module_version": "1.5.0",
            "_model_name": "HTMLModel",
            "_view_count": null,
            "_view_module": "@jupyter-widgets/controls",
            "_view_module_version": "1.5.0",
            "_view_name": "HTMLView",
            "description": "",
            "description_tooltip": null,
            "layout": "IPY_MODEL_ffdee8df96cf4fd88a0f4c2598e3a89e",
            "placeholder": "​",
            "style": "IPY_MODEL_343980c6841f42edbd9b2a0b837ce401",
            "value": "100%"
          }
        },
        "54a35a72ae3942cea302dd9ef5186546": {
          "model_module": "@jupyter-widgets/controls",
          "model_name": "FloatProgressModel",
          "model_module_version": "1.5.0",
          "state": {
            "_dom_classes": [],
            "_model_module": "@jupyter-widgets/controls",
            "_model_module_version": "1.5.0",
            "_model_name": "FloatProgressModel",
            "_view_count": null,
            "_view_module": "@jupyter-widgets/controls",
            "_view_module_version": "1.5.0",
            "_view_name": "ProgressView",
            "bar_style": "success",
            "description": "",
            "description_tooltip": null,
            "layout": "IPY_MODEL_f03558099ff7489883f03c8f1283f333",
            "max": 4542,
            "min": 0,
            "orientation": "horizontal",
            "style": "IPY_MODEL_169b95d4f42c4f31bd6a058d1518a9fe",
            "value": 4542
          }
        },
        "2510f0eebf634c128f4a4ad0012c13ed": {
          "model_module": "@jupyter-widgets/controls",
          "model_name": "HTMLModel",
          "model_module_version": "1.5.0",
          "state": {
            "_dom_classes": [],
            "_model_module": "@jupyter-widgets/controls",
            "_model_module_version": "1.5.0",
            "_model_name": "HTMLModel",
            "_view_count": null,
            "_view_module": "@jupyter-widgets/controls",
            "_view_module_version": "1.5.0",
            "_view_name": "HTMLView",
            "description": "",
            "description_tooltip": null,
            "layout": "IPY_MODEL_96a8cb479f7f4ca4b33bcce0f7fb2a6c",
            "placeholder": "​",
            "style": "IPY_MODEL_8555c34c378a4a4e90560b33cc5706ac",
            "value": " 4542/4542 [00:00&lt;00:00, 153362.44it/s]"
          }
        },
        "7b1932cf70664fbe8df5b88089126511": {
          "model_module": "@jupyter-widgets/base",
          "model_name": "LayoutModel",
          "model_module_version": "1.2.0",
          "state": {
            "_model_module": "@jupyter-widgets/base",
            "_model_module_version": "1.2.0",
            "_model_name": "LayoutModel",
            "_view_count": null,
            "_view_module": "@jupyter-widgets/base",
            "_view_module_version": "1.2.0",
            "_view_name": "LayoutView",
            "align_content": null,
            "align_items": null,
            "align_self": null,
            "border": null,
            "bottom": null,
            "display": null,
            "flex": null,
            "flex_flow": null,
            "grid_area": null,
            "grid_auto_columns": null,
            "grid_auto_flow": null,
            "grid_auto_rows": null,
            "grid_column": null,
            "grid_gap": null,
            "grid_row": null,
            "grid_template_areas": null,
            "grid_template_columns": null,
            "grid_template_rows": null,
            "height": null,
            "justify_content": null,
            "justify_items": null,
            "left": null,
            "margin": null,
            "max_height": null,
            "max_width": null,
            "min_height": null,
            "min_width": null,
            "object_fit": null,
            "object_position": null,
            "order": null,
            "overflow": null,
            "overflow_x": null,
            "overflow_y": null,
            "padding": null,
            "right": null,
            "top": null,
            "visibility": null,
            "width": null
          }
        },
        "ffdee8df96cf4fd88a0f4c2598e3a89e": {
          "model_module": "@jupyter-widgets/base",
          "model_name": "LayoutModel",
          "model_module_version": "1.2.0",
          "state": {
            "_model_module": "@jupyter-widgets/base",
            "_model_module_version": "1.2.0",
            "_model_name": "LayoutModel",
            "_view_count": null,
            "_view_module": "@jupyter-widgets/base",
            "_view_module_version": "1.2.0",
            "_view_name": "LayoutView",
            "align_content": null,
            "align_items": null,
            "align_self": null,
            "border": null,
            "bottom": null,
            "display": null,
            "flex": null,
            "flex_flow": null,
            "grid_area": null,
            "grid_auto_columns": null,
            "grid_auto_flow": null,
            "grid_auto_rows": null,
            "grid_column": null,
            "grid_gap": null,
            "grid_row": null,
            "grid_template_areas": null,
            "grid_template_columns": null,
            "grid_template_rows": null,
            "height": null,
            "justify_content": null,
            "justify_items": null,
            "left": null,
            "margin": null,
            "max_height": null,
            "max_width": null,
            "min_height": null,
            "min_width": null,
            "object_fit": null,
            "object_position": null,
            "order": null,
            "overflow": null,
            "overflow_x": null,
            "overflow_y": null,
            "padding": null,
            "right": null,
            "top": null,
            "visibility": null,
            "width": null
          }
        },
        "343980c6841f42edbd9b2a0b837ce401": {
          "model_module": "@jupyter-widgets/controls",
          "model_name": "DescriptionStyleModel",
          "model_module_version": "1.5.0",
          "state": {
            "_model_module": "@jupyter-widgets/controls",
            "_model_module_version": "1.5.0",
            "_model_name": "DescriptionStyleModel",
            "_view_count": null,
            "_view_module": "@jupyter-widgets/base",
            "_view_module_version": "1.2.0",
            "_view_name": "StyleView",
            "description_width": ""
          }
        },
        "f03558099ff7489883f03c8f1283f333": {
          "model_module": "@jupyter-widgets/base",
          "model_name": "LayoutModel",
          "model_module_version": "1.2.0",
          "state": {
            "_model_module": "@jupyter-widgets/base",
            "_model_module_version": "1.2.0",
            "_model_name": "LayoutModel",
            "_view_count": null,
            "_view_module": "@jupyter-widgets/base",
            "_view_module_version": "1.2.0",
            "_view_name": "LayoutView",
            "align_content": null,
            "align_items": null,
            "align_self": null,
            "border": null,
            "bottom": null,
            "display": null,
            "flex": null,
            "flex_flow": null,
            "grid_area": null,
            "grid_auto_columns": null,
            "grid_auto_flow": null,
            "grid_auto_rows": null,
            "grid_column": null,
            "grid_gap": null,
            "grid_row": null,
            "grid_template_areas": null,
            "grid_template_columns": null,
            "grid_template_rows": null,
            "height": null,
            "justify_content": null,
            "justify_items": null,
            "left": null,
            "margin": null,
            "max_height": null,
            "max_width": null,
            "min_height": null,
            "min_width": null,
            "object_fit": null,
            "object_position": null,
            "order": null,
            "overflow": null,
            "overflow_x": null,
            "overflow_y": null,
            "padding": null,
            "right": null,
            "top": null,
            "visibility": null,
            "width": null
          }
        },
        "169b95d4f42c4f31bd6a058d1518a9fe": {
          "model_module": "@jupyter-widgets/controls",
          "model_name": "ProgressStyleModel",
          "model_module_version": "1.5.0",
          "state": {
            "_model_module": "@jupyter-widgets/controls",
            "_model_module_version": "1.5.0",
            "_model_name": "ProgressStyleModel",
            "_view_count": null,
            "_view_module": "@jupyter-widgets/base",
            "_view_module_version": "1.2.0",
            "_view_name": "StyleView",
            "bar_color": null,
            "description_width": ""
          }
        },
        "96a8cb479f7f4ca4b33bcce0f7fb2a6c": {
          "model_module": "@jupyter-widgets/base",
          "model_name": "LayoutModel",
          "model_module_version": "1.2.0",
          "state": {
            "_model_module": "@jupyter-widgets/base",
            "_model_module_version": "1.2.0",
            "_model_name": "LayoutModel",
            "_view_count": null,
            "_view_module": "@jupyter-widgets/base",
            "_view_module_version": "1.2.0",
            "_view_name": "LayoutView",
            "align_content": null,
            "align_items": null,
            "align_self": null,
            "border": null,
            "bottom": null,
            "display": null,
            "flex": null,
            "flex_flow": null,
            "grid_area": null,
            "grid_auto_columns": null,
            "grid_auto_flow": null,
            "grid_auto_rows": null,
            "grid_column": null,
            "grid_gap": null,
            "grid_row": null,
            "grid_template_areas": null,
            "grid_template_columns": null,
            "grid_template_rows": null,
            "height": null,
            "justify_content": null,
            "justify_items": null,
            "left": null,
            "margin": null,
            "max_height": null,
            "max_width": null,
            "min_height": null,
            "min_width": null,
            "object_fit": null,
            "object_position": null,
            "order": null,
            "overflow": null,
            "overflow_x": null,
            "overflow_y": null,
            "padding": null,
            "right": null,
            "top": null,
            "visibility": null,
            "width": null
          }
        },
        "8555c34c378a4a4e90560b33cc5706ac": {
          "model_module": "@jupyter-widgets/controls",
          "model_name": "DescriptionStyleModel",
          "model_module_version": "1.5.0",
          "state": {
            "_model_module": "@jupyter-widgets/controls",
            "_model_module_version": "1.5.0",
            "_model_name": "DescriptionStyleModel",
            "_view_count": null,
            "_view_module": "@jupyter-widgets/base",
            "_view_module_version": "1.2.0",
            "_view_name": "StyleView",
            "description_width": ""
          }
        },
        "b7582eb1bf6d4a15aacbe53edac44141": {
          "model_module": "@jupyter-widgets/controls",
          "model_name": "HBoxModel",
          "model_module_version": "1.5.0",
          "state": {
            "_dom_classes": [],
            "_model_module": "@jupyter-widgets/controls",
            "_model_module_version": "1.5.0",
            "_model_name": "HBoxModel",
            "_view_count": null,
            "_view_module": "@jupyter-widgets/controls",
            "_view_module_version": "1.5.0",
            "_view_name": "HBoxView",
            "box_style": "",
            "children": [
              "IPY_MODEL_cc45b178570e4eb9b8eaa28d848ce926",
              "IPY_MODEL_2e1e9d6eda0546da967f25ad2c293900",
              "IPY_MODEL_1642d8d106084ff5b47cc53d7cbbdca4"
            ],
            "layout": "IPY_MODEL_c391d5c492f94a999cda2d784958cd2c"
          }
        },
        "cc45b178570e4eb9b8eaa28d848ce926": {
          "model_module": "@jupyter-widgets/controls",
          "model_name": "HTMLModel",
          "model_module_version": "1.5.0",
          "state": {
            "_dom_classes": [],
            "_model_module": "@jupyter-widgets/controls",
            "_model_module_version": "1.5.0",
            "_model_name": "HTMLModel",
            "_view_count": null,
            "_view_module": "@jupyter-widgets/controls",
            "_view_module_version": "1.5.0",
            "_view_name": "HTMLView",
            "description": "",
            "description_tooltip": null,
            "layout": "IPY_MODEL_06914ba7ea174a68a35887f9dbeccbf3",
            "placeholder": "​",
            "style": "IPY_MODEL_71c61db2c99e4c94a88f70b80a7037c4",
            "value": "100%"
          }
        },
        "2e1e9d6eda0546da967f25ad2c293900": {
          "model_module": "@jupyter-widgets/controls",
          "model_name": "FloatProgressModel",
          "model_module_version": "1.5.0",
          "state": {
            "_dom_classes": [],
            "_model_module": "@jupyter-widgets/controls",
            "_model_module_version": "1.5.0",
            "_model_name": "FloatProgressModel",
            "_view_count": null,
            "_view_module": "@jupyter-widgets/controls",
            "_view_module_version": "1.5.0",
            "_view_name": "ProgressView",
            "bar_style": "success",
            "description": "",
            "description_tooltip": null,
            "layout": "IPY_MODEL_68654a44c81542d8983624852e48c77d",
            "max": 5,
            "min": 0,
            "orientation": "horizontal",
            "style": "IPY_MODEL_03a10ad434464da7a1dde607069e4bcd",
            "value": 5
          }
        },
        "1642d8d106084ff5b47cc53d7cbbdca4": {
          "model_module": "@jupyter-widgets/controls",
          "model_name": "HTMLModel",
          "model_module_version": "1.5.0",
          "state": {
            "_dom_classes": [],
            "_model_module": "@jupyter-widgets/controls",
            "_model_module_version": "1.5.0",
            "_model_name": "HTMLModel",
            "_view_count": null,
            "_view_module": "@jupyter-widgets/controls",
            "_view_module_version": "1.5.0",
            "_view_name": "HTMLView",
            "description": "",
            "description_tooltip": null,
            "layout": "IPY_MODEL_5029d1d36c524781bc457b3042ae5683",
            "placeholder": "​",
            "style": "IPY_MODEL_59ec61933b00479aa92529437b4aabe5",
            "value": " 5/5 [00:44&lt;00:00,  8.08s/it]"
          }
        },
        "c391d5c492f94a999cda2d784958cd2c": {
          "model_module": "@jupyter-widgets/base",
          "model_name": "LayoutModel",
          "model_module_version": "1.2.0",
          "state": {
            "_model_module": "@jupyter-widgets/base",
            "_model_module_version": "1.2.0",
            "_model_name": "LayoutModel",
            "_view_count": null,
            "_view_module": "@jupyter-widgets/base",
            "_view_module_version": "1.2.0",
            "_view_name": "LayoutView",
            "align_content": null,
            "align_items": null,
            "align_self": null,
            "border": null,
            "bottom": null,
            "display": null,
            "flex": null,
            "flex_flow": null,
            "grid_area": null,
            "grid_auto_columns": null,
            "grid_auto_flow": null,
            "grid_auto_rows": null,
            "grid_column": null,
            "grid_gap": null,
            "grid_row": null,
            "grid_template_areas": null,
            "grid_template_columns": null,
            "grid_template_rows": null,
            "height": null,
            "justify_content": null,
            "justify_items": null,
            "left": null,
            "margin": null,
            "max_height": null,
            "max_width": null,
            "min_height": null,
            "min_width": null,
            "object_fit": null,
            "object_position": null,
            "order": null,
            "overflow": null,
            "overflow_x": null,
            "overflow_y": null,
            "padding": null,
            "right": null,
            "top": null,
            "visibility": null,
            "width": null
          }
        },
        "06914ba7ea174a68a35887f9dbeccbf3": {
          "model_module": "@jupyter-widgets/base",
          "model_name": "LayoutModel",
          "model_module_version": "1.2.0",
          "state": {
            "_model_module": "@jupyter-widgets/base",
            "_model_module_version": "1.2.0",
            "_model_name": "LayoutModel",
            "_view_count": null,
            "_view_module": "@jupyter-widgets/base",
            "_view_module_version": "1.2.0",
            "_view_name": "LayoutView",
            "align_content": null,
            "align_items": null,
            "align_self": null,
            "border": null,
            "bottom": null,
            "display": null,
            "flex": null,
            "flex_flow": null,
            "grid_area": null,
            "grid_auto_columns": null,
            "grid_auto_flow": null,
            "grid_auto_rows": null,
            "grid_column": null,
            "grid_gap": null,
            "grid_row": null,
            "grid_template_areas": null,
            "grid_template_columns": null,
            "grid_template_rows": null,
            "height": null,
            "justify_content": null,
            "justify_items": null,
            "left": null,
            "margin": null,
            "max_height": null,
            "max_width": null,
            "min_height": null,
            "min_width": null,
            "object_fit": null,
            "object_position": null,
            "order": null,
            "overflow": null,
            "overflow_x": null,
            "overflow_y": null,
            "padding": null,
            "right": null,
            "top": null,
            "visibility": null,
            "width": null
          }
        },
        "71c61db2c99e4c94a88f70b80a7037c4": {
          "model_module": "@jupyter-widgets/controls",
          "model_name": "DescriptionStyleModel",
          "model_module_version": "1.5.0",
          "state": {
            "_model_module": "@jupyter-widgets/controls",
            "_model_module_version": "1.5.0",
            "_model_name": "DescriptionStyleModel",
            "_view_count": null,
            "_view_module": "@jupyter-widgets/base",
            "_view_module_version": "1.2.0",
            "_view_name": "StyleView",
            "description_width": ""
          }
        },
        "68654a44c81542d8983624852e48c77d": {
          "model_module": "@jupyter-widgets/base",
          "model_name": "LayoutModel",
          "model_module_version": "1.2.0",
          "state": {
            "_model_module": "@jupyter-widgets/base",
            "_model_module_version": "1.2.0",
            "_model_name": "LayoutModel",
            "_view_count": null,
            "_view_module": "@jupyter-widgets/base",
            "_view_module_version": "1.2.0",
            "_view_name": "LayoutView",
            "align_content": null,
            "align_items": null,
            "align_self": null,
            "border": null,
            "bottom": null,
            "display": null,
            "flex": null,
            "flex_flow": null,
            "grid_area": null,
            "grid_auto_columns": null,
            "grid_auto_flow": null,
            "grid_auto_rows": null,
            "grid_column": null,
            "grid_gap": null,
            "grid_row": null,
            "grid_template_areas": null,
            "grid_template_columns": null,
            "grid_template_rows": null,
            "height": null,
            "justify_content": null,
            "justify_items": null,
            "left": null,
            "margin": null,
            "max_height": null,
            "max_width": null,
            "min_height": null,
            "min_width": null,
            "object_fit": null,
            "object_position": null,
            "order": null,
            "overflow": null,
            "overflow_x": null,
            "overflow_y": null,
            "padding": null,
            "right": null,
            "top": null,
            "visibility": null,
            "width": null
          }
        },
        "03a10ad434464da7a1dde607069e4bcd": {
          "model_module": "@jupyter-widgets/controls",
          "model_name": "ProgressStyleModel",
          "model_module_version": "1.5.0",
          "state": {
            "_model_module": "@jupyter-widgets/controls",
            "_model_module_version": "1.5.0",
            "_model_name": "ProgressStyleModel",
            "_view_count": null,
            "_view_module": "@jupyter-widgets/base",
            "_view_module_version": "1.2.0",
            "_view_name": "StyleView",
            "bar_color": null,
            "description_width": ""
          }
        },
        "5029d1d36c524781bc457b3042ae5683": {
          "model_module": "@jupyter-widgets/base",
          "model_name": "LayoutModel",
          "model_module_version": "1.2.0",
          "state": {
            "_model_module": "@jupyter-widgets/base",
            "_model_module_version": "1.2.0",
            "_model_name": "LayoutModel",
            "_view_count": null,
            "_view_module": "@jupyter-widgets/base",
            "_view_module_version": "1.2.0",
            "_view_name": "LayoutView",
            "align_content": null,
            "align_items": null,
            "align_self": null,
            "border": null,
            "bottom": null,
            "display": null,
            "flex": null,
            "flex_flow": null,
            "grid_area": null,
            "grid_auto_columns": null,
            "grid_auto_flow": null,
            "grid_auto_rows": null,
            "grid_column": null,
            "grid_gap": null,
            "grid_row": null,
            "grid_template_areas": null,
            "grid_template_columns": null,
            "grid_template_rows": null,
            "height": null,
            "justify_content": null,
            "justify_items": null,
            "left": null,
            "margin": null,
            "max_height": null,
            "max_width": null,
            "min_height": null,
            "min_width": null,
            "object_fit": null,
            "object_position": null,
            "order": null,
            "overflow": null,
            "overflow_x": null,
            "overflow_y": null,
            "padding": null,
            "right": null,
            "top": null,
            "visibility": null,
            "width": null
          }
        },
        "59ec61933b00479aa92529437b4aabe5": {
          "model_module": "@jupyter-widgets/controls",
          "model_name": "DescriptionStyleModel",
          "model_module_version": "1.5.0",
          "state": {
            "_model_module": "@jupyter-widgets/controls",
            "_model_module_version": "1.5.0",
            "_model_name": "DescriptionStyleModel",
            "_view_count": null,
            "_view_module": "@jupyter-widgets/base",
            "_view_module_version": "1.2.0",
            "_view_name": "StyleView",
            "description_width": ""
          }
        },
        "c29e1914b4934ee594d4cb7df8fe9607": {
          "model_module": "@jupyter-widgets/controls",
          "model_name": "HBoxModel",
          "model_module_version": "1.5.0",
          "state": {
            "_dom_classes": [],
            "_model_module": "@jupyter-widgets/controls",
            "_model_module_version": "1.5.0",
            "_model_name": "HBoxModel",
            "_view_count": null,
            "_view_module": "@jupyter-widgets/controls",
            "_view_module_version": "1.5.0",
            "_view_name": "HBoxView",
            "box_style": "",
            "children": [
              "IPY_MODEL_97fde1d683984c52a820456b54656009",
              "IPY_MODEL_1a5bdcca4d4a4eab986637fa8eee72cb",
              "IPY_MODEL_b796a9a8d18d4e89aeb634a85dbb25f3"
            ],
            "layout": "IPY_MODEL_e0042e145a534e1f96d038263e209c5c"
          }
        },
        "97fde1d683984c52a820456b54656009": {
          "model_module": "@jupyter-widgets/controls",
          "model_name": "HTMLModel",
          "model_module_version": "1.5.0",
          "state": {
            "_dom_classes": [],
            "_model_module": "@jupyter-widgets/controls",
            "_model_module_version": "1.5.0",
            "_model_name": "HTMLModel",
            "_view_count": null,
            "_view_module": "@jupyter-widgets/controls",
            "_view_module_version": "1.5.0",
            "_view_name": "HTMLView",
            "description": "",
            "description_tooltip": null,
            "layout": "IPY_MODEL_9cbd1dc2a3a84b7c8b643240122ce851",
            "placeholder": "​",
            "style": "IPY_MODEL_d65943ea52844bc5aa0d9c0f819cfe27",
            "value": "100%"
          }
        },
        "1a5bdcca4d4a4eab986637fa8eee72cb": {
          "model_module": "@jupyter-widgets/controls",
          "model_name": "FloatProgressModel",
          "model_module_version": "1.5.0",
          "state": {
            "_dom_classes": [],
            "_model_module": "@jupyter-widgets/controls",
            "_model_module_version": "1.5.0",
            "_model_name": "FloatProgressModel",
            "_view_count": null,
            "_view_module": "@jupyter-widgets/controls",
            "_view_module_version": "1.5.0",
            "_view_name": "ProgressView",
            "bar_style": "success",
            "description": "",
            "description_tooltip": null,
            "layout": "IPY_MODEL_652b2091d6d74ae5894fe81936cf2c27",
            "max": 5,
            "min": 0,
            "orientation": "horizontal",
            "style": "IPY_MODEL_3e22ce4e892f4e5aa76d201572ccf063",
            "value": 5
          }
        },
        "b796a9a8d18d4e89aeb634a85dbb25f3": {
          "model_module": "@jupyter-widgets/controls",
          "model_name": "HTMLModel",
          "model_module_version": "1.5.0",
          "state": {
            "_dom_classes": [],
            "_model_module": "@jupyter-widgets/controls",
            "_model_module_version": "1.5.0",
            "_model_name": "HTMLModel",
            "_view_count": null,
            "_view_module": "@jupyter-widgets/controls",
            "_view_module_version": "1.5.0",
            "_view_name": "HTMLView",
            "description": "",
            "description_tooltip": null,
            "layout": "IPY_MODEL_d041b925899b4afbaaa8ede3a10679ec",
            "placeholder": "​",
            "style": "IPY_MODEL_84f166f37c694078accede947384933c",
            "value": " 5/5 [00:38&lt;00:00,  7.97s/it]"
          }
        },
        "e0042e145a534e1f96d038263e209c5c": {
          "model_module": "@jupyter-widgets/base",
          "model_name": "LayoutModel",
          "model_module_version": "1.2.0",
          "state": {
            "_model_module": "@jupyter-widgets/base",
            "_model_module_version": "1.2.0",
            "_model_name": "LayoutModel",
            "_view_count": null,
            "_view_module": "@jupyter-widgets/base",
            "_view_module_version": "1.2.0",
            "_view_name": "LayoutView",
            "align_content": null,
            "align_items": null,
            "align_self": null,
            "border": null,
            "bottom": null,
            "display": null,
            "flex": null,
            "flex_flow": null,
            "grid_area": null,
            "grid_auto_columns": null,
            "grid_auto_flow": null,
            "grid_auto_rows": null,
            "grid_column": null,
            "grid_gap": null,
            "grid_row": null,
            "grid_template_areas": null,
            "grid_template_columns": null,
            "grid_template_rows": null,
            "height": null,
            "justify_content": null,
            "justify_items": null,
            "left": null,
            "margin": null,
            "max_height": null,
            "max_width": null,
            "min_height": null,
            "min_width": null,
            "object_fit": null,
            "object_position": null,
            "order": null,
            "overflow": null,
            "overflow_x": null,
            "overflow_y": null,
            "padding": null,
            "right": null,
            "top": null,
            "visibility": null,
            "width": null
          }
        },
        "9cbd1dc2a3a84b7c8b643240122ce851": {
          "model_module": "@jupyter-widgets/base",
          "model_name": "LayoutModel",
          "model_module_version": "1.2.0",
          "state": {
            "_model_module": "@jupyter-widgets/base",
            "_model_module_version": "1.2.0",
            "_model_name": "LayoutModel",
            "_view_count": null,
            "_view_module": "@jupyter-widgets/base",
            "_view_module_version": "1.2.0",
            "_view_name": "LayoutView",
            "align_content": null,
            "align_items": null,
            "align_self": null,
            "border": null,
            "bottom": null,
            "display": null,
            "flex": null,
            "flex_flow": null,
            "grid_area": null,
            "grid_auto_columns": null,
            "grid_auto_flow": null,
            "grid_auto_rows": null,
            "grid_column": null,
            "grid_gap": null,
            "grid_row": null,
            "grid_template_areas": null,
            "grid_template_columns": null,
            "grid_template_rows": null,
            "height": null,
            "justify_content": null,
            "justify_items": null,
            "left": null,
            "margin": null,
            "max_height": null,
            "max_width": null,
            "min_height": null,
            "min_width": null,
            "object_fit": null,
            "object_position": null,
            "order": null,
            "overflow": null,
            "overflow_x": null,
            "overflow_y": null,
            "padding": null,
            "right": null,
            "top": null,
            "visibility": null,
            "width": null
          }
        },
        "d65943ea52844bc5aa0d9c0f819cfe27": {
          "model_module": "@jupyter-widgets/controls",
          "model_name": "DescriptionStyleModel",
          "model_module_version": "1.5.0",
          "state": {
            "_model_module": "@jupyter-widgets/controls",
            "_model_module_version": "1.5.0",
            "_model_name": "DescriptionStyleModel",
            "_view_count": null,
            "_view_module": "@jupyter-widgets/base",
            "_view_module_version": "1.2.0",
            "_view_name": "StyleView",
            "description_width": ""
          }
        },
        "652b2091d6d74ae5894fe81936cf2c27": {
          "model_module": "@jupyter-widgets/base",
          "model_name": "LayoutModel",
          "model_module_version": "1.2.0",
          "state": {
            "_model_module": "@jupyter-widgets/base",
            "_model_module_version": "1.2.0",
            "_model_name": "LayoutModel",
            "_view_count": null,
            "_view_module": "@jupyter-widgets/base",
            "_view_module_version": "1.2.0",
            "_view_name": "LayoutView",
            "align_content": null,
            "align_items": null,
            "align_self": null,
            "border": null,
            "bottom": null,
            "display": null,
            "flex": null,
            "flex_flow": null,
            "grid_area": null,
            "grid_auto_columns": null,
            "grid_auto_flow": null,
            "grid_auto_rows": null,
            "grid_column": null,
            "grid_gap": null,
            "grid_row": null,
            "grid_template_areas": null,
            "grid_template_columns": null,
            "grid_template_rows": null,
            "height": null,
            "justify_content": null,
            "justify_items": null,
            "left": null,
            "margin": null,
            "max_height": null,
            "max_width": null,
            "min_height": null,
            "min_width": null,
            "object_fit": null,
            "object_position": null,
            "order": null,
            "overflow": null,
            "overflow_x": null,
            "overflow_y": null,
            "padding": null,
            "right": null,
            "top": null,
            "visibility": null,
            "width": null
          }
        },
        "3e22ce4e892f4e5aa76d201572ccf063": {
          "model_module": "@jupyter-widgets/controls",
          "model_name": "ProgressStyleModel",
          "model_module_version": "1.5.0",
          "state": {
            "_model_module": "@jupyter-widgets/controls",
            "_model_module_version": "1.5.0",
            "_model_name": "ProgressStyleModel",
            "_view_count": null,
            "_view_module": "@jupyter-widgets/base",
            "_view_module_version": "1.2.0",
            "_view_name": "StyleView",
            "bar_color": null,
            "description_width": ""
          }
        },
        "d041b925899b4afbaaa8ede3a10679ec": {
          "model_module": "@jupyter-widgets/base",
          "model_name": "LayoutModel",
          "model_module_version": "1.2.0",
          "state": {
            "_model_module": "@jupyter-widgets/base",
            "_model_module_version": "1.2.0",
            "_model_name": "LayoutModel",
            "_view_count": null,
            "_view_module": "@jupyter-widgets/base",
            "_view_module_version": "1.2.0",
            "_view_name": "LayoutView",
            "align_content": null,
            "align_items": null,
            "align_self": null,
            "border": null,
            "bottom": null,
            "display": null,
            "flex": null,
            "flex_flow": null,
            "grid_area": null,
            "grid_auto_columns": null,
            "grid_auto_flow": null,
            "grid_auto_rows": null,
            "grid_column": null,
            "grid_gap": null,
            "grid_row": null,
            "grid_template_areas": null,
            "grid_template_columns": null,
            "grid_template_rows": null,
            "height": null,
            "justify_content": null,
            "justify_items": null,
            "left": null,
            "margin": null,
            "max_height": null,
            "max_width": null,
            "min_height": null,
            "min_width": null,
            "object_fit": null,
            "object_position": null,
            "order": null,
            "overflow": null,
            "overflow_x": null,
            "overflow_y": null,
            "padding": null,
            "right": null,
            "top": null,
            "visibility": null,
            "width": null
          }
        },
        "84f166f37c694078accede947384933c": {
          "model_module": "@jupyter-widgets/controls",
          "model_name": "DescriptionStyleModel",
          "model_module_version": "1.5.0",
          "state": {
            "_model_module": "@jupyter-widgets/controls",
            "_model_module_version": "1.5.0",
            "_model_name": "DescriptionStyleModel",
            "_view_count": null,
            "_view_module": "@jupyter-widgets/base",
            "_view_module_version": "1.2.0",
            "_view_name": "StyleView",
            "description_width": ""
          }
        },
        "bf8e41aedacf40ada75aa794dc64b521": {
          "model_module": "@jupyter-widgets/controls",
          "model_name": "HBoxModel",
          "model_module_version": "1.5.0",
          "state": {
            "_dom_classes": [],
            "_model_module": "@jupyter-widgets/controls",
            "_model_module_version": "1.5.0",
            "_model_name": "HBoxModel",
            "_view_count": null,
            "_view_module": "@jupyter-widgets/controls",
            "_view_module_version": "1.5.0",
            "_view_name": "HBoxView",
            "box_style": "",
            "children": [
              "IPY_MODEL_2559e61d500a4fdea98b973e22562f38",
              "IPY_MODEL_b33864c0d6314203bdd070edc320fa4a",
              "IPY_MODEL_a6a12ddf491343c8a36b2266bb9047de"
            ],
            "layout": "IPY_MODEL_bb0dc613d9f44fb6a3ef1084df391d58"
          }
        },
        "2559e61d500a4fdea98b973e22562f38": {
          "model_module": "@jupyter-widgets/controls",
          "model_name": "HTMLModel",
          "model_module_version": "1.5.0",
          "state": {
            "_dom_classes": [],
            "_model_module": "@jupyter-widgets/controls",
            "_model_module_version": "1.5.0",
            "_model_name": "HTMLModel",
            "_view_count": null,
            "_view_module": "@jupyter-widgets/controls",
            "_view_module_version": "1.5.0",
            "_view_name": "HTMLView",
            "description": "",
            "description_tooltip": null,
            "layout": "IPY_MODEL_27c34d24379a4c2ba5264e4eab6bd81f",
            "placeholder": "​",
            "style": "IPY_MODEL_d5bd2f49b9964a23b654c603af69b653",
            "value": "100%"
          }
        },
        "b33864c0d6314203bdd070edc320fa4a": {
          "model_module": "@jupyter-widgets/controls",
          "model_name": "FloatProgressModel",
          "model_module_version": "1.5.0",
          "state": {
            "_dom_classes": [],
            "_model_module": "@jupyter-widgets/controls",
            "_model_module_version": "1.5.0",
            "_model_name": "FloatProgressModel",
            "_view_count": null,
            "_view_module": "@jupyter-widgets/controls",
            "_view_module_version": "1.5.0",
            "_view_name": "ProgressView",
            "bar_style": "success",
            "description": "",
            "description_tooltip": null,
            "layout": "IPY_MODEL_e01ce474136941d3bf184da992d16e39",
            "max": 5,
            "min": 0,
            "orientation": "horizontal",
            "style": "IPY_MODEL_9cdc58beabb8492b91eea2b9d1e8aa02",
            "value": 5
          }
        },
        "a6a12ddf491343c8a36b2266bb9047de": {
          "model_module": "@jupyter-widgets/controls",
          "model_name": "HTMLModel",
          "model_module_version": "1.5.0",
          "state": {
            "_dom_classes": [],
            "_model_module": "@jupyter-widgets/controls",
            "_model_module_version": "1.5.0",
            "_model_name": "HTMLModel",
            "_view_count": null,
            "_view_module": "@jupyter-widgets/controls",
            "_view_module_version": "1.5.0",
            "_view_name": "HTMLView",
            "description": "",
            "description_tooltip": null,
            "layout": "IPY_MODEL_aaa95b7f59ae43e393b503a4aa016f02",
            "placeholder": "​",
            "style": "IPY_MODEL_15e69a372a264964b04747728968c170",
            "value": " 5/5 [00:49&lt;00:00,  9.52s/it]"
          }
        },
        "bb0dc613d9f44fb6a3ef1084df391d58": {
          "model_module": "@jupyter-widgets/base",
          "model_name": "LayoutModel",
          "model_module_version": "1.2.0",
          "state": {
            "_model_module": "@jupyter-widgets/base",
            "_model_module_version": "1.2.0",
            "_model_name": "LayoutModel",
            "_view_count": null,
            "_view_module": "@jupyter-widgets/base",
            "_view_module_version": "1.2.0",
            "_view_name": "LayoutView",
            "align_content": null,
            "align_items": null,
            "align_self": null,
            "border": null,
            "bottom": null,
            "display": null,
            "flex": null,
            "flex_flow": null,
            "grid_area": null,
            "grid_auto_columns": null,
            "grid_auto_flow": null,
            "grid_auto_rows": null,
            "grid_column": null,
            "grid_gap": null,
            "grid_row": null,
            "grid_template_areas": null,
            "grid_template_columns": null,
            "grid_template_rows": null,
            "height": null,
            "justify_content": null,
            "justify_items": null,
            "left": null,
            "margin": null,
            "max_height": null,
            "max_width": null,
            "min_height": null,
            "min_width": null,
            "object_fit": null,
            "object_position": null,
            "order": null,
            "overflow": null,
            "overflow_x": null,
            "overflow_y": null,
            "padding": null,
            "right": null,
            "top": null,
            "visibility": null,
            "width": null
          }
        },
        "27c34d24379a4c2ba5264e4eab6bd81f": {
          "model_module": "@jupyter-widgets/base",
          "model_name": "LayoutModel",
          "model_module_version": "1.2.0",
          "state": {
            "_model_module": "@jupyter-widgets/base",
            "_model_module_version": "1.2.0",
            "_model_name": "LayoutModel",
            "_view_count": null,
            "_view_module": "@jupyter-widgets/base",
            "_view_module_version": "1.2.0",
            "_view_name": "LayoutView",
            "align_content": null,
            "align_items": null,
            "align_self": null,
            "border": null,
            "bottom": null,
            "display": null,
            "flex": null,
            "flex_flow": null,
            "grid_area": null,
            "grid_auto_columns": null,
            "grid_auto_flow": null,
            "grid_auto_rows": null,
            "grid_column": null,
            "grid_gap": null,
            "grid_row": null,
            "grid_template_areas": null,
            "grid_template_columns": null,
            "grid_template_rows": null,
            "height": null,
            "justify_content": null,
            "justify_items": null,
            "left": null,
            "margin": null,
            "max_height": null,
            "max_width": null,
            "min_height": null,
            "min_width": null,
            "object_fit": null,
            "object_position": null,
            "order": null,
            "overflow": null,
            "overflow_x": null,
            "overflow_y": null,
            "padding": null,
            "right": null,
            "top": null,
            "visibility": null,
            "width": null
          }
        },
        "d5bd2f49b9964a23b654c603af69b653": {
          "model_module": "@jupyter-widgets/controls",
          "model_name": "DescriptionStyleModel",
          "model_module_version": "1.5.0",
          "state": {
            "_model_module": "@jupyter-widgets/controls",
            "_model_module_version": "1.5.0",
            "_model_name": "DescriptionStyleModel",
            "_view_count": null,
            "_view_module": "@jupyter-widgets/base",
            "_view_module_version": "1.2.0",
            "_view_name": "StyleView",
            "description_width": ""
          }
        },
        "e01ce474136941d3bf184da992d16e39": {
          "model_module": "@jupyter-widgets/base",
          "model_name": "LayoutModel",
          "model_module_version": "1.2.0",
          "state": {
            "_model_module": "@jupyter-widgets/base",
            "_model_module_version": "1.2.0",
            "_model_name": "LayoutModel",
            "_view_count": null,
            "_view_module": "@jupyter-widgets/base",
            "_view_module_version": "1.2.0",
            "_view_name": "LayoutView",
            "align_content": null,
            "align_items": null,
            "align_self": null,
            "border": null,
            "bottom": null,
            "display": null,
            "flex": null,
            "flex_flow": null,
            "grid_area": null,
            "grid_auto_columns": null,
            "grid_auto_flow": null,
            "grid_auto_rows": null,
            "grid_column": null,
            "grid_gap": null,
            "grid_row": null,
            "grid_template_areas": null,
            "grid_template_columns": null,
            "grid_template_rows": null,
            "height": null,
            "justify_content": null,
            "justify_items": null,
            "left": null,
            "margin": null,
            "max_height": null,
            "max_width": null,
            "min_height": null,
            "min_width": null,
            "object_fit": null,
            "object_position": null,
            "order": null,
            "overflow": null,
            "overflow_x": null,
            "overflow_y": null,
            "padding": null,
            "right": null,
            "top": null,
            "visibility": null,
            "width": null
          }
        },
        "9cdc58beabb8492b91eea2b9d1e8aa02": {
          "model_module": "@jupyter-widgets/controls",
          "model_name": "ProgressStyleModel",
          "model_module_version": "1.5.0",
          "state": {
            "_model_module": "@jupyter-widgets/controls",
            "_model_module_version": "1.5.0",
            "_model_name": "ProgressStyleModel",
            "_view_count": null,
            "_view_module": "@jupyter-widgets/base",
            "_view_module_version": "1.2.0",
            "_view_name": "StyleView",
            "bar_color": null,
            "description_width": ""
          }
        },
        "aaa95b7f59ae43e393b503a4aa016f02": {
          "model_module": "@jupyter-widgets/base",
          "model_name": "LayoutModel",
          "model_module_version": "1.2.0",
          "state": {
            "_model_module": "@jupyter-widgets/base",
            "_model_module_version": "1.2.0",
            "_model_name": "LayoutModel",
            "_view_count": null,
            "_view_module": "@jupyter-widgets/base",
            "_view_module_version": "1.2.0",
            "_view_name": "LayoutView",
            "align_content": null,
            "align_items": null,
            "align_self": null,
            "border": null,
            "bottom": null,
            "display": null,
            "flex": null,
            "flex_flow": null,
            "grid_area": null,
            "grid_auto_columns": null,
            "grid_auto_flow": null,
            "grid_auto_rows": null,
            "grid_column": null,
            "grid_gap": null,
            "grid_row": null,
            "grid_template_areas": null,
            "grid_template_columns": null,
            "grid_template_rows": null,
            "height": null,
            "justify_content": null,
            "justify_items": null,
            "left": null,
            "margin": null,
            "max_height": null,
            "max_width": null,
            "min_height": null,
            "min_width": null,
            "object_fit": null,
            "object_position": null,
            "order": null,
            "overflow": null,
            "overflow_x": null,
            "overflow_y": null,
            "padding": null,
            "right": null,
            "top": null,
            "visibility": null,
            "width": null
          }
        },
        "15e69a372a264964b04747728968c170": {
          "model_module": "@jupyter-widgets/controls",
          "model_name": "DescriptionStyleModel",
          "model_module_version": "1.5.0",
          "state": {
            "_model_module": "@jupyter-widgets/controls",
            "_model_module_version": "1.5.0",
            "_model_name": "DescriptionStyleModel",
            "_view_count": null,
            "_view_module": "@jupyter-widgets/base",
            "_view_module_version": "1.2.0",
            "_view_name": "StyleView",
            "description_width": ""
          }
        },
        "5e20f413f60c41d08d51d81d3799bab2": {
          "model_module": "@jupyter-widgets/controls",
          "model_name": "HBoxModel",
          "model_module_version": "1.5.0",
          "state": {
            "_dom_classes": [],
            "_model_module": "@jupyter-widgets/controls",
            "_model_module_version": "1.5.0",
            "_model_name": "HBoxModel",
            "_view_count": null,
            "_view_module": "@jupyter-widgets/controls",
            "_view_module_version": "1.5.0",
            "_view_name": "HBoxView",
            "box_style": "",
            "children": [
              "IPY_MODEL_3020fdac89d74526a3e26010a1377e5f",
              "IPY_MODEL_24b5a000beae4b49b62bdd78af7c346c",
              "IPY_MODEL_a0a5d723b8964c0cb225ac1d56d6e14b"
            ],
            "layout": "IPY_MODEL_a18cae090802407f9907619589a5db56"
          }
        },
        "3020fdac89d74526a3e26010a1377e5f": {
          "model_module": "@jupyter-widgets/controls",
          "model_name": "HTMLModel",
          "model_module_version": "1.5.0",
          "state": {
            "_dom_classes": [],
            "_model_module": "@jupyter-widgets/controls",
            "_model_module_version": "1.5.0",
            "_model_name": "HTMLModel",
            "_view_count": null,
            "_view_module": "@jupyter-widgets/controls",
            "_view_module_version": "1.5.0",
            "_view_name": "HTMLView",
            "description": "",
            "description_tooltip": null,
            "layout": "IPY_MODEL_c6f700e512924e8880b94890f9492ef1",
            "placeholder": "​",
            "style": "IPY_MODEL_d73d356f100142fdb72592ecc544b691",
            "value": "100%"
          }
        },
        "24b5a000beae4b49b62bdd78af7c346c": {
          "model_module": "@jupyter-widgets/controls",
          "model_name": "FloatProgressModel",
          "model_module_version": "1.5.0",
          "state": {
            "_dom_classes": [],
            "_model_module": "@jupyter-widgets/controls",
            "_model_module_version": "1.5.0",
            "_model_name": "FloatProgressModel",
            "_view_count": null,
            "_view_module": "@jupyter-widgets/controls",
            "_view_module_version": "1.5.0",
            "_view_name": "ProgressView",
            "bar_style": "success",
            "description": "",
            "description_tooltip": null,
            "layout": "IPY_MODEL_cbd513a399f64ef7bb07c15163db5dcd",
            "max": 5,
            "min": 0,
            "orientation": "horizontal",
            "style": "IPY_MODEL_df39f328543244d0956200268f39898c",
            "value": 5
          }
        },
        "a0a5d723b8964c0cb225ac1d56d6e14b": {
          "model_module": "@jupyter-widgets/controls",
          "model_name": "HTMLModel",
          "model_module_version": "1.5.0",
          "state": {
            "_dom_classes": [],
            "_model_module": "@jupyter-widgets/controls",
            "_model_module_version": "1.5.0",
            "_model_name": "HTMLModel",
            "_view_count": null,
            "_view_module": "@jupyter-widgets/controls",
            "_view_module_version": "1.5.0",
            "_view_name": "HTMLView",
            "description": "",
            "description_tooltip": null,
            "layout": "IPY_MODEL_dc754d60d8584a7f893efc9c4350d2e4",
            "placeholder": "​",
            "style": "IPY_MODEL_7852a185c71f44b69a2cd84249a92997",
            "value": " 5/5 [01:00&lt;00:00, 11.41s/it]"
          }
        },
        "a18cae090802407f9907619589a5db56": {
          "model_module": "@jupyter-widgets/base",
          "model_name": "LayoutModel",
          "model_module_version": "1.2.0",
          "state": {
            "_model_module": "@jupyter-widgets/base",
            "_model_module_version": "1.2.0",
            "_model_name": "LayoutModel",
            "_view_count": null,
            "_view_module": "@jupyter-widgets/base",
            "_view_module_version": "1.2.0",
            "_view_name": "LayoutView",
            "align_content": null,
            "align_items": null,
            "align_self": null,
            "border": null,
            "bottom": null,
            "display": null,
            "flex": null,
            "flex_flow": null,
            "grid_area": null,
            "grid_auto_columns": null,
            "grid_auto_flow": null,
            "grid_auto_rows": null,
            "grid_column": null,
            "grid_gap": null,
            "grid_row": null,
            "grid_template_areas": null,
            "grid_template_columns": null,
            "grid_template_rows": null,
            "height": null,
            "justify_content": null,
            "justify_items": null,
            "left": null,
            "margin": null,
            "max_height": null,
            "max_width": null,
            "min_height": null,
            "min_width": null,
            "object_fit": null,
            "object_position": null,
            "order": null,
            "overflow": null,
            "overflow_x": null,
            "overflow_y": null,
            "padding": null,
            "right": null,
            "top": null,
            "visibility": null,
            "width": null
          }
        },
        "c6f700e512924e8880b94890f9492ef1": {
          "model_module": "@jupyter-widgets/base",
          "model_name": "LayoutModel",
          "model_module_version": "1.2.0",
          "state": {
            "_model_module": "@jupyter-widgets/base",
            "_model_module_version": "1.2.0",
            "_model_name": "LayoutModel",
            "_view_count": null,
            "_view_module": "@jupyter-widgets/base",
            "_view_module_version": "1.2.0",
            "_view_name": "LayoutView",
            "align_content": null,
            "align_items": null,
            "align_self": null,
            "border": null,
            "bottom": null,
            "display": null,
            "flex": null,
            "flex_flow": null,
            "grid_area": null,
            "grid_auto_columns": null,
            "grid_auto_flow": null,
            "grid_auto_rows": null,
            "grid_column": null,
            "grid_gap": null,
            "grid_row": null,
            "grid_template_areas": null,
            "grid_template_columns": null,
            "grid_template_rows": null,
            "height": null,
            "justify_content": null,
            "justify_items": null,
            "left": null,
            "margin": null,
            "max_height": null,
            "max_width": null,
            "min_height": null,
            "min_width": null,
            "object_fit": null,
            "object_position": null,
            "order": null,
            "overflow": null,
            "overflow_x": null,
            "overflow_y": null,
            "padding": null,
            "right": null,
            "top": null,
            "visibility": null,
            "width": null
          }
        },
        "d73d356f100142fdb72592ecc544b691": {
          "model_module": "@jupyter-widgets/controls",
          "model_name": "DescriptionStyleModel",
          "model_module_version": "1.5.0",
          "state": {
            "_model_module": "@jupyter-widgets/controls",
            "_model_module_version": "1.5.0",
            "_model_name": "DescriptionStyleModel",
            "_view_count": null,
            "_view_module": "@jupyter-widgets/base",
            "_view_module_version": "1.2.0",
            "_view_name": "StyleView",
            "description_width": ""
          }
        },
        "cbd513a399f64ef7bb07c15163db5dcd": {
          "model_module": "@jupyter-widgets/base",
          "model_name": "LayoutModel",
          "model_module_version": "1.2.0",
          "state": {
            "_model_module": "@jupyter-widgets/base",
            "_model_module_version": "1.2.0",
            "_model_name": "LayoutModel",
            "_view_count": null,
            "_view_module": "@jupyter-widgets/base",
            "_view_module_version": "1.2.0",
            "_view_name": "LayoutView",
            "align_content": null,
            "align_items": null,
            "align_self": null,
            "border": null,
            "bottom": null,
            "display": null,
            "flex": null,
            "flex_flow": null,
            "grid_area": null,
            "grid_auto_columns": null,
            "grid_auto_flow": null,
            "grid_auto_rows": null,
            "grid_column": null,
            "grid_gap": null,
            "grid_row": null,
            "grid_template_areas": null,
            "grid_template_columns": null,
            "grid_template_rows": null,
            "height": null,
            "justify_content": null,
            "justify_items": null,
            "left": null,
            "margin": null,
            "max_height": null,
            "max_width": null,
            "min_height": null,
            "min_width": null,
            "object_fit": null,
            "object_position": null,
            "order": null,
            "overflow": null,
            "overflow_x": null,
            "overflow_y": null,
            "padding": null,
            "right": null,
            "top": null,
            "visibility": null,
            "width": null
          }
        },
        "df39f328543244d0956200268f39898c": {
          "model_module": "@jupyter-widgets/controls",
          "model_name": "ProgressStyleModel",
          "model_module_version": "1.5.0",
          "state": {
            "_model_module": "@jupyter-widgets/controls",
            "_model_module_version": "1.5.0",
            "_model_name": "ProgressStyleModel",
            "_view_count": null,
            "_view_module": "@jupyter-widgets/base",
            "_view_module_version": "1.2.0",
            "_view_name": "StyleView",
            "bar_color": null,
            "description_width": ""
          }
        },
        "dc754d60d8584a7f893efc9c4350d2e4": {
          "model_module": "@jupyter-widgets/base",
          "model_name": "LayoutModel",
          "model_module_version": "1.2.0",
          "state": {
            "_model_module": "@jupyter-widgets/base",
            "_model_module_version": "1.2.0",
            "_model_name": "LayoutModel",
            "_view_count": null,
            "_view_module": "@jupyter-widgets/base",
            "_view_module_version": "1.2.0",
            "_view_name": "LayoutView",
            "align_content": null,
            "align_items": null,
            "align_self": null,
            "border": null,
            "bottom": null,
            "display": null,
            "flex": null,
            "flex_flow": null,
            "grid_area": null,
            "grid_auto_columns": null,
            "grid_auto_flow": null,
            "grid_auto_rows": null,
            "grid_column": null,
            "grid_gap": null,
            "grid_row": null,
            "grid_template_areas": null,
            "grid_template_columns": null,
            "grid_template_rows": null,
            "height": null,
            "justify_content": null,
            "justify_items": null,
            "left": null,
            "margin": null,
            "max_height": null,
            "max_width": null,
            "min_height": null,
            "min_width": null,
            "object_fit": null,
            "object_position": null,
            "order": null,
            "overflow": null,
            "overflow_x": null,
            "overflow_y": null,
            "padding": null,
            "right": null,
            "top": null,
            "visibility": null,
            "width": null
          }
        },
        "7852a185c71f44b69a2cd84249a92997": {
          "model_module": "@jupyter-widgets/controls",
          "model_name": "DescriptionStyleModel",
          "model_module_version": "1.5.0",
          "state": {
            "_model_module": "@jupyter-widgets/controls",
            "_model_module_version": "1.5.0",
            "_model_name": "DescriptionStyleModel",
            "_view_count": null,
            "_view_module": "@jupyter-widgets/base",
            "_view_module_version": "1.2.0",
            "_view_name": "StyleView",
            "description_width": ""
          }
        },
        "79b260294d90473aa837bc0ebb1d626e": {
          "model_module": "@jupyter-widgets/controls",
          "model_name": "HBoxModel",
          "model_module_version": "1.5.0",
          "state": {
            "_dom_classes": [],
            "_model_module": "@jupyter-widgets/controls",
            "_model_module_version": "1.5.0",
            "_model_name": "HBoxModel",
            "_view_count": null,
            "_view_module": "@jupyter-widgets/controls",
            "_view_module_version": "1.5.0",
            "_view_name": "HBoxView",
            "box_style": "",
            "children": [
              "IPY_MODEL_cec89406991f42d79ba440280b600ecb",
              "IPY_MODEL_a3329c4a703f4a4aba83854bb67ed0d5",
              "IPY_MODEL_ed1c24eee8c0422b8fba934767fd70eb"
            ],
            "layout": "IPY_MODEL_dec44cf7bb3c48d1bbde290c730b318d"
          }
        },
        "cec89406991f42d79ba440280b600ecb": {
          "model_module": "@jupyter-widgets/controls",
          "model_name": "HTMLModel",
          "model_module_version": "1.5.0",
          "state": {
            "_dom_classes": [],
            "_model_module": "@jupyter-widgets/controls",
            "_model_module_version": "1.5.0",
            "_model_name": "HTMLModel",
            "_view_count": null,
            "_view_module": "@jupyter-widgets/controls",
            "_view_module_version": "1.5.0",
            "_view_name": "HTMLView",
            "description": "",
            "description_tooltip": null,
            "layout": "IPY_MODEL_5a328bb14303437f80ef16be74c740fd",
            "placeholder": "​",
            "style": "IPY_MODEL_7e2d6aebe89d4ccc932c07b8edbb9bc3",
            "value": "Making Predictions: 100%"
          }
        },
        "a3329c4a703f4a4aba83854bb67ed0d5": {
          "model_module": "@jupyter-widgets/controls",
          "model_name": "FloatProgressModel",
          "model_module_version": "1.5.0",
          "state": {
            "_dom_classes": [],
            "_model_module": "@jupyter-widgets/controls",
            "_model_module_version": "1.5.0",
            "_model_name": "FloatProgressModel",
            "_view_count": null,
            "_view_module": "@jupyter-widgets/controls",
            "_view_module_version": "1.5.0",
            "_view_name": "ProgressView",
            "bar_style": "success",
            "description": "",
            "description_tooltip": null,
            "layout": "IPY_MODEL_7eb23d9a837949bab016700f16b80d3d",
            "max": 313,
            "min": 0,
            "orientation": "horizontal",
            "style": "IPY_MODEL_06766aee9fed40479d63101907a7574d",
            "value": 313
          }
        },
        "ed1c24eee8c0422b8fba934767fd70eb": {
          "model_module": "@jupyter-widgets/controls",
          "model_name": "HTMLModel",
          "model_module_version": "1.5.0",
          "state": {
            "_dom_classes": [],
            "_model_module": "@jupyter-widgets/controls",
            "_model_module_version": "1.5.0",
            "_model_name": "HTMLModel",
            "_view_count": null,
            "_view_module": "@jupyter-widgets/controls",
            "_view_module_version": "1.5.0",
            "_view_name": "HTMLView",
            "description": "",
            "description_tooltip": null,
            "layout": "IPY_MODEL_5aa6c6a020944165879088a0f0598434",
            "placeholder": "​",
            "style": "IPY_MODEL_d89d9460cdfd49ed8f338e0798044757",
            "value": " 313/313 [00:01&lt;00:00, 298.14it/s]"
          }
        },
        "dec44cf7bb3c48d1bbde290c730b318d": {
          "model_module": "@jupyter-widgets/base",
          "model_name": "LayoutModel",
          "model_module_version": "1.2.0",
          "state": {
            "_model_module": "@jupyter-widgets/base",
            "_model_module_version": "1.2.0",
            "_model_name": "LayoutModel",
            "_view_count": null,
            "_view_module": "@jupyter-widgets/base",
            "_view_module_version": "1.2.0",
            "_view_name": "LayoutView",
            "align_content": null,
            "align_items": null,
            "align_self": null,
            "border": null,
            "bottom": null,
            "display": null,
            "flex": null,
            "flex_flow": null,
            "grid_area": null,
            "grid_auto_columns": null,
            "grid_auto_flow": null,
            "grid_auto_rows": null,
            "grid_column": null,
            "grid_gap": null,
            "grid_row": null,
            "grid_template_areas": null,
            "grid_template_columns": null,
            "grid_template_rows": null,
            "height": null,
            "justify_content": null,
            "justify_items": null,
            "left": null,
            "margin": null,
            "max_height": null,
            "max_width": null,
            "min_height": null,
            "min_width": null,
            "object_fit": null,
            "object_position": null,
            "order": null,
            "overflow": null,
            "overflow_x": null,
            "overflow_y": null,
            "padding": null,
            "right": null,
            "top": null,
            "visibility": null,
            "width": null
          }
        },
        "5a328bb14303437f80ef16be74c740fd": {
          "model_module": "@jupyter-widgets/base",
          "model_name": "LayoutModel",
          "model_module_version": "1.2.0",
          "state": {
            "_model_module": "@jupyter-widgets/base",
            "_model_module_version": "1.2.0",
            "_model_name": "LayoutModel",
            "_view_count": null,
            "_view_module": "@jupyter-widgets/base",
            "_view_module_version": "1.2.0",
            "_view_name": "LayoutView",
            "align_content": null,
            "align_items": null,
            "align_self": null,
            "border": null,
            "bottom": null,
            "display": null,
            "flex": null,
            "flex_flow": null,
            "grid_area": null,
            "grid_auto_columns": null,
            "grid_auto_flow": null,
            "grid_auto_rows": null,
            "grid_column": null,
            "grid_gap": null,
            "grid_row": null,
            "grid_template_areas": null,
            "grid_template_columns": null,
            "grid_template_rows": null,
            "height": null,
            "justify_content": null,
            "justify_items": null,
            "left": null,
            "margin": null,
            "max_height": null,
            "max_width": null,
            "min_height": null,
            "min_width": null,
            "object_fit": null,
            "object_position": null,
            "order": null,
            "overflow": null,
            "overflow_x": null,
            "overflow_y": null,
            "padding": null,
            "right": null,
            "top": null,
            "visibility": null,
            "width": null
          }
        },
        "7e2d6aebe89d4ccc932c07b8edbb9bc3": {
          "model_module": "@jupyter-widgets/controls",
          "model_name": "DescriptionStyleModel",
          "model_module_version": "1.5.0",
          "state": {
            "_model_module": "@jupyter-widgets/controls",
            "_model_module_version": "1.5.0",
            "_model_name": "DescriptionStyleModel",
            "_view_count": null,
            "_view_module": "@jupyter-widgets/base",
            "_view_module_version": "1.2.0",
            "_view_name": "StyleView",
            "description_width": ""
          }
        },
        "7eb23d9a837949bab016700f16b80d3d": {
          "model_module": "@jupyter-widgets/base",
          "model_name": "LayoutModel",
          "model_module_version": "1.2.0",
          "state": {
            "_model_module": "@jupyter-widgets/base",
            "_model_module_version": "1.2.0",
            "_model_name": "LayoutModel",
            "_view_count": null,
            "_view_module": "@jupyter-widgets/base",
            "_view_module_version": "1.2.0",
            "_view_name": "LayoutView",
            "align_content": null,
            "align_items": null,
            "align_self": null,
            "border": null,
            "bottom": null,
            "display": null,
            "flex": null,
            "flex_flow": null,
            "grid_area": null,
            "grid_auto_columns": null,
            "grid_auto_flow": null,
            "grid_auto_rows": null,
            "grid_column": null,
            "grid_gap": null,
            "grid_row": null,
            "grid_template_areas": null,
            "grid_template_columns": null,
            "grid_template_rows": null,
            "height": null,
            "justify_content": null,
            "justify_items": null,
            "left": null,
            "margin": null,
            "max_height": null,
            "max_width": null,
            "min_height": null,
            "min_width": null,
            "object_fit": null,
            "object_position": null,
            "order": null,
            "overflow": null,
            "overflow_x": null,
            "overflow_y": null,
            "padding": null,
            "right": null,
            "top": null,
            "visibility": null,
            "width": null
          }
        },
        "06766aee9fed40479d63101907a7574d": {
          "model_module": "@jupyter-widgets/controls",
          "model_name": "ProgressStyleModel",
          "model_module_version": "1.5.0",
          "state": {
            "_model_module": "@jupyter-widgets/controls",
            "_model_module_version": "1.5.0",
            "_model_name": "ProgressStyleModel",
            "_view_count": null,
            "_view_module": "@jupyter-widgets/base",
            "_view_module_version": "1.2.0",
            "_view_name": "StyleView",
            "bar_color": null,
            "description_width": ""
          }
        },
        "5aa6c6a020944165879088a0f0598434": {
          "model_module": "@jupyter-widgets/base",
          "model_name": "LayoutModel",
          "model_module_version": "1.2.0",
          "state": {
            "_model_module": "@jupyter-widgets/base",
            "_model_module_version": "1.2.0",
            "_model_name": "LayoutModel",
            "_view_count": null,
            "_view_module": "@jupyter-widgets/base",
            "_view_module_version": "1.2.0",
            "_view_name": "LayoutView",
            "align_content": null,
            "align_items": null,
            "align_self": null,
            "border": null,
            "bottom": null,
            "display": null,
            "flex": null,
            "flex_flow": null,
            "grid_area": null,
            "grid_auto_columns": null,
            "grid_auto_flow": null,
            "grid_auto_rows": null,
            "grid_column": null,
            "grid_gap": null,
            "grid_row": null,
            "grid_template_areas": null,
            "grid_template_columns": null,
            "grid_template_rows": null,
            "height": null,
            "justify_content": null,
            "justify_items": null,
            "left": null,
            "margin": null,
            "max_height": null,
            "max_width": null,
            "min_height": null,
            "min_width": null,
            "object_fit": null,
            "object_position": null,
            "order": null,
            "overflow": null,
            "overflow_x": null,
            "overflow_y": null,
            "padding": null,
            "right": null,
            "top": null,
            "visibility": null,
            "width": null
          }
        },
        "d89d9460cdfd49ed8f338e0798044757": {
          "model_module": "@jupyter-widgets/controls",
          "model_name": "DescriptionStyleModel",
          "model_module_version": "1.5.0",
          "state": {
            "_model_module": "@jupyter-widgets/controls",
            "_model_module_version": "1.5.0",
            "_model_name": "DescriptionStyleModel",
            "_view_count": null,
            "_view_module": "@jupyter-widgets/base",
            "_view_module_version": "1.2.0",
            "_view_name": "StyleView",
            "description_width": ""
          }
        },
        "db409eab7e864e56a0717e0ef79c64ed": {
          "model_module": "@jupyter-widgets/controls",
          "model_name": "VBoxModel",
          "model_module_version": "1.5.0",
          "state": {
            "_dom_classes": [],
            "_model_module": "@jupyter-widgets/controls",
            "_model_module_version": "1.5.0",
            "_model_name": "VBoxModel",
            "_view_count": null,
            "_view_module": "@jupyter-widgets/controls",
            "_view_module_version": "1.5.0",
            "_view_name": "VBoxView",
            "box_style": "",
            "children": [
              "IPY_MODEL_669c61a773a943ca8563bf6e410607fe",
              "IPY_MODEL_4d42e5da17a0442a8efcd853123aed50"
            ],
            "layout": "IPY_MODEL_c2bafce486ae47aea813729f1028c60b"
          }
        },
        "669c61a773a943ca8563bf6e410607fe": {
          "model_module": "@jupyter-widgets/controls",
          "model_name": "LabelModel",
          "model_module_version": "1.5.0",
          "state": {
            "_dom_classes": [],
            "_model_module": "@jupyter-widgets/controls",
            "_model_module_version": "1.5.0",
            "_model_name": "LabelModel",
            "_view_count": null,
            "_view_module": "@jupyter-widgets/controls",
            "_view_module_version": "1.5.0",
            "_view_name": "LabelView",
            "description": "",
            "description_tooltip": null,
            "layout": "IPY_MODEL_e58869e049d14bcbae4a7bdde6078ba2",
            "placeholder": "​",
            "style": "IPY_MODEL_82c940ea30594990a8706ec0c532ba61",
            "value": "0.001 MB of 0.008 MB uploaded (0.000 MB deduped)\r"
          }
        },
        "4d42e5da17a0442a8efcd853123aed50": {
          "model_module": "@jupyter-widgets/controls",
          "model_name": "FloatProgressModel",
          "model_module_version": "1.5.0",
          "state": {
            "_dom_classes": [],
            "_model_module": "@jupyter-widgets/controls",
            "_model_module_version": "1.5.0",
            "_model_name": "FloatProgressModel",
            "_view_count": null,
            "_view_module": "@jupyter-widgets/controls",
            "_view_module_version": "1.5.0",
            "_view_name": "ProgressView",
            "bar_style": "",
            "description": "",
            "description_tooltip": null,
            "layout": "IPY_MODEL_b6988377cd344affb7ac3c4105b5a685",
            "max": 1,
            "min": 0,
            "orientation": "horizontal",
            "style": "IPY_MODEL_a911ce12d8c24e238c2cbc2b33a84d00",
            "value": 0.08578846370922226
          }
        },
        "c2bafce486ae47aea813729f1028c60b": {
          "model_module": "@jupyter-widgets/base",
          "model_name": "LayoutModel",
          "model_module_version": "1.2.0",
          "state": {
            "_model_module": "@jupyter-widgets/base",
            "_model_module_version": "1.2.0",
            "_model_name": "LayoutModel",
            "_view_count": null,
            "_view_module": "@jupyter-widgets/base",
            "_view_module_version": "1.2.0",
            "_view_name": "LayoutView",
            "align_content": null,
            "align_items": null,
            "align_self": null,
            "border": null,
            "bottom": null,
            "display": null,
            "flex": null,
            "flex_flow": null,
            "grid_area": null,
            "grid_auto_columns": null,
            "grid_auto_flow": null,
            "grid_auto_rows": null,
            "grid_column": null,
            "grid_gap": null,
            "grid_row": null,
            "grid_template_areas": null,
            "grid_template_columns": null,
            "grid_template_rows": null,
            "height": null,
            "justify_content": null,
            "justify_items": null,
            "left": null,
            "margin": null,
            "max_height": null,
            "max_width": null,
            "min_height": null,
            "min_width": null,
            "object_fit": null,
            "object_position": null,
            "order": null,
            "overflow": null,
            "overflow_x": null,
            "overflow_y": null,
            "padding": null,
            "right": null,
            "top": null,
            "visibility": null,
            "width": null
          }
        },
        "e58869e049d14bcbae4a7bdde6078ba2": {
          "model_module": "@jupyter-widgets/base",
          "model_name": "LayoutModel",
          "model_module_version": "1.2.0",
          "state": {
            "_model_module": "@jupyter-widgets/base",
            "_model_module_version": "1.2.0",
            "_model_name": "LayoutModel",
            "_view_count": null,
            "_view_module": "@jupyter-widgets/base",
            "_view_module_version": "1.2.0",
            "_view_name": "LayoutView",
            "align_content": null,
            "align_items": null,
            "align_self": null,
            "border": null,
            "bottom": null,
            "display": null,
            "flex": null,
            "flex_flow": null,
            "grid_area": null,
            "grid_auto_columns": null,
            "grid_auto_flow": null,
            "grid_auto_rows": null,
            "grid_column": null,
            "grid_gap": null,
            "grid_row": null,
            "grid_template_areas": null,
            "grid_template_columns": null,
            "grid_template_rows": null,
            "height": null,
            "justify_content": null,
            "justify_items": null,
            "left": null,
            "margin": null,
            "max_height": null,
            "max_width": null,
            "min_height": null,
            "min_width": null,
            "object_fit": null,
            "object_position": null,
            "order": null,
            "overflow": null,
            "overflow_x": null,
            "overflow_y": null,
            "padding": null,
            "right": null,
            "top": null,
            "visibility": null,
            "width": null
          }
        },
        "82c940ea30594990a8706ec0c532ba61": {
          "model_module": "@jupyter-widgets/controls",
          "model_name": "DescriptionStyleModel",
          "model_module_version": "1.5.0",
          "state": {
            "_model_module": "@jupyter-widgets/controls",
            "_model_module_version": "1.5.0",
            "_model_name": "DescriptionStyleModel",
            "_view_count": null,
            "_view_module": "@jupyter-widgets/base",
            "_view_module_version": "1.2.0",
            "_view_name": "StyleView",
            "description_width": ""
          }
        },
        "b6988377cd344affb7ac3c4105b5a685": {
          "model_module": "@jupyter-widgets/base",
          "model_name": "LayoutModel",
          "model_module_version": "1.2.0",
          "state": {
            "_model_module": "@jupyter-widgets/base",
            "_model_module_version": "1.2.0",
            "_model_name": "LayoutModel",
            "_view_count": null,
            "_view_module": "@jupyter-widgets/base",
            "_view_module_version": "1.2.0",
            "_view_name": "LayoutView",
            "align_content": null,
            "align_items": null,
            "align_self": null,
            "border": null,
            "bottom": null,
            "display": null,
            "flex": null,
            "flex_flow": null,
            "grid_area": null,
            "grid_auto_columns": null,
            "grid_auto_flow": null,
            "grid_auto_rows": null,
            "grid_column": null,
            "grid_gap": null,
            "grid_row": null,
            "grid_template_areas": null,
            "grid_template_columns": null,
            "grid_template_rows": null,
            "height": null,
            "justify_content": null,
            "justify_items": null,
            "left": null,
            "margin": null,
            "max_height": null,
            "max_width": null,
            "min_height": null,
            "min_width": null,
            "object_fit": null,
            "object_position": null,
            "order": null,
            "overflow": null,
            "overflow_x": null,
            "overflow_y": null,
            "padding": null,
            "right": null,
            "top": null,
            "visibility": null,
            "width": null
          }
        },
        "a911ce12d8c24e238c2cbc2b33a84d00": {
          "model_module": "@jupyter-widgets/controls",
          "model_name": "ProgressStyleModel",
          "model_module_version": "1.5.0",
          "state": {
            "_model_module": "@jupyter-widgets/controls",
            "_model_module_version": "1.5.0",
            "_model_name": "ProgressStyleModel",
            "_view_count": null,
            "_view_module": "@jupyter-widgets/base",
            "_view_module_version": "1.2.0",
            "_view_name": "StyleView",
            "bar_color": null,
            "description_width": ""
          }
        },
        "e88531262c804f2bb77020b0259f2d41": {
          "model_module": "@jupyter-widgets/controls",
          "model_name": "HBoxModel",
          "model_module_version": "1.5.0",
          "state": {
            "_dom_classes": [],
            "_model_module": "@jupyter-widgets/controls",
            "_model_module_version": "1.5.0",
            "_model_name": "HBoxModel",
            "_view_count": null,
            "_view_module": "@jupyter-widgets/controls",
            "_view_module_version": "1.5.0",
            "_view_name": "HBoxView",
            "box_style": "",
            "children": [
              "IPY_MODEL_76dfaeb19aaa45b38bb0c645884059f2",
              "IPY_MODEL_e8f0e7e82b8641d6bb3c66d1b8e68041",
              "IPY_MODEL_baf5e05352034a89b7c1c1f21c8ab656"
            ],
            "layout": "IPY_MODEL_5b145ab5783747ee826d20410abc82ba"
          }
        },
        "76dfaeb19aaa45b38bb0c645884059f2": {
          "model_module": "@jupyter-widgets/controls",
          "model_name": "HTMLModel",
          "model_module_version": "1.5.0",
          "state": {
            "_dom_classes": [],
            "_model_module": "@jupyter-widgets/controls",
            "_model_module_version": "1.5.0",
            "_model_name": "HTMLModel",
            "_view_count": null,
            "_view_module": "@jupyter-widgets/controls",
            "_view_module_version": "1.5.0",
            "_view_name": "HTMLView",
            "description": "",
            "description_tooltip": null,
            "layout": "IPY_MODEL_411205ac7bfc4c24999456b31a02c512",
            "placeholder": "​",
            "style": "IPY_MODEL_083d0edad70e4af8989bc6aa8a48f5e6",
            "value": "100%"
          }
        },
        "e8f0e7e82b8641d6bb3c66d1b8e68041": {
          "model_module": "@jupyter-widgets/controls",
          "model_name": "FloatProgressModel",
          "model_module_version": "1.5.0",
          "state": {
            "_dom_classes": [],
            "_model_module": "@jupyter-widgets/controls",
            "_model_module_version": "1.5.0",
            "_model_name": "FloatProgressModel",
            "_view_count": null,
            "_view_module": "@jupyter-widgets/controls",
            "_view_module_version": "1.5.0",
            "_view_name": "ProgressView",
            "bar_style": "success",
            "description": "",
            "description_tooltip": null,
            "layout": "IPY_MODEL_33d1151149b2428682800fb0acfc8a75",
            "max": 3,
            "min": 0,
            "orientation": "horizontal",
            "style": "IPY_MODEL_94733f1e2d9945e4aa4a24ab2de48452",
            "value": 3
          }
        },
        "baf5e05352034a89b7c1c1f21c8ab656": {
          "model_module": "@jupyter-widgets/controls",
          "model_name": "HTMLModel",
          "model_module_version": "1.5.0",
          "state": {
            "_dom_classes": [],
            "_model_module": "@jupyter-widgets/controls",
            "_model_module_version": "1.5.0",
            "_model_name": "HTMLModel",
            "_view_count": null,
            "_view_module": "@jupyter-widgets/controls",
            "_view_module_version": "1.5.0",
            "_view_name": "HTMLView",
            "description": "",
            "description_tooltip": null,
            "layout": "IPY_MODEL_2bb795d9ae0b4990a6128d6afce40b46",
            "placeholder": "​",
            "style": "IPY_MODEL_654fc4ec986f4f5a8098bfec2a1c7235",
            "value": " 3/3 [00:31&lt;00:00, 10.65s/it]"
          }
        },
        "5b145ab5783747ee826d20410abc82ba": {
          "model_module": "@jupyter-widgets/base",
          "model_name": "LayoutModel",
          "model_module_version": "1.2.0",
          "state": {
            "_model_module": "@jupyter-widgets/base",
            "_model_module_version": "1.2.0",
            "_model_name": "LayoutModel",
            "_view_count": null,
            "_view_module": "@jupyter-widgets/base",
            "_view_module_version": "1.2.0",
            "_view_name": "LayoutView",
            "align_content": null,
            "align_items": null,
            "align_self": null,
            "border": null,
            "bottom": null,
            "display": null,
            "flex": null,
            "flex_flow": null,
            "grid_area": null,
            "grid_auto_columns": null,
            "grid_auto_flow": null,
            "grid_auto_rows": null,
            "grid_column": null,
            "grid_gap": null,
            "grid_row": null,
            "grid_template_areas": null,
            "grid_template_columns": null,
            "grid_template_rows": null,
            "height": null,
            "justify_content": null,
            "justify_items": null,
            "left": null,
            "margin": null,
            "max_height": null,
            "max_width": null,
            "min_height": null,
            "min_width": null,
            "object_fit": null,
            "object_position": null,
            "order": null,
            "overflow": null,
            "overflow_x": null,
            "overflow_y": null,
            "padding": null,
            "right": null,
            "top": null,
            "visibility": null,
            "width": null
          }
        },
        "411205ac7bfc4c24999456b31a02c512": {
          "model_module": "@jupyter-widgets/base",
          "model_name": "LayoutModel",
          "model_module_version": "1.2.0",
          "state": {
            "_model_module": "@jupyter-widgets/base",
            "_model_module_version": "1.2.0",
            "_model_name": "LayoutModel",
            "_view_count": null,
            "_view_module": "@jupyter-widgets/base",
            "_view_module_version": "1.2.0",
            "_view_name": "LayoutView",
            "align_content": null,
            "align_items": null,
            "align_self": null,
            "border": null,
            "bottom": null,
            "display": null,
            "flex": null,
            "flex_flow": null,
            "grid_area": null,
            "grid_auto_columns": null,
            "grid_auto_flow": null,
            "grid_auto_rows": null,
            "grid_column": null,
            "grid_gap": null,
            "grid_row": null,
            "grid_template_areas": null,
            "grid_template_columns": null,
            "grid_template_rows": null,
            "height": null,
            "justify_content": null,
            "justify_items": null,
            "left": null,
            "margin": null,
            "max_height": null,
            "max_width": null,
            "min_height": null,
            "min_width": null,
            "object_fit": null,
            "object_position": null,
            "order": null,
            "overflow": null,
            "overflow_x": null,
            "overflow_y": null,
            "padding": null,
            "right": null,
            "top": null,
            "visibility": null,
            "width": null
          }
        },
        "083d0edad70e4af8989bc6aa8a48f5e6": {
          "model_module": "@jupyter-widgets/controls",
          "model_name": "DescriptionStyleModel",
          "model_module_version": "1.5.0",
          "state": {
            "_model_module": "@jupyter-widgets/controls",
            "_model_module_version": "1.5.0",
            "_model_name": "DescriptionStyleModel",
            "_view_count": null,
            "_view_module": "@jupyter-widgets/base",
            "_view_module_version": "1.2.0",
            "_view_name": "StyleView",
            "description_width": ""
          }
        },
        "33d1151149b2428682800fb0acfc8a75": {
          "model_module": "@jupyter-widgets/base",
          "model_name": "LayoutModel",
          "model_module_version": "1.2.0",
          "state": {
            "_model_module": "@jupyter-widgets/base",
            "_model_module_version": "1.2.0",
            "_model_name": "LayoutModel",
            "_view_count": null,
            "_view_module": "@jupyter-widgets/base",
            "_view_module_version": "1.2.0",
            "_view_name": "LayoutView",
            "align_content": null,
            "align_items": null,
            "align_self": null,
            "border": null,
            "bottom": null,
            "display": null,
            "flex": null,
            "flex_flow": null,
            "grid_area": null,
            "grid_auto_columns": null,
            "grid_auto_flow": null,
            "grid_auto_rows": null,
            "grid_column": null,
            "grid_gap": null,
            "grid_row": null,
            "grid_template_areas": null,
            "grid_template_columns": null,
            "grid_template_rows": null,
            "height": null,
            "justify_content": null,
            "justify_items": null,
            "left": null,
            "margin": null,
            "max_height": null,
            "max_width": null,
            "min_height": null,
            "min_width": null,
            "object_fit": null,
            "object_position": null,
            "order": null,
            "overflow": null,
            "overflow_x": null,
            "overflow_y": null,
            "padding": null,
            "right": null,
            "top": null,
            "visibility": null,
            "width": null
          }
        },
        "94733f1e2d9945e4aa4a24ab2de48452": {
          "model_module": "@jupyter-widgets/controls",
          "model_name": "ProgressStyleModel",
          "model_module_version": "1.5.0",
          "state": {
            "_model_module": "@jupyter-widgets/controls",
            "_model_module_version": "1.5.0",
            "_model_name": "ProgressStyleModel",
            "_view_count": null,
            "_view_module": "@jupyter-widgets/base",
            "_view_module_version": "1.2.0",
            "_view_name": "StyleView",
            "bar_color": null,
            "description_width": ""
          }
        },
        "2bb795d9ae0b4990a6128d6afce40b46": {
          "model_module": "@jupyter-widgets/base",
          "model_name": "LayoutModel",
          "model_module_version": "1.2.0",
          "state": {
            "_model_module": "@jupyter-widgets/base",
            "_model_module_version": "1.2.0",
            "_model_name": "LayoutModel",
            "_view_count": null,
            "_view_module": "@jupyter-widgets/base",
            "_view_module_version": "1.2.0",
            "_view_name": "LayoutView",
            "align_content": null,
            "align_items": null,
            "align_self": null,
            "border": null,
            "bottom": null,
            "display": null,
            "flex": null,
            "flex_flow": null,
            "grid_area": null,
            "grid_auto_columns": null,
            "grid_auto_flow": null,
            "grid_auto_rows": null,
            "grid_column": null,
            "grid_gap": null,
            "grid_row": null,
            "grid_template_areas": null,
            "grid_template_columns": null,
            "grid_template_rows": null,
            "height": null,
            "justify_content": null,
            "justify_items": null,
            "left": null,
            "margin": null,
            "max_height": null,
            "max_width": null,
            "min_height": null,
            "min_width": null,
            "object_fit": null,
            "object_position": null,
            "order": null,
            "overflow": null,
            "overflow_x": null,
            "overflow_y": null,
            "padding": null,
            "right": null,
            "top": null,
            "visibility": null,
            "width": null
          }
        },
        "654fc4ec986f4f5a8098bfec2a1c7235": {
          "model_module": "@jupyter-widgets/controls",
          "model_name": "DescriptionStyleModel",
          "model_module_version": "1.5.0",
          "state": {
            "_model_module": "@jupyter-widgets/controls",
            "_model_module_version": "1.5.0",
            "_model_name": "DescriptionStyleModel",
            "_view_count": null,
            "_view_module": "@jupyter-widgets/base",
            "_view_module_version": "1.2.0",
            "_view_name": "StyleView",
            "description_width": ""
          }
        },
        "adef85b8dafb414d837e711cb1d49043": {
          "model_module": "@jupyter-widgets/controls",
          "model_name": "HBoxModel",
          "model_module_version": "1.5.0",
          "state": {
            "_dom_classes": [],
            "_model_module": "@jupyter-widgets/controls",
            "_model_module_version": "1.5.0",
            "_model_name": "HBoxModel",
            "_view_count": null,
            "_view_module": "@jupyter-widgets/controls",
            "_view_module_version": "1.5.0",
            "_view_name": "HBoxView",
            "box_style": "",
            "children": [
              "IPY_MODEL_63f0676aff864bf1b438fb502bd34fb8",
              "IPY_MODEL_7e928aa98bfd4b3c9d3143ce1642867e",
              "IPY_MODEL_36b83d9caf094afb952bf6d7981a2017"
            ],
            "layout": "IPY_MODEL_1660fdcfd13846eb8f1c8de8bfa99981"
          }
        },
        "63f0676aff864bf1b438fb502bd34fb8": {
          "model_module": "@jupyter-widgets/controls",
          "model_name": "HTMLModel",
          "model_module_version": "1.5.0",
          "state": {
            "_dom_classes": [],
            "_model_module": "@jupyter-widgets/controls",
            "_model_module_version": "1.5.0",
            "_model_name": "HTMLModel",
            "_view_count": null,
            "_view_module": "@jupyter-widgets/controls",
            "_view_module_version": "1.5.0",
            "_view_name": "HTMLView",
            "description": "",
            "description_tooltip": null,
            "layout": "IPY_MODEL_7a7dcb876618430698db74bb69ec7169",
            "placeholder": "​",
            "style": "IPY_MODEL_d73d5be4625e4417aefcfc381e7a8e4e",
            "value": "100%"
          }
        },
        "7e928aa98bfd4b3c9d3143ce1642867e": {
          "model_module": "@jupyter-widgets/controls",
          "model_name": "FloatProgressModel",
          "model_module_version": "1.5.0",
          "state": {
            "_dom_classes": [],
            "_model_module": "@jupyter-widgets/controls",
            "_model_module_version": "1.5.0",
            "_model_name": "FloatProgressModel",
            "_view_count": null,
            "_view_module": "@jupyter-widgets/controls",
            "_view_module_version": "1.5.0",
            "_view_name": "ProgressView",
            "bar_style": "success",
            "description": "",
            "description_tooltip": null,
            "layout": "IPY_MODEL_7ab6522c0544494ba334935132ce61d7",
            "max": 3,
            "min": 0,
            "orientation": "horizontal",
            "style": "IPY_MODEL_5e6860b4daf14d669001a049ea6cdff8",
            "value": 3
          }
        },
        "36b83d9caf094afb952bf6d7981a2017": {
          "model_module": "@jupyter-widgets/controls",
          "model_name": "HTMLModel",
          "model_module_version": "1.5.0",
          "state": {
            "_dom_classes": [],
            "_model_module": "@jupyter-widgets/controls",
            "_model_module_version": "1.5.0",
            "_model_name": "HTMLModel",
            "_view_count": null,
            "_view_module": "@jupyter-widgets/controls",
            "_view_module_version": "1.5.0",
            "_view_name": "HTMLView",
            "description": "",
            "description_tooltip": null,
            "layout": "IPY_MODEL_33f21c0b733e485cb67def542e6be483",
            "placeholder": "​",
            "style": "IPY_MODEL_0c87717894d24187bff373686d3227a6",
            "value": " 3/3 [00:34&lt;00:00, 11.44s/it]"
          }
        },
        "1660fdcfd13846eb8f1c8de8bfa99981": {
          "model_module": "@jupyter-widgets/base",
          "model_name": "LayoutModel",
          "model_module_version": "1.2.0",
          "state": {
            "_model_module": "@jupyter-widgets/base",
            "_model_module_version": "1.2.0",
            "_model_name": "LayoutModel",
            "_view_count": null,
            "_view_module": "@jupyter-widgets/base",
            "_view_module_version": "1.2.0",
            "_view_name": "LayoutView",
            "align_content": null,
            "align_items": null,
            "align_self": null,
            "border": null,
            "bottom": null,
            "display": null,
            "flex": null,
            "flex_flow": null,
            "grid_area": null,
            "grid_auto_columns": null,
            "grid_auto_flow": null,
            "grid_auto_rows": null,
            "grid_column": null,
            "grid_gap": null,
            "grid_row": null,
            "grid_template_areas": null,
            "grid_template_columns": null,
            "grid_template_rows": null,
            "height": null,
            "justify_content": null,
            "justify_items": null,
            "left": null,
            "margin": null,
            "max_height": null,
            "max_width": null,
            "min_height": null,
            "min_width": null,
            "object_fit": null,
            "object_position": null,
            "order": null,
            "overflow": null,
            "overflow_x": null,
            "overflow_y": null,
            "padding": null,
            "right": null,
            "top": null,
            "visibility": null,
            "width": null
          }
        },
        "7a7dcb876618430698db74bb69ec7169": {
          "model_module": "@jupyter-widgets/base",
          "model_name": "LayoutModel",
          "model_module_version": "1.2.0",
          "state": {
            "_model_module": "@jupyter-widgets/base",
            "_model_module_version": "1.2.0",
            "_model_name": "LayoutModel",
            "_view_count": null,
            "_view_module": "@jupyter-widgets/base",
            "_view_module_version": "1.2.0",
            "_view_name": "LayoutView",
            "align_content": null,
            "align_items": null,
            "align_self": null,
            "border": null,
            "bottom": null,
            "display": null,
            "flex": null,
            "flex_flow": null,
            "grid_area": null,
            "grid_auto_columns": null,
            "grid_auto_flow": null,
            "grid_auto_rows": null,
            "grid_column": null,
            "grid_gap": null,
            "grid_row": null,
            "grid_template_areas": null,
            "grid_template_columns": null,
            "grid_template_rows": null,
            "height": null,
            "justify_content": null,
            "justify_items": null,
            "left": null,
            "margin": null,
            "max_height": null,
            "max_width": null,
            "min_height": null,
            "min_width": null,
            "object_fit": null,
            "object_position": null,
            "order": null,
            "overflow": null,
            "overflow_x": null,
            "overflow_y": null,
            "padding": null,
            "right": null,
            "top": null,
            "visibility": null,
            "width": null
          }
        },
        "d73d5be4625e4417aefcfc381e7a8e4e": {
          "model_module": "@jupyter-widgets/controls",
          "model_name": "DescriptionStyleModel",
          "model_module_version": "1.5.0",
          "state": {
            "_model_module": "@jupyter-widgets/controls",
            "_model_module_version": "1.5.0",
            "_model_name": "DescriptionStyleModel",
            "_view_count": null,
            "_view_module": "@jupyter-widgets/base",
            "_view_module_version": "1.2.0",
            "_view_name": "StyleView",
            "description_width": ""
          }
        },
        "7ab6522c0544494ba334935132ce61d7": {
          "model_module": "@jupyter-widgets/base",
          "model_name": "LayoutModel",
          "model_module_version": "1.2.0",
          "state": {
            "_model_module": "@jupyter-widgets/base",
            "_model_module_version": "1.2.0",
            "_model_name": "LayoutModel",
            "_view_count": null,
            "_view_module": "@jupyter-widgets/base",
            "_view_module_version": "1.2.0",
            "_view_name": "LayoutView",
            "align_content": null,
            "align_items": null,
            "align_self": null,
            "border": null,
            "bottom": null,
            "display": null,
            "flex": null,
            "flex_flow": null,
            "grid_area": null,
            "grid_auto_columns": null,
            "grid_auto_flow": null,
            "grid_auto_rows": null,
            "grid_column": null,
            "grid_gap": null,
            "grid_row": null,
            "grid_template_areas": null,
            "grid_template_columns": null,
            "grid_template_rows": null,
            "height": null,
            "justify_content": null,
            "justify_items": null,
            "left": null,
            "margin": null,
            "max_height": null,
            "max_width": null,
            "min_height": null,
            "min_width": null,
            "object_fit": null,
            "object_position": null,
            "order": null,
            "overflow": null,
            "overflow_x": null,
            "overflow_y": null,
            "padding": null,
            "right": null,
            "top": null,
            "visibility": null,
            "width": null
          }
        },
        "5e6860b4daf14d669001a049ea6cdff8": {
          "model_module": "@jupyter-widgets/controls",
          "model_name": "ProgressStyleModel",
          "model_module_version": "1.5.0",
          "state": {
            "_model_module": "@jupyter-widgets/controls",
            "_model_module_version": "1.5.0",
            "_model_name": "ProgressStyleModel",
            "_view_count": null,
            "_view_module": "@jupyter-widgets/base",
            "_view_module_version": "1.2.0",
            "_view_name": "StyleView",
            "bar_color": null,
            "description_width": ""
          }
        },
        "33f21c0b733e485cb67def542e6be483": {
          "model_module": "@jupyter-widgets/base",
          "model_name": "LayoutModel",
          "model_module_version": "1.2.0",
          "state": {
            "_model_module": "@jupyter-widgets/base",
            "_model_module_version": "1.2.0",
            "_model_name": "LayoutModel",
            "_view_count": null,
            "_view_module": "@jupyter-widgets/base",
            "_view_module_version": "1.2.0",
            "_view_name": "LayoutView",
            "align_content": null,
            "align_items": null,
            "align_self": null,
            "border": null,
            "bottom": null,
            "display": null,
            "flex": null,
            "flex_flow": null,
            "grid_area": null,
            "grid_auto_columns": null,
            "grid_auto_flow": null,
            "grid_auto_rows": null,
            "grid_column": null,
            "grid_gap": null,
            "grid_row": null,
            "grid_template_areas": null,
            "grid_template_columns": null,
            "grid_template_rows": null,
            "height": null,
            "justify_content": null,
            "justify_items": null,
            "left": null,
            "margin": null,
            "max_height": null,
            "max_width": null,
            "min_height": null,
            "min_width": null,
            "object_fit": null,
            "object_position": null,
            "order": null,
            "overflow": null,
            "overflow_x": null,
            "overflow_y": null,
            "padding": null,
            "right": null,
            "top": null,
            "visibility": null,
            "width": null
          }
        },
        "0c87717894d24187bff373686d3227a6": {
          "model_module": "@jupyter-widgets/controls",
          "model_name": "DescriptionStyleModel",
          "model_module_version": "1.5.0",
          "state": {
            "_model_module": "@jupyter-widgets/controls",
            "_model_module_version": "1.5.0",
            "_model_name": "DescriptionStyleModel",
            "_view_count": null,
            "_view_module": "@jupyter-widgets/base",
            "_view_module_version": "1.2.0",
            "_view_name": "StyleView",
            "description_width": ""
          }
        },
        "9f905ac2f44847a4aa1acc248e356dab": {
          "model_module": "@jupyter-widgets/controls",
          "model_name": "VBoxModel",
          "model_module_version": "1.5.0",
          "state": {
            "_dom_classes": [],
            "_model_module": "@jupyter-widgets/controls",
            "_model_module_version": "1.5.0",
            "_model_name": "VBoxModel",
            "_view_count": null,
            "_view_module": "@jupyter-widgets/controls",
            "_view_module_version": "1.5.0",
            "_view_name": "VBoxView",
            "box_style": "",
            "children": [
              "IPY_MODEL_6092009c39a143d08145a7cf2ea5498a",
              "IPY_MODEL_8bc174ba8a42417e89f3dc4461bd58d3"
            ],
            "layout": "IPY_MODEL_3e71c2f484274411b644702b3ca05202"
          }
        },
        "6092009c39a143d08145a7cf2ea5498a": {
          "model_module": "@jupyter-widgets/controls",
          "model_name": "LabelModel",
          "model_module_version": "1.5.0",
          "state": {
            "_dom_classes": [],
            "_model_module": "@jupyter-widgets/controls",
            "_model_module_version": "1.5.0",
            "_model_name": "LabelModel",
            "_view_count": null,
            "_view_module": "@jupyter-widgets/controls",
            "_view_module_version": "1.5.0",
            "_view_name": "LabelView",
            "description": "",
            "description_tooltip": null,
            "layout": "IPY_MODEL_cc1322921ecd40f9b029fc207b768e72",
            "placeholder": "​",
            "style": "IPY_MODEL_2cb3b45f91d249c79f181b16b9eece78",
            "value": "0.001 MB of 0.009 MB uploaded (0.000 MB deduped)\r"
          }
        },
        "8bc174ba8a42417e89f3dc4461bd58d3": {
          "model_module": "@jupyter-widgets/controls",
          "model_name": "FloatProgressModel",
          "model_module_version": "1.5.0",
          "state": {
            "_dom_classes": [],
            "_model_module": "@jupyter-widgets/controls",
            "_model_module_version": "1.5.0",
            "_model_name": "FloatProgressModel",
            "_view_count": null,
            "_view_module": "@jupyter-widgets/controls",
            "_view_module_version": "1.5.0",
            "_view_name": "ProgressView",
            "bar_style": "",
            "description": "",
            "description_tooltip": null,
            "layout": "IPY_MODEL_cb2af336263847558e70b92fcdf3d9d3",
            "max": 1,
            "min": 0,
            "orientation": "horizontal",
            "style": "IPY_MODEL_df13b8bc3f4644658f713ba6a92975f3",
            "value": 0.0807275047862157
          }
        },
        "3e71c2f484274411b644702b3ca05202": {
          "model_module": "@jupyter-widgets/base",
          "model_name": "LayoutModel",
          "model_module_version": "1.2.0",
          "state": {
            "_model_module": "@jupyter-widgets/base",
            "_model_module_version": "1.2.0",
            "_model_name": "LayoutModel",
            "_view_count": null,
            "_view_module": "@jupyter-widgets/base",
            "_view_module_version": "1.2.0",
            "_view_name": "LayoutView",
            "align_content": null,
            "align_items": null,
            "align_self": null,
            "border": null,
            "bottom": null,
            "display": null,
            "flex": null,
            "flex_flow": null,
            "grid_area": null,
            "grid_auto_columns": null,
            "grid_auto_flow": null,
            "grid_auto_rows": null,
            "grid_column": null,
            "grid_gap": null,
            "grid_row": null,
            "grid_template_areas": null,
            "grid_template_columns": null,
            "grid_template_rows": null,
            "height": null,
            "justify_content": null,
            "justify_items": null,
            "left": null,
            "margin": null,
            "max_height": null,
            "max_width": null,
            "min_height": null,
            "min_width": null,
            "object_fit": null,
            "object_position": null,
            "order": null,
            "overflow": null,
            "overflow_x": null,
            "overflow_y": null,
            "padding": null,
            "right": null,
            "top": null,
            "visibility": null,
            "width": null
          }
        },
        "cc1322921ecd40f9b029fc207b768e72": {
          "model_module": "@jupyter-widgets/base",
          "model_name": "LayoutModel",
          "model_module_version": "1.2.0",
          "state": {
            "_model_module": "@jupyter-widgets/base",
            "_model_module_version": "1.2.0",
            "_model_name": "LayoutModel",
            "_view_count": null,
            "_view_module": "@jupyter-widgets/base",
            "_view_module_version": "1.2.0",
            "_view_name": "LayoutView",
            "align_content": null,
            "align_items": null,
            "align_self": null,
            "border": null,
            "bottom": null,
            "display": null,
            "flex": null,
            "flex_flow": null,
            "grid_area": null,
            "grid_auto_columns": null,
            "grid_auto_flow": null,
            "grid_auto_rows": null,
            "grid_column": null,
            "grid_gap": null,
            "grid_row": null,
            "grid_template_areas": null,
            "grid_template_columns": null,
            "grid_template_rows": null,
            "height": null,
            "justify_content": null,
            "justify_items": null,
            "left": null,
            "margin": null,
            "max_height": null,
            "max_width": null,
            "min_height": null,
            "min_width": null,
            "object_fit": null,
            "object_position": null,
            "order": null,
            "overflow": null,
            "overflow_x": null,
            "overflow_y": null,
            "padding": null,
            "right": null,
            "top": null,
            "visibility": null,
            "width": null
          }
        },
        "2cb3b45f91d249c79f181b16b9eece78": {
          "model_module": "@jupyter-widgets/controls",
          "model_name": "DescriptionStyleModel",
          "model_module_version": "1.5.0",
          "state": {
            "_model_module": "@jupyter-widgets/controls",
            "_model_module_version": "1.5.0",
            "_model_name": "DescriptionStyleModel",
            "_view_count": null,
            "_view_module": "@jupyter-widgets/base",
            "_view_module_version": "1.2.0",
            "_view_name": "StyleView",
            "description_width": ""
          }
        },
        "cb2af336263847558e70b92fcdf3d9d3": {
          "model_module": "@jupyter-widgets/base",
          "model_name": "LayoutModel",
          "model_module_version": "1.2.0",
          "state": {
            "_model_module": "@jupyter-widgets/base",
            "_model_module_version": "1.2.0",
            "_model_name": "LayoutModel",
            "_view_count": null,
            "_view_module": "@jupyter-widgets/base",
            "_view_module_version": "1.2.0",
            "_view_name": "LayoutView",
            "align_content": null,
            "align_items": null,
            "align_self": null,
            "border": null,
            "bottom": null,
            "display": null,
            "flex": null,
            "flex_flow": null,
            "grid_area": null,
            "grid_auto_columns": null,
            "grid_auto_flow": null,
            "grid_auto_rows": null,
            "grid_column": null,
            "grid_gap": null,
            "grid_row": null,
            "grid_template_areas": null,
            "grid_template_columns": null,
            "grid_template_rows": null,
            "height": null,
            "justify_content": null,
            "justify_items": null,
            "left": null,
            "margin": null,
            "max_height": null,
            "max_width": null,
            "min_height": null,
            "min_width": null,
            "object_fit": null,
            "object_position": null,
            "order": null,
            "overflow": null,
            "overflow_x": null,
            "overflow_y": null,
            "padding": null,
            "right": null,
            "top": null,
            "visibility": null,
            "width": null
          }
        },
        "df13b8bc3f4644658f713ba6a92975f3": {
          "model_module": "@jupyter-widgets/controls",
          "model_name": "ProgressStyleModel",
          "model_module_version": "1.5.0",
          "state": {
            "_model_module": "@jupyter-widgets/controls",
            "_model_module_version": "1.5.0",
            "_model_name": "ProgressStyleModel",
            "_view_count": null,
            "_view_module": "@jupyter-widgets/base",
            "_view_module_version": "1.2.0",
            "_view_name": "StyleView",
            "bar_color": null,
            "description_width": ""
          }
        },
        "e2e10cb1cd414d089439ee36f412682e": {
          "model_module": "@jupyter-widgets/controls",
          "model_name": "HBoxModel",
          "model_module_version": "1.5.0",
          "state": {
            "_dom_classes": [],
            "_model_module": "@jupyter-widgets/controls",
            "_model_module_version": "1.5.0",
            "_model_name": "HBoxModel",
            "_view_count": null,
            "_view_module": "@jupyter-widgets/controls",
            "_view_module_version": "1.5.0",
            "_view_name": "HBoxView",
            "box_style": "",
            "children": [
              "IPY_MODEL_b7d7d54024a8479697ce97a388e5c5c1",
              "IPY_MODEL_82591109522b481c926841422eee7a7c",
              "IPY_MODEL_ff025261425743aba5ec2f94205fcb1d"
            ],
            "layout": "IPY_MODEL_cb40beb0843240d3bf46fe58e6185a20"
          }
        },
        "b7d7d54024a8479697ce97a388e5c5c1": {
          "model_module": "@jupyter-widgets/controls",
          "model_name": "HTMLModel",
          "model_module_version": "1.5.0",
          "state": {
            "_dom_classes": [],
            "_model_module": "@jupyter-widgets/controls",
            "_model_module_version": "1.5.0",
            "_model_name": "HTMLModel",
            "_view_count": null,
            "_view_module": "@jupyter-widgets/controls",
            "_view_module_version": "1.5.0",
            "_view_name": "HTMLView",
            "description": "",
            "description_tooltip": null,
            "layout": "IPY_MODEL_ff14aa59e440496bb802e44fe81c14f9",
            "placeholder": "​",
            "style": "IPY_MODEL_48514ba8a1fb491f823c627057664f51",
            "value": "100%"
          }
        },
        "82591109522b481c926841422eee7a7c": {
          "model_module": "@jupyter-widgets/controls",
          "model_name": "FloatProgressModel",
          "model_module_version": "1.5.0",
          "state": {
            "_dom_classes": [],
            "_model_module": "@jupyter-widgets/controls",
            "_model_module_version": "1.5.0",
            "_model_name": "FloatProgressModel",
            "_view_count": null,
            "_view_module": "@jupyter-widgets/controls",
            "_view_module_version": "1.5.0",
            "_view_name": "ProgressView",
            "bar_style": "success",
            "description": "",
            "description_tooltip": null,
            "layout": "IPY_MODEL_d863d99293b94c27afc2acfd1f57d781",
            "max": 3,
            "min": 0,
            "orientation": "horizontal",
            "style": "IPY_MODEL_ebfc34e4b9d44ca1889b83f5de900f46",
            "value": 3
          }
        },
        "ff025261425743aba5ec2f94205fcb1d": {
          "model_module": "@jupyter-widgets/controls",
          "model_name": "HTMLModel",
          "model_module_version": "1.5.0",
          "state": {
            "_dom_classes": [],
            "_model_module": "@jupyter-widgets/controls",
            "_model_module_version": "1.5.0",
            "_model_name": "HTMLModel",
            "_view_count": null,
            "_view_module": "@jupyter-widgets/controls",
            "_view_module_version": "1.5.0",
            "_view_name": "HTMLView",
            "description": "",
            "description_tooltip": null,
            "layout": "IPY_MODEL_df8c81f3ef644aa7b03c07cd4135ea29",
            "placeholder": "​",
            "style": "IPY_MODEL_ec8a27ebd4114b7b8d444f69b0eb9225",
            "value": " 3/3 [00:31&lt;00:00, 10.48s/it]"
          }
        },
        "cb40beb0843240d3bf46fe58e6185a20": {
          "model_module": "@jupyter-widgets/base",
          "model_name": "LayoutModel",
          "model_module_version": "1.2.0",
          "state": {
            "_model_module": "@jupyter-widgets/base",
            "_model_module_version": "1.2.0",
            "_model_name": "LayoutModel",
            "_view_count": null,
            "_view_module": "@jupyter-widgets/base",
            "_view_module_version": "1.2.0",
            "_view_name": "LayoutView",
            "align_content": null,
            "align_items": null,
            "align_self": null,
            "border": null,
            "bottom": null,
            "display": null,
            "flex": null,
            "flex_flow": null,
            "grid_area": null,
            "grid_auto_columns": null,
            "grid_auto_flow": null,
            "grid_auto_rows": null,
            "grid_column": null,
            "grid_gap": null,
            "grid_row": null,
            "grid_template_areas": null,
            "grid_template_columns": null,
            "grid_template_rows": null,
            "height": null,
            "justify_content": null,
            "justify_items": null,
            "left": null,
            "margin": null,
            "max_height": null,
            "max_width": null,
            "min_height": null,
            "min_width": null,
            "object_fit": null,
            "object_position": null,
            "order": null,
            "overflow": null,
            "overflow_x": null,
            "overflow_y": null,
            "padding": null,
            "right": null,
            "top": null,
            "visibility": null,
            "width": null
          }
        },
        "ff14aa59e440496bb802e44fe81c14f9": {
          "model_module": "@jupyter-widgets/base",
          "model_name": "LayoutModel",
          "model_module_version": "1.2.0",
          "state": {
            "_model_module": "@jupyter-widgets/base",
            "_model_module_version": "1.2.0",
            "_model_name": "LayoutModel",
            "_view_count": null,
            "_view_module": "@jupyter-widgets/base",
            "_view_module_version": "1.2.0",
            "_view_name": "LayoutView",
            "align_content": null,
            "align_items": null,
            "align_self": null,
            "border": null,
            "bottom": null,
            "display": null,
            "flex": null,
            "flex_flow": null,
            "grid_area": null,
            "grid_auto_columns": null,
            "grid_auto_flow": null,
            "grid_auto_rows": null,
            "grid_column": null,
            "grid_gap": null,
            "grid_row": null,
            "grid_template_areas": null,
            "grid_template_columns": null,
            "grid_template_rows": null,
            "height": null,
            "justify_content": null,
            "justify_items": null,
            "left": null,
            "margin": null,
            "max_height": null,
            "max_width": null,
            "min_height": null,
            "min_width": null,
            "object_fit": null,
            "object_position": null,
            "order": null,
            "overflow": null,
            "overflow_x": null,
            "overflow_y": null,
            "padding": null,
            "right": null,
            "top": null,
            "visibility": null,
            "width": null
          }
        },
        "48514ba8a1fb491f823c627057664f51": {
          "model_module": "@jupyter-widgets/controls",
          "model_name": "DescriptionStyleModel",
          "model_module_version": "1.5.0",
          "state": {
            "_model_module": "@jupyter-widgets/controls",
            "_model_module_version": "1.5.0",
            "_model_name": "DescriptionStyleModel",
            "_view_count": null,
            "_view_module": "@jupyter-widgets/base",
            "_view_module_version": "1.2.0",
            "_view_name": "StyleView",
            "description_width": ""
          }
        },
        "d863d99293b94c27afc2acfd1f57d781": {
          "model_module": "@jupyter-widgets/base",
          "model_name": "LayoutModel",
          "model_module_version": "1.2.0",
          "state": {
            "_model_module": "@jupyter-widgets/base",
            "_model_module_version": "1.2.0",
            "_model_name": "LayoutModel",
            "_view_count": null,
            "_view_module": "@jupyter-widgets/base",
            "_view_module_version": "1.2.0",
            "_view_name": "LayoutView",
            "align_content": null,
            "align_items": null,
            "align_self": null,
            "border": null,
            "bottom": null,
            "display": null,
            "flex": null,
            "flex_flow": null,
            "grid_area": null,
            "grid_auto_columns": null,
            "grid_auto_flow": null,
            "grid_auto_rows": null,
            "grid_column": null,
            "grid_gap": null,
            "grid_row": null,
            "grid_template_areas": null,
            "grid_template_columns": null,
            "grid_template_rows": null,
            "height": null,
            "justify_content": null,
            "justify_items": null,
            "left": null,
            "margin": null,
            "max_height": null,
            "max_width": null,
            "min_height": null,
            "min_width": null,
            "object_fit": null,
            "object_position": null,
            "order": null,
            "overflow": null,
            "overflow_x": null,
            "overflow_y": null,
            "padding": null,
            "right": null,
            "top": null,
            "visibility": null,
            "width": null
          }
        },
        "ebfc34e4b9d44ca1889b83f5de900f46": {
          "model_module": "@jupyter-widgets/controls",
          "model_name": "ProgressStyleModel",
          "model_module_version": "1.5.0",
          "state": {
            "_model_module": "@jupyter-widgets/controls",
            "_model_module_version": "1.5.0",
            "_model_name": "ProgressStyleModel",
            "_view_count": null,
            "_view_module": "@jupyter-widgets/base",
            "_view_module_version": "1.2.0",
            "_view_name": "StyleView",
            "bar_color": null,
            "description_width": ""
          }
        },
        "df8c81f3ef644aa7b03c07cd4135ea29": {
          "model_module": "@jupyter-widgets/base",
          "model_name": "LayoutModel",
          "model_module_version": "1.2.0",
          "state": {
            "_model_module": "@jupyter-widgets/base",
            "_model_module_version": "1.2.0",
            "_model_name": "LayoutModel",
            "_view_count": null,
            "_view_module": "@jupyter-widgets/base",
            "_view_module_version": "1.2.0",
            "_view_name": "LayoutView",
            "align_content": null,
            "align_items": null,
            "align_self": null,
            "border": null,
            "bottom": null,
            "display": null,
            "flex": null,
            "flex_flow": null,
            "grid_area": null,
            "grid_auto_columns": null,
            "grid_auto_flow": null,
            "grid_auto_rows": null,
            "grid_column": null,
            "grid_gap": null,
            "grid_row": null,
            "grid_template_areas": null,
            "grid_template_columns": null,
            "grid_template_rows": null,
            "height": null,
            "justify_content": null,
            "justify_items": null,
            "left": null,
            "margin": null,
            "max_height": null,
            "max_width": null,
            "min_height": null,
            "min_width": null,
            "object_fit": null,
            "object_position": null,
            "order": null,
            "overflow": null,
            "overflow_x": null,
            "overflow_y": null,
            "padding": null,
            "right": null,
            "top": null,
            "visibility": null,
            "width": null
          }
        },
        "ec8a27ebd4114b7b8d444f69b0eb9225": {
          "model_module": "@jupyter-widgets/controls",
          "model_name": "DescriptionStyleModel",
          "model_module_version": "1.5.0",
          "state": {
            "_model_module": "@jupyter-widgets/controls",
            "_model_module_version": "1.5.0",
            "_model_name": "DescriptionStyleModel",
            "_view_count": null,
            "_view_module": "@jupyter-widgets/base",
            "_view_module_version": "1.2.0",
            "_view_name": "StyleView",
            "description_width": ""
          }
        },
        "1c582cacb0e64fa98692093d3d8223f8": {
          "model_module": "@jupyter-widgets/controls",
          "model_name": "VBoxModel",
          "model_module_version": "1.5.0",
          "state": {
            "_dom_classes": [],
            "_model_module": "@jupyter-widgets/controls",
            "_model_module_version": "1.5.0",
            "_model_name": "VBoxModel",
            "_view_count": null,
            "_view_module": "@jupyter-widgets/controls",
            "_view_module_version": "1.5.0",
            "_view_name": "VBoxView",
            "box_style": "",
            "children": [
              "IPY_MODEL_2c11b5fa8e394f4d98ebdc076fc82e68",
              "IPY_MODEL_714069f4c8d14d358cfe36e5735796db"
            ],
            "layout": "IPY_MODEL_86af9db1b01641598997a4617fedea5f"
          }
        },
        "2c11b5fa8e394f4d98ebdc076fc82e68": {
          "model_module": "@jupyter-widgets/controls",
          "model_name": "LabelModel",
          "model_module_version": "1.5.0",
          "state": {
            "_dom_classes": [],
            "_model_module": "@jupyter-widgets/controls",
            "_model_module_version": "1.5.0",
            "_model_name": "LabelModel",
            "_view_count": null,
            "_view_module": "@jupyter-widgets/controls",
            "_view_module_version": "1.5.0",
            "_view_name": "LabelView",
            "description": "",
            "description_tooltip": null,
            "layout": "IPY_MODEL_da0869d8cf88438e9236ea1a614d2b8c",
            "placeholder": "​",
            "style": "IPY_MODEL_d2bf485dee814387973f395ed36789fe",
            "value": "0.001 MB of 0.009 MB uploaded (0.000 MB deduped)\r"
          }
        },
        "714069f4c8d14d358cfe36e5735796db": {
          "model_module": "@jupyter-widgets/controls",
          "model_name": "FloatProgressModel",
          "model_module_version": "1.5.0",
          "state": {
            "_dom_classes": [],
            "_model_module": "@jupyter-widgets/controls",
            "_model_module_version": "1.5.0",
            "_model_name": "FloatProgressModel",
            "_view_count": null,
            "_view_module": "@jupyter-widgets/controls",
            "_view_module_version": "1.5.0",
            "_view_name": "ProgressView",
            "bar_style": "",
            "description": "",
            "description_tooltip": null,
            "layout": "IPY_MODEL_ef1cdec08c4f429bb50155ac4afebd7c",
            "max": 1,
            "min": 0,
            "orientation": "horizontal",
            "style": "IPY_MODEL_666eba8ddcd64a1e8030e4c9ef1cb5c7",
            "value": 0.08080808080808081
          }
        },
        "86af9db1b01641598997a4617fedea5f": {
          "model_module": "@jupyter-widgets/base",
          "model_name": "LayoutModel",
          "model_module_version": "1.2.0",
          "state": {
            "_model_module": "@jupyter-widgets/base",
            "_model_module_version": "1.2.0",
            "_model_name": "LayoutModel",
            "_view_count": null,
            "_view_module": "@jupyter-widgets/base",
            "_view_module_version": "1.2.0",
            "_view_name": "LayoutView",
            "align_content": null,
            "align_items": null,
            "align_self": null,
            "border": null,
            "bottom": null,
            "display": null,
            "flex": null,
            "flex_flow": null,
            "grid_area": null,
            "grid_auto_columns": null,
            "grid_auto_flow": null,
            "grid_auto_rows": null,
            "grid_column": null,
            "grid_gap": null,
            "grid_row": null,
            "grid_template_areas": null,
            "grid_template_columns": null,
            "grid_template_rows": null,
            "height": null,
            "justify_content": null,
            "justify_items": null,
            "left": null,
            "margin": null,
            "max_height": null,
            "max_width": null,
            "min_height": null,
            "min_width": null,
            "object_fit": null,
            "object_position": null,
            "order": null,
            "overflow": null,
            "overflow_x": null,
            "overflow_y": null,
            "padding": null,
            "right": null,
            "top": null,
            "visibility": null,
            "width": null
          }
        },
        "da0869d8cf88438e9236ea1a614d2b8c": {
          "model_module": "@jupyter-widgets/base",
          "model_name": "LayoutModel",
          "model_module_version": "1.2.0",
          "state": {
            "_model_module": "@jupyter-widgets/base",
            "_model_module_version": "1.2.0",
            "_model_name": "LayoutModel",
            "_view_count": null,
            "_view_module": "@jupyter-widgets/base",
            "_view_module_version": "1.2.0",
            "_view_name": "LayoutView",
            "align_content": null,
            "align_items": null,
            "align_self": null,
            "border": null,
            "bottom": null,
            "display": null,
            "flex": null,
            "flex_flow": null,
            "grid_area": null,
            "grid_auto_columns": null,
            "grid_auto_flow": null,
            "grid_auto_rows": null,
            "grid_column": null,
            "grid_gap": null,
            "grid_row": null,
            "grid_template_areas": null,
            "grid_template_columns": null,
            "grid_template_rows": null,
            "height": null,
            "justify_content": null,
            "justify_items": null,
            "left": null,
            "margin": null,
            "max_height": null,
            "max_width": null,
            "min_height": null,
            "min_width": null,
            "object_fit": null,
            "object_position": null,
            "order": null,
            "overflow": null,
            "overflow_x": null,
            "overflow_y": null,
            "padding": null,
            "right": null,
            "top": null,
            "visibility": null,
            "width": null
          }
        },
        "d2bf485dee814387973f395ed36789fe": {
          "model_module": "@jupyter-widgets/controls",
          "model_name": "DescriptionStyleModel",
          "model_module_version": "1.5.0",
          "state": {
            "_model_module": "@jupyter-widgets/controls",
            "_model_module_version": "1.5.0",
            "_model_name": "DescriptionStyleModel",
            "_view_count": null,
            "_view_module": "@jupyter-widgets/base",
            "_view_module_version": "1.2.0",
            "_view_name": "StyleView",
            "description_width": ""
          }
        },
        "ef1cdec08c4f429bb50155ac4afebd7c": {
          "model_module": "@jupyter-widgets/base",
          "model_name": "LayoutModel",
          "model_module_version": "1.2.0",
          "state": {
            "_model_module": "@jupyter-widgets/base",
            "_model_module_version": "1.2.0",
            "_model_name": "LayoutModel",
            "_view_count": null,
            "_view_module": "@jupyter-widgets/base",
            "_view_module_version": "1.2.0",
            "_view_name": "LayoutView",
            "align_content": null,
            "align_items": null,
            "align_self": null,
            "border": null,
            "bottom": null,
            "display": null,
            "flex": null,
            "flex_flow": null,
            "grid_area": null,
            "grid_auto_columns": null,
            "grid_auto_flow": null,
            "grid_auto_rows": null,
            "grid_column": null,
            "grid_gap": null,
            "grid_row": null,
            "grid_template_areas": null,
            "grid_template_columns": null,
            "grid_template_rows": null,
            "height": null,
            "justify_content": null,
            "justify_items": null,
            "left": null,
            "margin": null,
            "max_height": null,
            "max_width": null,
            "min_height": null,
            "min_width": null,
            "object_fit": null,
            "object_position": null,
            "order": null,
            "overflow": null,
            "overflow_x": null,
            "overflow_y": null,
            "padding": null,
            "right": null,
            "top": null,
            "visibility": null,
            "width": null
          }
        },
        "666eba8ddcd64a1e8030e4c9ef1cb5c7": {
          "model_module": "@jupyter-widgets/controls",
          "model_name": "ProgressStyleModel",
          "model_module_version": "1.5.0",
          "state": {
            "_model_module": "@jupyter-widgets/controls",
            "_model_module_version": "1.5.0",
            "_model_name": "ProgressStyleModel",
            "_view_count": null,
            "_view_module": "@jupyter-widgets/base",
            "_view_module_version": "1.2.0",
            "_view_name": "StyleView",
            "bar_color": null,
            "description_width": ""
          }
        },
        "ef2d2315b49843aba301b09d266decc8": {
          "model_module": "@jupyter-widgets/controls",
          "model_name": "HBoxModel",
          "model_module_version": "1.5.0",
          "state": {
            "_dom_classes": [],
            "_model_module": "@jupyter-widgets/controls",
            "_model_module_version": "1.5.0",
            "_model_name": "HBoxModel",
            "_view_count": null,
            "_view_module": "@jupyter-widgets/controls",
            "_view_module_version": "1.5.0",
            "_view_name": "HBoxView",
            "box_style": "",
            "children": [
              "IPY_MODEL_73630f2ac23c4de58a269f0eddc67ada",
              "IPY_MODEL_d2546a764067418e8b4150467ab4b830",
              "IPY_MODEL_e92a5125954648d2bcce5f4c06640dcd"
            ],
            "layout": "IPY_MODEL_34ac9863ab6b4d4892f06359a3328b2f"
          }
        },
        "73630f2ac23c4de58a269f0eddc67ada": {
          "model_module": "@jupyter-widgets/controls",
          "model_name": "HTMLModel",
          "model_module_version": "1.5.0",
          "state": {
            "_dom_classes": [],
            "_model_module": "@jupyter-widgets/controls",
            "_model_module_version": "1.5.0",
            "_model_name": "HTMLModel",
            "_view_count": null,
            "_view_module": "@jupyter-widgets/controls",
            "_view_module_version": "1.5.0",
            "_view_name": "HTMLView",
            "description": "",
            "description_tooltip": null,
            "layout": "IPY_MODEL_fd60b93179204d859e4b1205e44c3e3a",
            "placeholder": "​",
            "style": "IPY_MODEL_8edd12eedb574b9798a1a9b74d522217",
            "value": "100%"
          }
        },
        "d2546a764067418e8b4150467ab4b830": {
          "model_module": "@jupyter-widgets/controls",
          "model_name": "FloatProgressModel",
          "model_module_version": "1.5.0",
          "state": {
            "_dom_classes": [],
            "_model_module": "@jupyter-widgets/controls",
            "_model_module_version": "1.5.0",
            "_model_name": "FloatProgressModel",
            "_view_count": null,
            "_view_module": "@jupyter-widgets/controls",
            "_view_module_version": "1.5.0",
            "_view_name": "ProgressView",
            "bar_style": "success",
            "description": "",
            "description_tooltip": null,
            "layout": "IPY_MODEL_8c02544a9739413d826995cca2429f4e",
            "max": 3,
            "min": 0,
            "orientation": "horizontal",
            "style": "IPY_MODEL_6e47976ceecd4ef59b9d6368027a17ec",
            "value": 3
          }
        },
        "e92a5125954648d2bcce5f4c06640dcd": {
          "model_module": "@jupyter-widgets/controls",
          "model_name": "HTMLModel",
          "model_module_version": "1.5.0",
          "state": {
            "_dom_classes": [],
            "_model_module": "@jupyter-widgets/controls",
            "_model_module_version": "1.5.0",
            "_model_name": "HTMLModel",
            "_view_count": null,
            "_view_module": "@jupyter-widgets/controls",
            "_view_module_version": "1.5.0",
            "_view_name": "HTMLView",
            "description": "",
            "description_tooltip": null,
            "layout": "IPY_MODEL_873270534af84061bb110f2ed6b75d05",
            "placeholder": "​",
            "style": "IPY_MODEL_a19dfa73a9b94a15a05db2e0fc2fdaeb",
            "value": " 3/3 [00:31&lt;00:00, 10.59s/it]"
          }
        },
        "34ac9863ab6b4d4892f06359a3328b2f": {
          "model_module": "@jupyter-widgets/base",
          "model_name": "LayoutModel",
          "model_module_version": "1.2.0",
          "state": {
            "_model_module": "@jupyter-widgets/base",
            "_model_module_version": "1.2.0",
            "_model_name": "LayoutModel",
            "_view_count": null,
            "_view_module": "@jupyter-widgets/base",
            "_view_module_version": "1.2.0",
            "_view_name": "LayoutView",
            "align_content": null,
            "align_items": null,
            "align_self": null,
            "border": null,
            "bottom": null,
            "display": null,
            "flex": null,
            "flex_flow": null,
            "grid_area": null,
            "grid_auto_columns": null,
            "grid_auto_flow": null,
            "grid_auto_rows": null,
            "grid_column": null,
            "grid_gap": null,
            "grid_row": null,
            "grid_template_areas": null,
            "grid_template_columns": null,
            "grid_template_rows": null,
            "height": null,
            "justify_content": null,
            "justify_items": null,
            "left": null,
            "margin": null,
            "max_height": null,
            "max_width": null,
            "min_height": null,
            "min_width": null,
            "object_fit": null,
            "object_position": null,
            "order": null,
            "overflow": null,
            "overflow_x": null,
            "overflow_y": null,
            "padding": null,
            "right": null,
            "top": null,
            "visibility": null,
            "width": null
          }
        },
        "fd60b93179204d859e4b1205e44c3e3a": {
          "model_module": "@jupyter-widgets/base",
          "model_name": "LayoutModel",
          "model_module_version": "1.2.0",
          "state": {
            "_model_module": "@jupyter-widgets/base",
            "_model_module_version": "1.2.0",
            "_model_name": "LayoutModel",
            "_view_count": null,
            "_view_module": "@jupyter-widgets/base",
            "_view_module_version": "1.2.0",
            "_view_name": "LayoutView",
            "align_content": null,
            "align_items": null,
            "align_self": null,
            "border": null,
            "bottom": null,
            "display": null,
            "flex": null,
            "flex_flow": null,
            "grid_area": null,
            "grid_auto_columns": null,
            "grid_auto_flow": null,
            "grid_auto_rows": null,
            "grid_column": null,
            "grid_gap": null,
            "grid_row": null,
            "grid_template_areas": null,
            "grid_template_columns": null,
            "grid_template_rows": null,
            "height": null,
            "justify_content": null,
            "justify_items": null,
            "left": null,
            "margin": null,
            "max_height": null,
            "max_width": null,
            "min_height": null,
            "min_width": null,
            "object_fit": null,
            "object_position": null,
            "order": null,
            "overflow": null,
            "overflow_x": null,
            "overflow_y": null,
            "padding": null,
            "right": null,
            "top": null,
            "visibility": null,
            "width": null
          }
        },
        "8edd12eedb574b9798a1a9b74d522217": {
          "model_module": "@jupyter-widgets/controls",
          "model_name": "DescriptionStyleModel",
          "model_module_version": "1.5.0",
          "state": {
            "_model_module": "@jupyter-widgets/controls",
            "_model_module_version": "1.5.0",
            "_model_name": "DescriptionStyleModel",
            "_view_count": null,
            "_view_module": "@jupyter-widgets/base",
            "_view_module_version": "1.2.0",
            "_view_name": "StyleView",
            "description_width": ""
          }
        },
        "8c02544a9739413d826995cca2429f4e": {
          "model_module": "@jupyter-widgets/base",
          "model_name": "LayoutModel",
          "model_module_version": "1.2.0",
          "state": {
            "_model_module": "@jupyter-widgets/base",
            "_model_module_version": "1.2.0",
            "_model_name": "LayoutModel",
            "_view_count": null,
            "_view_module": "@jupyter-widgets/base",
            "_view_module_version": "1.2.0",
            "_view_name": "LayoutView",
            "align_content": null,
            "align_items": null,
            "align_self": null,
            "border": null,
            "bottom": null,
            "display": null,
            "flex": null,
            "flex_flow": null,
            "grid_area": null,
            "grid_auto_columns": null,
            "grid_auto_flow": null,
            "grid_auto_rows": null,
            "grid_column": null,
            "grid_gap": null,
            "grid_row": null,
            "grid_template_areas": null,
            "grid_template_columns": null,
            "grid_template_rows": null,
            "height": null,
            "justify_content": null,
            "justify_items": null,
            "left": null,
            "margin": null,
            "max_height": null,
            "max_width": null,
            "min_height": null,
            "min_width": null,
            "object_fit": null,
            "object_position": null,
            "order": null,
            "overflow": null,
            "overflow_x": null,
            "overflow_y": null,
            "padding": null,
            "right": null,
            "top": null,
            "visibility": null,
            "width": null
          }
        },
        "6e47976ceecd4ef59b9d6368027a17ec": {
          "model_module": "@jupyter-widgets/controls",
          "model_name": "ProgressStyleModel",
          "model_module_version": "1.5.0",
          "state": {
            "_model_module": "@jupyter-widgets/controls",
            "_model_module_version": "1.5.0",
            "_model_name": "ProgressStyleModel",
            "_view_count": null,
            "_view_module": "@jupyter-widgets/base",
            "_view_module_version": "1.2.0",
            "_view_name": "StyleView",
            "bar_color": null,
            "description_width": ""
          }
        },
        "873270534af84061bb110f2ed6b75d05": {
          "model_module": "@jupyter-widgets/base",
          "model_name": "LayoutModel",
          "model_module_version": "1.2.0",
          "state": {
            "_model_module": "@jupyter-widgets/base",
            "_model_module_version": "1.2.0",
            "_model_name": "LayoutModel",
            "_view_count": null,
            "_view_module": "@jupyter-widgets/base",
            "_view_module_version": "1.2.0",
            "_view_name": "LayoutView",
            "align_content": null,
            "align_items": null,
            "align_self": null,
            "border": null,
            "bottom": null,
            "display": null,
            "flex": null,
            "flex_flow": null,
            "grid_area": null,
            "grid_auto_columns": null,
            "grid_auto_flow": null,
            "grid_auto_rows": null,
            "grid_column": null,
            "grid_gap": null,
            "grid_row": null,
            "grid_template_areas": null,
            "grid_template_columns": null,
            "grid_template_rows": null,
            "height": null,
            "justify_content": null,
            "justify_items": null,
            "left": null,
            "margin": null,
            "max_height": null,
            "max_width": null,
            "min_height": null,
            "min_width": null,
            "object_fit": null,
            "object_position": null,
            "order": null,
            "overflow": null,
            "overflow_x": null,
            "overflow_y": null,
            "padding": null,
            "right": null,
            "top": null,
            "visibility": null,
            "width": null
          }
        },
        "a19dfa73a9b94a15a05db2e0fc2fdaeb": {
          "model_module": "@jupyter-widgets/controls",
          "model_name": "DescriptionStyleModel",
          "model_module_version": "1.5.0",
          "state": {
            "_model_module": "@jupyter-widgets/controls",
            "_model_module_version": "1.5.0",
            "_model_name": "DescriptionStyleModel",
            "_view_count": null,
            "_view_module": "@jupyter-widgets/base",
            "_view_module_version": "1.2.0",
            "_view_name": "StyleView",
            "description_width": ""
          }
        },
        "6b6350238eda49ff89897ee468cd90a8": {
          "model_module": "@jupyter-widgets/controls",
          "model_name": "VBoxModel",
          "model_module_version": "1.5.0",
          "state": {
            "_dom_classes": [],
            "_model_module": "@jupyter-widgets/controls",
            "_model_module_version": "1.5.0",
            "_model_name": "VBoxModel",
            "_view_count": null,
            "_view_module": "@jupyter-widgets/controls",
            "_view_module_version": "1.5.0",
            "_view_name": "VBoxView",
            "box_style": "",
            "children": [
              "IPY_MODEL_2bd0591e055e413484fcb40369245bd2",
              "IPY_MODEL_666f47d0a2f04eb284652462ab8e1ecb"
            ],
            "layout": "IPY_MODEL_6dcb95145c6c4c359c4b8f37813abcdc"
          }
        },
        "2bd0591e055e413484fcb40369245bd2": {
          "model_module": "@jupyter-widgets/controls",
          "model_name": "LabelModel",
          "model_module_version": "1.5.0",
          "state": {
            "_dom_classes": [],
            "_model_module": "@jupyter-widgets/controls",
            "_model_module_version": "1.5.0",
            "_model_name": "LabelModel",
            "_view_count": null,
            "_view_module": "@jupyter-widgets/controls",
            "_view_module_version": "1.5.0",
            "_view_name": "LabelView",
            "description": "",
            "description_tooltip": null,
            "layout": "IPY_MODEL_37e99fc649054bc7b7919782dd88efd7",
            "placeholder": "​",
            "style": "IPY_MODEL_35e0c368a2774002b3f99bb1915ac703",
            "value": "0.001 MB of 0.009 MB uploaded (0.000 MB deduped)\r"
          }
        },
        "666f47d0a2f04eb284652462ab8e1ecb": {
          "model_module": "@jupyter-widgets/controls",
          "model_name": "FloatProgressModel",
          "model_module_version": "1.5.0",
          "state": {
            "_dom_classes": [],
            "_model_module": "@jupyter-widgets/controls",
            "_model_module_version": "1.5.0",
            "_model_name": "FloatProgressModel",
            "_view_count": null,
            "_view_module": "@jupyter-widgets/controls",
            "_view_module_version": "1.5.0",
            "_view_name": "ProgressView",
            "bar_style": "",
            "description": "",
            "description_tooltip": null,
            "layout": "IPY_MODEL_f2e91bdc5e7c4a06b3298cc5a690d465",
            "max": 1,
            "min": 0,
            "orientation": "horizontal",
            "style": "IPY_MODEL_456ca568435549ea8c769ed72213a2a4",
            "value": 0.08283313325330131
          }
        },
        "6dcb95145c6c4c359c4b8f37813abcdc": {
          "model_module": "@jupyter-widgets/base",
          "model_name": "LayoutModel",
          "model_module_version": "1.2.0",
          "state": {
            "_model_module": "@jupyter-widgets/base",
            "_model_module_version": "1.2.0",
            "_model_name": "LayoutModel",
            "_view_count": null,
            "_view_module": "@jupyter-widgets/base",
            "_view_module_version": "1.2.0",
            "_view_name": "LayoutView",
            "align_content": null,
            "align_items": null,
            "align_self": null,
            "border": null,
            "bottom": null,
            "display": null,
            "flex": null,
            "flex_flow": null,
            "grid_area": null,
            "grid_auto_columns": null,
            "grid_auto_flow": null,
            "grid_auto_rows": null,
            "grid_column": null,
            "grid_gap": null,
            "grid_row": null,
            "grid_template_areas": null,
            "grid_template_columns": null,
            "grid_template_rows": null,
            "height": null,
            "justify_content": null,
            "justify_items": null,
            "left": null,
            "margin": null,
            "max_height": null,
            "max_width": null,
            "min_height": null,
            "min_width": null,
            "object_fit": null,
            "object_position": null,
            "order": null,
            "overflow": null,
            "overflow_x": null,
            "overflow_y": null,
            "padding": null,
            "right": null,
            "top": null,
            "visibility": null,
            "width": null
          }
        },
        "37e99fc649054bc7b7919782dd88efd7": {
          "model_module": "@jupyter-widgets/base",
          "model_name": "LayoutModel",
          "model_module_version": "1.2.0",
          "state": {
            "_model_module": "@jupyter-widgets/base",
            "_model_module_version": "1.2.0",
            "_model_name": "LayoutModel",
            "_view_count": null,
            "_view_module": "@jupyter-widgets/base",
            "_view_module_version": "1.2.0",
            "_view_name": "LayoutView",
            "align_content": null,
            "align_items": null,
            "align_self": null,
            "border": null,
            "bottom": null,
            "display": null,
            "flex": null,
            "flex_flow": null,
            "grid_area": null,
            "grid_auto_columns": null,
            "grid_auto_flow": null,
            "grid_auto_rows": null,
            "grid_column": null,
            "grid_gap": null,
            "grid_row": null,
            "grid_template_areas": null,
            "grid_template_columns": null,
            "grid_template_rows": null,
            "height": null,
            "justify_content": null,
            "justify_items": null,
            "left": null,
            "margin": null,
            "max_height": null,
            "max_width": null,
            "min_height": null,
            "min_width": null,
            "object_fit": null,
            "object_position": null,
            "order": null,
            "overflow": null,
            "overflow_x": null,
            "overflow_y": null,
            "padding": null,
            "right": null,
            "top": null,
            "visibility": null,
            "width": null
          }
        },
        "35e0c368a2774002b3f99bb1915ac703": {
          "model_module": "@jupyter-widgets/controls",
          "model_name": "DescriptionStyleModel",
          "model_module_version": "1.5.0",
          "state": {
            "_model_module": "@jupyter-widgets/controls",
            "_model_module_version": "1.5.0",
            "_model_name": "DescriptionStyleModel",
            "_view_count": null,
            "_view_module": "@jupyter-widgets/base",
            "_view_module_version": "1.2.0",
            "_view_name": "StyleView",
            "description_width": ""
          }
        },
        "f2e91bdc5e7c4a06b3298cc5a690d465": {
          "model_module": "@jupyter-widgets/base",
          "model_name": "LayoutModel",
          "model_module_version": "1.2.0",
          "state": {
            "_model_module": "@jupyter-widgets/base",
            "_model_module_version": "1.2.0",
            "_model_name": "LayoutModel",
            "_view_count": null,
            "_view_module": "@jupyter-widgets/base",
            "_view_module_version": "1.2.0",
            "_view_name": "LayoutView",
            "align_content": null,
            "align_items": null,
            "align_self": null,
            "border": null,
            "bottom": null,
            "display": null,
            "flex": null,
            "flex_flow": null,
            "grid_area": null,
            "grid_auto_columns": null,
            "grid_auto_flow": null,
            "grid_auto_rows": null,
            "grid_column": null,
            "grid_gap": null,
            "grid_row": null,
            "grid_template_areas": null,
            "grid_template_columns": null,
            "grid_template_rows": null,
            "height": null,
            "justify_content": null,
            "justify_items": null,
            "left": null,
            "margin": null,
            "max_height": null,
            "max_width": null,
            "min_height": null,
            "min_width": null,
            "object_fit": null,
            "object_position": null,
            "order": null,
            "overflow": null,
            "overflow_x": null,
            "overflow_y": null,
            "padding": null,
            "right": null,
            "top": null,
            "visibility": null,
            "width": null
          }
        },
        "456ca568435549ea8c769ed72213a2a4": {
          "model_module": "@jupyter-widgets/controls",
          "model_name": "ProgressStyleModel",
          "model_module_version": "1.5.0",
          "state": {
            "_model_module": "@jupyter-widgets/controls",
            "_model_module_version": "1.5.0",
            "_model_name": "ProgressStyleModel",
            "_view_count": null,
            "_view_module": "@jupyter-widgets/base",
            "_view_module_version": "1.2.0",
            "_view_name": "StyleView",
            "bar_color": null,
            "description_width": ""
          }
        },
        "93e57214a759406fa54653d146729b16": {
          "model_module": "@jupyter-widgets/controls",
          "model_name": "HBoxModel",
          "model_module_version": "1.5.0",
          "state": {
            "_dom_classes": [],
            "_model_module": "@jupyter-widgets/controls",
            "_model_module_version": "1.5.0",
            "_model_name": "HBoxModel",
            "_view_count": null,
            "_view_module": "@jupyter-widgets/controls",
            "_view_module_version": "1.5.0",
            "_view_name": "HBoxView",
            "box_style": "",
            "children": [
              "IPY_MODEL_a5e6ebcca4664034a2034a44e3d9f3f3",
              "IPY_MODEL_0b35c04a3556405a9247a8c4c62d4f8f",
              "IPY_MODEL_f107e58e8b484f04bbe78cdda86ed5cc"
            ],
            "layout": "IPY_MODEL_817e8ab74a9544489f97220f3d644b1a"
          }
        },
        "a5e6ebcca4664034a2034a44e3d9f3f3": {
          "model_module": "@jupyter-widgets/controls",
          "model_name": "HTMLModel",
          "model_module_version": "1.5.0",
          "state": {
            "_dom_classes": [],
            "_model_module": "@jupyter-widgets/controls",
            "_model_module_version": "1.5.0",
            "_model_name": "HTMLModel",
            "_view_count": null,
            "_view_module": "@jupyter-widgets/controls",
            "_view_module_version": "1.5.0",
            "_view_name": "HTMLView",
            "description": "",
            "description_tooltip": null,
            "layout": "IPY_MODEL_89cd05c7f6f547d99469f3d3ab708166",
            "placeholder": "​",
            "style": "IPY_MODEL_2f3a4e7dc8284d9ba1be85f0ed783c16",
            "value": "100%"
          }
        },
        "0b35c04a3556405a9247a8c4c62d4f8f": {
          "model_module": "@jupyter-widgets/controls",
          "model_name": "FloatProgressModel",
          "model_module_version": "1.5.0",
          "state": {
            "_dom_classes": [],
            "_model_module": "@jupyter-widgets/controls",
            "_model_module_version": "1.5.0",
            "_model_name": "FloatProgressModel",
            "_view_count": null,
            "_view_module": "@jupyter-widgets/controls",
            "_view_module_version": "1.5.0",
            "_view_name": "ProgressView",
            "bar_style": "success",
            "description": "",
            "description_tooltip": null,
            "layout": "IPY_MODEL_e46297bbd79f42f9aeac85a6b338b24a",
            "max": 3,
            "min": 0,
            "orientation": "horizontal",
            "style": "IPY_MODEL_6e95fb9fa99345f2b4f033c7206bc422",
            "value": 3
          }
        },
        "f107e58e8b484f04bbe78cdda86ed5cc": {
          "model_module": "@jupyter-widgets/controls",
          "model_name": "HTMLModel",
          "model_module_version": "1.5.0",
          "state": {
            "_dom_classes": [],
            "_model_module": "@jupyter-widgets/controls",
            "_model_module_version": "1.5.0",
            "_model_name": "HTMLModel",
            "_view_count": null,
            "_view_module": "@jupyter-widgets/controls",
            "_view_module_version": "1.5.0",
            "_view_name": "HTMLView",
            "description": "",
            "description_tooltip": null,
            "layout": "IPY_MODEL_f39618156efc4562808de67f5d9da5a0",
            "placeholder": "​",
            "style": "IPY_MODEL_f97123b7c2c148b1b80edf3316428d71",
            "value": " 3/3 [00:31&lt;00:00, 10.54s/it]"
          }
        },
        "817e8ab74a9544489f97220f3d644b1a": {
          "model_module": "@jupyter-widgets/base",
          "model_name": "LayoutModel",
          "model_module_version": "1.2.0",
          "state": {
            "_model_module": "@jupyter-widgets/base",
            "_model_module_version": "1.2.0",
            "_model_name": "LayoutModel",
            "_view_count": null,
            "_view_module": "@jupyter-widgets/base",
            "_view_module_version": "1.2.0",
            "_view_name": "LayoutView",
            "align_content": null,
            "align_items": null,
            "align_self": null,
            "border": null,
            "bottom": null,
            "display": null,
            "flex": null,
            "flex_flow": null,
            "grid_area": null,
            "grid_auto_columns": null,
            "grid_auto_flow": null,
            "grid_auto_rows": null,
            "grid_column": null,
            "grid_gap": null,
            "grid_row": null,
            "grid_template_areas": null,
            "grid_template_columns": null,
            "grid_template_rows": null,
            "height": null,
            "justify_content": null,
            "justify_items": null,
            "left": null,
            "margin": null,
            "max_height": null,
            "max_width": null,
            "min_height": null,
            "min_width": null,
            "object_fit": null,
            "object_position": null,
            "order": null,
            "overflow": null,
            "overflow_x": null,
            "overflow_y": null,
            "padding": null,
            "right": null,
            "top": null,
            "visibility": null,
            "width": null
          }
        },
        "89cd05c7f6f547d99469f3d3ab708166": {
          "model_module": "@jupyter-widgets/base",
          "model_name": "LayoutModel",
          "model_module_version": "1.2.0",
          "state": {
            "_model_module": "@jupyter-widgets/base",
            "_model_module_version": "1.2.0",
            "_model_name": "LayoutModel",
            "_view_count": null,
            "_view_module": "@jupyter-widgets/base",
            "_view_module_version": "1.2.0",
            "_view_name": "LayoutView",
            "align_content": null,
            "align_items": null,
            "align_self": null,
            "border": null,
            "bottom": null,
            "display": null,
            "flex": null,
            "flex_flow": null,
            "grid_area": null,
            "grid_auto_columns": null,
            "grid_auto_flow": null,
            "grid_auto_rows": null,
            "grid_column": null,
            "grid_gap": null,
            "grid_row": null,
            "grid_template_areas": null,
            "grid_template_columns": null,
            "grid_template_rows": null,
            "height": null,
            "justify_content": null,
            "justify_items": null,
            "left": null,
            "margin": null,
            "max_height": null,
            "max_width": null,
            "min_height": null,
            "min_width": null,
            "object_fit": null,
            "object_position": null,
            "order": null,
            "overflow": null,
            "overflow_x": null,
            "overflow_y": null,
            "padding": null,
            "right": null,
            "top": null,
            "visibility": null,
            "width": null
          }
        },
        "2f3a4e7dc8284d9ba1be85f0ed783c16": {
          "model_module": "@jupyter-widgets/controls",
          "model_name": "DescriptionStyleModel",
          "model_module_version": "1.5.0",
          "state": {
            "_model_module": "@jupyter-widgets/controls",
            "_model_module_version": "1.5.0",
            "_model_name": "DescriptionStyleModel",
            "_view_count": null,
            "_view_module": "@jupyter-widgets/base",
            "_view_module_version": "1.2.0",
            "_view_name": "StyleView",
            "description_width": ""
          }
        },
        "e46297bbd79f42f9aeac85a6b338b24a": {
          "model_module": "@jupyter-widgets/base",
          "model_name": "LayoutModel",
          "model_module_version": "1.2.0",
          "state": {
            "_model_module": "@jupyter-widgets/base",
            "_model_module_version": "1.2.0",
            "_model_name": "LayoutModel",
            "_view_count": null,
            "_view_module": "@jupyter-widgets/base",
            "_view_module_version": "1.2.0",
            "_view_name": "LayoutView",
            "align_content": null,
            "align_items": null,
            "align_self": null,
            "border": null,
            "bottom": null,
            "display": null,
            "flex": null,
            "flex_flow": null,
            "grid_area": null,
            "grid_auto_columns": null,
            "grid_auto_flow": null,
            "grid_auto_rows": null,
            "grid_column": null,
            "grid_gap": null,
            "grid_row": null,
            "grid_template_areas": null,
            "grid_template_columns": null,
            "grid_template_rows": null,
            "height": null,
            "justify_content": null,
            "justify_items": null,
            "left": null,
            "margin": null,
            "max_height": null,
            "max_width": null,
            "min_height": null,
            "min_width": null,
            "object_fit": null,
            "object_position": null,
            "order": null,
            "overflow": null,
            "overflow_x": null,
            "overflow_y": null,
            "padding": null,
            "right": null,
            "top": null,
            "visibility": null,
            "width": null
          }
        },
        "6e95fb9fa99345f2b4f033c7206bc422": {
          "model_module": "@jupyter-widgets/controls",
          "model_name": "ProgressStyleModel",
          "model_module_version": "1.5.0",
          "state": {
            "_model_module": "@jupyter-widgets/controls",
            "_model_module_version": "1.5.0",
            "_model_name": "ProgressStyleModel",
            "_view_count": null,
            "_view_module": "@jupyter-widgets/base",
            "_view_module_version": "1.2.0",
            "_view_name": "StyleView",
            "bar_color": null,
            "description_width": ""
          }
        },
        "f39618156efc4562808de67f5d9da5a0": {
          "model_module": "@jupyter-widgets/base",
          "model_name": "LayoutModel",
          "model_module_version": "1.2.0",
          "state": {
            "_model_module": "@jupyter-widgets/base",
            "_model_module_version": "1.2.0",
            "_model_name": "LayoutModel",
            "_view_count": null,
            "_view_module": "@jupyter-widgets/base",
            "_view_module_version": "1.2.0",
            "_view_name": "LayoutView",
            "align_content": null,
            "align_items": null,
            "align_self": null,
            "border": null,
            "bottom": null,
            "display": null,
            "flex": null,
            "flex_flow": null,
            "grid_area": null,
            "grid_auto_columns": null,
            "grid_auto_flow": null,
            "grid_auto_rows": null,
            "grid_column": null,
            "grid_gap": null,
            "grid_row": null,
            "grid_template_areas": null,
            "grid_template_columns": null,
            "grid_template_rows": null,
            "height": null,
            "justify_content": null,
            "justify_items": null,
            "left": null,
            "margin": null,
            "max_height": null,
            "max_width": null,
            "min_height": null,
            "min_width": null,
            "object_fit": null,
            "object_position": null,
            "order": null,
            "overflow": null,
            "overflow_x": null,
            "overflow_y": null,
            "padding": null,
            "right": null,
            "top": null,
            "visibility": null,
            "width": null
          }
        },
        "f97123b7c2c148b1b80edf3316428d71": {
          "model_module": "@jupyter-widgets/controls",
          "model_name": "DescriptionStyleModel",
          "model_module_version": "1.5.0",
          "state": {
            "_model_module": "@jupyter-widgets/controls",
            "_model_module_version": "1.5.0",
            "_model_name": "DescriptionStyleModel",
            "_view_count": null,
            "_view_module": "@jupyter-widgets/base",
            "_view_module_version": "1.2.0",
            "_view_name": "StyleView",
            "description_width": ""
          }
        },
        "6efcea7611a24d82a8f493998adfe506": {
          "model_module": "@jupyter-widgets/controls",
          "model_name": "VBoxModel",
          "model_module_version": "1.5.0",
          "state": {
            "_dom_classes": [],
            "_model_module": "@jupyter-widgets/controls",
            "_model_module_version": "1.5.0",
            "_model_name": "VBoxModel",
            "_view_count": null,
            "_view_module": "@jupyter-widgets/controls",
            "_view_module_version": "1.5.0",
            "_view_name": "VBoxView",
            "box_style": "",
            "children": [
              "IPY_MODEL_efb434c905c74b56b25a50581ad056e5",
              "IPY_MODEL_74127e931a814448ba99427fa6f91d12"
            ],
            "layout": "IPY_MODEL_e31fbbae0bc042e9ad4164622d83e5b7"
          }
        },
        "efb434c905c74b56b25a50581ad056e5": {
          "model_module": "@jupyter-widgets/controls",
          "model_name": "LabelModel",
          "model_module_version": "1.5.0",
          "state": {
            "_dom_classes": [],
            "_model_module": "@jupyter-widgets/controls",
            "_model_module_version": "1.5.0",
            "_model_name": "LabelModel",
            "_view_count": null,
            "_view_module": "@jupyter-widgets/controls",
            "_view_module_version": "1.5.0",
            "_view_name": "LabelView",
            "description": "",
            "description_tooltip": null,
            "layout": "IPY_MODEL_afeefbb010ee467d91da9dda426364e9",
            "placeholder": "​",
            "style": "IPY_MODEL_a44eab40e62449888f89ea0ade6f4a62",
            "value": "0.001 MB of 0.009 MB uploaded (0.000 MB deduped)\r"
          }
        },
        "74127e931a814448ba99427fa6f91d12": {
          "model_module": "@jupyter-widgets/controls",
          "model_name": "FloatProgressModel",
          "model_module_version": "1.5.0",
          "state": {
            "_dom_classes": [],
            "_model_module": "@jupyter-widgets/controls",
            "_model_module_version": "1.5.0",
            "_model_name": "FloatProgressModel",
            "_view_count": null,
            "_view_module": "@jupyter-widgets/controls",
            "_view_module_version": "1.5.0",
            "_view_name": "ProgressView",
            "bar_style": "",
            "description": "",
            "description_tooltip": null,
            "layout": "IPY_MODEL_1a50a046c2b548b08506d90ab451a846",
            "max": 1,
            "min": 0,
            "orientation": "horizontal",
            "style": "IPY_MODEL_4b21a8565d0b404785f45f44adac2202",
            "value": 0.08082526853131979
          }
        },
        "e31fbbae0bc042e9ad4164622d83e5b7": {
          "model_module": "@jupyter-widgets/base",
          "model_name": "LayoutModel",
          "model_module_version": "1.2.0",
          "state": {
            "_model_module": "@jupyter-widgets/base",
            "_model_module_version": "1.2.0",
            "_model_name": "LayoutModel",
            "_view_count": null,
            "_view_module": "@jupyter-widgets/base",
            "_view_module_version": "1.2.0",
            "_view_name": "LayoutView",
            "align_content": null,
            "align_items": null,
            "align_self": null,
            "border": null,
            "bottom": null,
            "display": null,
            "flex": null,
            "flex_flow": null,
            "grid_area": null,
            "grid_auto_columns": null,
            "grid_auto_flow": null,
            "grid_auto_rows": null,
            "grid_column": null,
            "grid_gap": null,
            "grid_row": null,
            "grid_template_areas": null,
            "grid_template_columns": null,
            "grid_template_rows": null,
            "height": null,
            "justify_content": null,
            "justify_items": null,
            "left": null,
            "margin": null,
            "max_height": null,
            "max_width": null,
            "min_height": null,
            "min_width": null,
            "object_fit": null,
            "object_position": null,
            "order": null,
            "overflow": null,
            "overflow_x": null,
            "overflow_y": null,
            "padding": null,
            "right": null,
            "top": null,
            "visibility": null,
            "width": null
          }
        },
        "afeefbb010ee467d91da9dda426364e9": {
          "model_module": "@jupyter-widgets/base",
          "model_name": "LayoutModel",
          "model_module_version": "1.2.0",
          "state": {
            "_model_module": "@jupyter-widgets/base",
            "_model_module_version": "1.2.0",
            "_model_name": "LayoutModel",
            "_view_count": null,
            "_view_module": "@jupyter-widgets/base",
            "_view_module_version": "1.2.0",
            "_view_name": "LayoutView",
            "align_content": null,
            "align_items": null,
            "align_self": null,
            "border": null,
            "bottom": null,
            "display": null,
            "flex": null,
            "flex_flow": null,
            "grid_area": null,
            "grid_auto_columns": null,
            "grid_auto_flow": null,
            "grid_auto_rows": null,
            "grid_column": null,
            "grid_gap": null,
            "grid_row": null,
            "grid_template_areas": null,
            "grid_template_columns": null,
            "grid_template_rows": null,
            "height": null,
            "justify_content": null,
            "justify_items": null,
            "left": null,
            "margin": null,
            "max_height": null,
            "max_width": null,
            "min_height": null,
            "min_width": null,
            "object_fit": null,
            "object_position": null,
            "order": null,
            "overflow": null,
            "overflow_x": null,
            "overflow_y": null,
            "padding": null,
            "right": null,
            "top": null,
            "visibility": null,
            "width": null
          }
        },
        "a44eab40e62449888f89ea0ade6f4a62": {
          "model_module": "@jupyter-widgets/controls",
          "model_name": "DescriptionStyleModel",
          "model_module_version": "1.5.0",
          "state": {
            "_model_module": "@jupyter-widgets/controls",
            "_model_module_version": "1.5.0",
            "_model_name": "DescriptionStyleModel",
            "_view_count": null,
            "_view_module": "@jupyter-widgets/base",
            "_view_module_version": "1.2.0",
            "_view_name": "StyleView",
            "description_width": ""
          }
        },
        "1a50a046c2b548b08506d90ab451a846": {
          "model_module": "@jupyter-widgets/base",
          "model_name": "LayoutModel",
          "model_module_version": "1.2.0",
          "state": {
            "_model_module": "@jupyter-widgets/base",
            "_model_module_version": "1.2.0",
            "_model_name": "LayoutModel",
            "_view_count": null,
            "_view_module": "@jupyter-widgets/base",
            "_view_module_version": "1.2.0",
            "_view_name": "LayoutView",
            "align_content": null,
            "align_items": null,
            "align_self": null,
            "border": null,
            "bottom": null,
            "display": null,
            "flex": null,
            "flex_flow": null,
            "grid_area": null,
            "grid_auto_columns": null,
            "grid_auto_flow": null,
            "grid_auto_rows": null,
            "grid_column": null,
            "grid_gap": null,
            "grid_row": null,
            "grid_template_areas": null,
            "grid_template_columns": null,
            "grid_template_rows": null,
            "height": null,
            "justify_content": null,
            "justify_items": null,
            "left": null,
            "margin": null,
            "max_height": null,
            "max_width": null,
            "min_height": null,
            "min_width": null,
            "object_fit": null,
            "object_position": null,
            "order": null,
            "overflow": null,
            "overflow_x": null,
            "overflow_y": null,
            "padding": null,
            "right": null,
            "top": null,
            "visibility": null,
            "width": null
          }
        },
        "4b21a8565d0b404785f45f44adac2202": {
          "model_module": "@jupyter-widgets/controls",
          "model_name": "ProgressStyleModel",
          "model_module_version": "1.5.0",
          "state": {
            "_model_module": "@jupyter-widgets/controls",
            "_model_module_version": "1.5.0",
            "_model_name": "ProgressStyleModel",
            "_view_count": null,
            "_view_module": "@jupyter-widgets/base",
            "_view_module_version": "1.2.0",
            "_view_name": "StyleView",
            "bar_color": null,
            "description_width": ""
          }
        }
      }
    }
  },
  "cells": [
    {
      "cell_type": "markdown",
      "metadata": {
        "id": "view-in-github",
        "colab_type": "text"
      },
      "source": [
        "<a href=\"https://colab.research.google.com/github/benbatman/CNN_Projects/blob/main/PyTorch_MNIST_Exercises_with_wandb.ipynb\" target=\"_parent\"><img src=\"https://colab.research.google.com/assets/colab-badge.svg\" alt=\"Open In Colab\"/></a>"
      ]
    },
    {
      "cell_type": "code",
      "execution_count": 1,
      "metadata": {
        "colab": {
          "base_uri": "https://localhost:8080/"
        },
        "id": "ytLyonhADHRT",
        "outputId": "e3a41ed0-6b89-4056-9c8a-b29fcbf86319"
      },
      "outputs": [
        {
          "output_type": "stream",
          "name": "stdout",
          "text": [
            "PyTorch Version: 1.12.1+cu113\n"
          ]
        }
      ],
      "source": [
        "# Import dependencies \n",
        "import torch \n",
        "from torch import nn \n",
        "\n",
        "import torchvision \n",
        "from torchvision import datasets \n",
        "from torchvision.transforms import ToTensor \n",
        "from torch.utils.data import DataLoader \n",
        "\n",
        "\n",
        "import matplotlib.pyplot as plt \n",
        "import numpy as np \n",
        "import pandas as pd \n",
        "from tqdm.auto import tqdm \n",
        "\n",
        "print(f\"PyTorch Version: {torch.__version__}\")"
      ]
    },
    {
      "cell_type": "code",
      "source": [
        "!pip install wandb\n",
        "import wandb\n",
        "wandb.login()"
      ],
      "metadata": {
        "colab": {
          "base_uri": "https://localhost:8080/",
          "height": 1000
        },
        "id": "5LBut-ImFmmA",
        "outputId": "23b03d62-5853-4a85-8912-76450c52413e"
      },
      "execution_count": 2,
      "outputs": [
        {
          "output_type": "stream",
          "name": "stdout",
          "text": [
            "Looking in indexes: https://pypi.org/simple, https://us-python.pkg.dev/colab-wheels/public/simple/\n",
            "Collecting wandb\n",
            "  Downloading wandb-0.13.5-py2.py3-none-any.whl (1.9 MB)\n",
            "\u001b[K     |████████████████████████████████| 1.9 MB 12.0 MB/s \n",
            "\u001b[?25hCollecting sentry-sdk>=1.0.0\n",
            "  Downloading sentry_sdk-1.11.1-py2.py3-none-any.whl (168 kB)\n",
            "\u001b[K     |████████████████████████████████| 168 kB 11.6 MB/s \n",
            "\u001b[?25hRequirement already satisfied: promise<3,>=2.0 in /usr/local/lib/python3.7/dist-packages (from wandb) (2.3)\n",
            "Collecting pathtools\n",
            "  Downloading pathtools-0.1.2.tar.gz (11 kB)\n",
            "Collecting setproctitle\n",
            "  Downloading setproctitle-1.3.2-cp37-cp37m-manylinux_2_5_x86_64.manylinux1_x86_64.manylinux_2_17_x86_64.manylinux2014_x86_64.whl (30 kB)\n",
            "Requirement already satisfied: psutil>=5.0.0 in /usr/local/lib/python3.7/dist-packages (from wandb) (5.4.8)\n",
            "Requirement already satisfied: six>=1.13.0 in /usr/local/lib/python3.7/dist-packages (from wandb) (1.15.0)\n",
            "Requirement already satisfied: Click!=8.0.0,>=7.0 in /usr/local/lib/python3.7/dist-packages (from wandb) (7.1.2)\n",
            "Requirement already satisfied: setuptools in /usr/local/lib/python3.7/dist-packages (from wandb) (57.4.0)\n",
            "Collecting shortuuid>=0.5.0\n",
            "  Downloading shortuuid-1.0.11-py3-none-any.whl (10 kB)\n",
            "Requirement already satisfied: PyYAML in /usr/local/lib/python3.7/dist-packages (from wandb) (6.0)\n",
            "Requirement already satisfied: protobuf!=4.0.*,!=4.21.0,<5,>=3.12.0 in /usr/local/lib/python3.7/dist-packages (from wandb) (3.19.6)\n",
            "Collecting GitPython>=1.0.0\n",
            "  Downloading GitPython-3.1.29-py3-none-any.whl (182 kB)\n",
            "\u001b[K     |████████████████████████████████| 182 kB 43.2 MB/s \n",
            "\u001b[?25hRequirement already satisfied: requests<3,>=2.0.0 in /usr/local/lib/python3.7/dist-packages (from wandb) (2.23.0)\n",
            "Collecting docker-pycreds>=0.4.0\n",
            "  Downloading docker_pycreds-0.4.0-py2.py3-none-any.whl (9.0 kB)\n",
            "Collecting gitdb<5,>=4.0.1\n",
            "  Downloading gitdb-4.0.10-py3-none-any.whl (62 kB)\n",
            "\u001b[K     |████████████████████████████████| 62 kB 1.4 MB/s \n",
            "\u001b[?25hRequirement already satisfied: typing-extensions>=3.7.4.3 in /usr/local/lib/python3.7/dist-packages (from GitPython>=1.0.0->wandb) (4.1.1)\n",
            "Collecting smmap<6,>=3.0.1\n",
            "  Downloading smmap-5.0.0-py3-none-any.whl (24 kB)\n",
            "Requirement already satisfied: idna<3,>=2.5 in /usr/local/lib/python3.7/dist-packages (from requests<3,>=2.0.0->wandb) (2.10)\n",
            "Requirement already satisfied: chardet<4,>=3.0.2 in /usr/local/lib/python3.7/dist-packages (from requests<3,>=2.0.0->wandb) (3.0.4)\n",
            "Requirement already satisfied: certifi>=2017.4.17 in /usr/local/lib/python3.7/dist-packages (from requests<3,>=2.0.0->wandb) (2022.9.24)\n",
            "Requirement already satisfied: urllib3!=1.25.0,!=1.25.1,<1.26,>=1.21.1 in /usr/local/lib/python3.7/dist-packages (from requests<3,>=2.0.0->wandb) (1.24.3)\n",
            "Collecting sentry-sdk>=1.0.0\n",
            "  Downloading sentry_sdk-1.11.0-py2.py3-none-any.whl (168 kB)\n",
            "\u001b[K     |████████████████████████████████| 168 kB 72.6 MB/s \n",
            "\u001b[?25h  Downloading sentry_sdk-1.10.1-py2.py3-none-any.whl (166 kB)\n",
            "\u001b[K     |████████████████████████████████| 166 kB 72.6 MB/s \n",
            "\u001b[?25h  Downloading sentry_sdk-1.10.0-py2.py3-none-any.whl (166 kB)\n",
            "\u001b[K     |████████████████████████████████| 166 kB 74.2 MB/s \n",
            "\u001b[?25h  Downloading sentry_sdk-1.9.10-py2.py3-none-any.whl (162 kB)\n",
            "\u001b[K     |████████████████████████████████| 162 kB 71.9 MB/s \n",
            "\u001b[?25h  Downloading sentry_sdk-1.9.9-py2.py3-none-any.whl (162 kB)\n",
            "\u001b[K     |████████████████████████████████| 162 kB 75.5 MB/s \n",
            "\u001b[?25h  Downloading sentry_sdk-1.9.8-py2.py3-none-any.whl (158 kB)\n",
            "\u001b[K     |████████████████████████████████| 158 kB 71.4 MB/s \n",
            "\u001b[?25h  Downloading sentry_sdk-1.9.7-py2.py3-none-any.whl (157 kB)\n",
            "\u001b[K     |████████████████████████████████| 157 kB 72.5 MB/s \n",
            "\u001b[?25h  Downloading sentry_sdk-1.9.6-py2.py3-none-any.whl (157 kB)\n",
            "\u001b[K     |████████████████████████████████| 157 kB 74.6 MB/s \n",
            "\u001b[?25h  Downloading sentry_sdk-1.9.5-py2.py3-none-any.whl (157 kB)\n",
            "\u001b[K     |████████████████████████████████| 157 kB 68.8 MB/s \n",
            "\u001b[?25h  Downloading sentry_sdk-1.9.4-py2.py3-none-any.whl (157 kB)\n",
            "\u001b[K     |████████████████████████████████| 157 kB 71.7 MB/s \n",
            "\u001b[?25h  Downloading sentry_sdk-1.9.3-py2.py3-none-any.whl (157 kB)\n",
            "\u001b[K     |████████████████████████████████| 157 kB 60.6 MB/s \n",
            "\u001b[?25h  Downloading sentry_sdk-1.9.2-py2.py3-none-any.whl (157 kB)\n",
            "\u001b[K     |████████████████████████████████| 157 kB 69.9 MB/s \n",
            "\u001b[?25h  Downloading sentry_sdk-1.9.1-py2.py3-none-any.whl (157 kB)\n",
            "\u001b[K     |████████████████████████████████| 157 kB 75.0 MB/s \n",
            "\u001b[?25h  Downloading sentry_sdk-1.9.0-py2.py3-none-any.whl (156 kB)\n",
            "\u001b[K     |████████████████████████████████| 156 kB 76.6 MB/s \n",
            "\u001b[?25hBuilding wheels for collected packages: pathtools\n",
            "  Building wheel for pathtools (setup.py) ... \u001b[?25l\u001b[?25hdone\n",
            "  Created wheel for pathtools: filename=pathtools-0.1.2-py3-none-any.whl size=8806 sha256=97008489126faaf63c21de159a6671250a593c4bf3d399b6c7a0b69d14c89e03\n",
            "  Stored in directory: /root/.cache/pip/wheels/3e/31/09/fa59cef12cdcfecc627b3d24273699f390e71828921b2cbba2\n",
            "Successfully built pathtools\n",
            "Installing collected packages: smmap, gitdb, shortuuid, setproctitle, sentry-sdk, pathtools, GitPython, docker-pycreds, wandb\n",
            "Successfully installed GitPython-3.1.29 docker-pycreds-0.4.0 gitdb-4.0.10 pathtools-0.1.2 sentry-sdk-1.9.0 setproctitle-1.3.2 shortuuid-1.0.11 smmap-5.0.0 wandb-0.13.5\n"
          ]
        },
        {
          "output_type": "stream",
          "name": "stderr",
          "text": [
            "ERROR:wandb.jupyter:Failed to detect the name of this notebook, you can set it manually with the WANDB_NOTEBOOK_NAME environment variable to enable code saving.\n"
          ]
        },
        {
          "output_type": "display_data",
          "data": {
            "text/plain": [
              "<IPython.core.display.Javascript object>"
            ],
            "application/javascript": [
              "\n",
              "        window._wandbApiKey = new Promise((resolve, reject) => {\n",
              "            function loadScript(url) {\n",
              "            return new Promise(function(resolve, reject) {\n",
              "                let newScript = document.createElement(\"script\");\n",
              "                newScript.onerror = reject;\n",
              "                newScript.onload = resolve;\n",
              "                document.body.appendChild(newScript);\n",
              "                newScript.src = url;\n",
              "            });\n",
              "            }\n",
              "            loadScript(\"https://cdn.jsdelivr.net/npm/postmate/build/postmate.min.js\").then(() => {\n",
              "            const iframe = document.createElement('iframe')\n",
              "            iframe.style.cssText = \"width:0;height:0;border:none\"\n",
              "            document.body.appendChild(iframe)\n",
              "            const handshake = new Postmate({\n",
              "                container: iframe,\n",
              "                url: 'https://wandb.ai/authorize'\n",
              "            });\n",
              "            const timeout = setTimeout(() => reject(\"Couldn't auto authenticate\"), 5000)\n",
              "            handshake.then(function(child) {\n",
              "                child.on('authorize', data => {\n",
              "                    clearTimeout(timeout)\n",
              "                    resolve(data)\n",
              "                });\n",
              "            });\n",
              "            })\n",
              "        });\n",
              "    "
            ]
          },
          "metadata": {}
        },
        {
          "output_type": "stream",
          "name": "stderr",
          "text": [
            "\u001b[34m\u001b[1mwandb\u001b[0m: Appending key for api.wandb.ai to your netrc file: /root/.netrc\n"
          ]
        },
        {
          "output_type": "execute_result",
          "data": {
            "text/plain": [
              "True"
            ]
          },
          "metadata": {},
          "execution_count": 2
        }
      ]
    },
    {
      "cell_type": "code",
      "source": [
        "# Get training data \n",
        "train_data = datasets.MNIST(\n",
        "    root='data', \n",
        "    train=True, \n",
        "    download=True, \n",
        "    transform=ToTensor(), # turns PIL images into Torch tensors\n",
        "    target_transform=None\n",
        ")\n",
        "\n",
        "# Get test data \n",
        "test_data = datasets.MNIST( \n",
        "    root='data',\n",
        "    train=False, \n",
        "    download=True,\n",
        "    transform=ToTensor()\n",
        ")"
      ],
      "metadata": {
        "id": "zy59URyaD2AU",
        "colab": {
          "base_uri": "https://localhost:8080/",
          "height": 423,
          "referenced_widgets": [
            "1f0cb42eeae445a5b7354c9a530b56e4",
            "43d8f4072d0e4c46a419d54720bf4ad1",
            "699f78b4b75d4d20a68b5862430ec85c",
            "bce1d9b985124354a10d95777557db99",
            "3806b1bfbc7f4c8b84d2f0460874bd26",
            "331e967ad6e543d9870f5528e4b83d60",
            "e6b22a480fd04c90b172e8c79ccf672e",
            "cff90173297c4f908219b5dd23065fcd",
            "19502ff7857046349ec44cff95b99324",
            "96614da6825d446f858ceb5bc0a8049e",
            "cb185e1eba9e4661bd756ee609b12667",
            "c7c89d0455c74f558d830f7e99cf5a89",
            "cce757cf3016424fa8d1a5e78cf8c87f",
            "e25085f9b56043b4a1db083b507c8a36",
            "b3ac68f4ccc54784ac37b2d3552b07a1",
            "e93451ad113a45efb1ea420d8810b015",
            "26a0df0bbb674bc8b69d40868f07483a",
            "8bc9b9e1b6e643798b60a42bdb537c84",
            "8af2e64db7d34731a3a64ddde5aef0f5",
            "e3acd9a017b4485e957767346db90a28",
            "2a7f89b186ee42f4b314a0e4ea441833",
            "6a13990195f54f6b9ed30380f7da31b6",
            "37e4ff44f40a461d89955d75055fbec3",
            "abeb641f75cb4c6caf58686925d75728",
            "5679686b61be47e8b4810f3dac8b71c1",
            "ccdaff93090e439b8e9738c7f75ce792",
            "7e0b42956f254b3d85296b4ac892afcc",
            "f3a75232df1a4a89a374d2384c5ea22b",
            "8bb5fa57f40049baa65d094a158eab0b",
            "b4627ae961e546d19b96329d1f9f2288",
            "e24b4d905eac409e9b2deebb182ac0a2",
            "e84acbe7707e468c8d0a9b62644927e7",
            "05e90a894bf64948968de5248e5ff676",
            "1a73d3e771d04551b3cf2d57a35a7387",
            "4a6c424e11ed422aa730d3287d230271",
            "54a35a72ae3942cea302dd9ef5186546",
            "2510f0eebf634c128f4a4ad0012c13ed",
            "7b1932cf70664fbe8df5b88089126511",
            "ffdee8df96cf4fd88a0f4c2598e3a89e",
            "343980c6841f42edbd9b2a0b837ce401",
            "f03558099ff7489883f03c8f1283f333",
            "169b95d4f42c4f31bd6a058d1518a9fe",
            "96a8cb479f7f4ca4b33bcce0f7fb2a6c",
            "8555c34c378a4a4e90560b33cc5706ac"
          ]
        },
        "outputId": "d26a5b71-5345-4cb6-d8ab-6001383ff6b9"
      },
      "execution_count": 3,
      "outputs": [
        {
          "output_type": "stream",
          "name": "stdout",
          "text": [
            "Downloading http://yann.lecun.com/exdb/mnist/train-images-idx3-ubyte.gz\n",
            "Downloading http://yann.lecun.com/exdb/mnist/train-images-idx3-ubyte.gz to data/MNIST/raw/train-images-idx3-ubyte.gz\n"
          ]
        },
        {
          "output_type": "display_data",
          "data": {
            "text/plain": [
              "  0%|          | 0/9912422 [00:00<?, ?it/s]"
            ],
            "application/vnd.jupyter.widget-view+json": {
              "version_major": 2,
              "version_minor": 0,
              "model_id": "1f0cb42eeae445a5b7354c9a530b56e4"
            }
          },
          "metadata": {}
        },
        {
          "output_type": "stream",
          "name": "stdout",
          "text": [
            "Extracting data/MNIST/raw/train-images-idx3-ubyte.gz to data/MNIST/raw\n",
            "\n",
            "Downloading http://yann.lecun.com/exdb/mnist/train-labels-idx1-ubyte.gz\n",
            "Downloading http://yann.lecun.com/exdb/mnist/train-labels-idx1-ubyte.gz to data/MNIST/raw/train-labels-idx1-ubyte.gz\n"
          ]
        },
        {
          "output_type": "display_data",
          "data": {
            "text/plain": [
              "  0%|          | 0/28881 [00:00<?, ?it/s]"
            ],
            "application/vnd.jupyter.widget-view+json": {
              "version_major": 2,
              "version_minor": 0,
              "model_id": "c7c89d0455c74f558d830f7e99cf5a89"
            }
          },
          "metadata": {}
        },
        {
          "output_type": "stream",
          "name": "stdout",
          "text": [
            "Extracting data/MNIST/raw/train-labels-idx1-ubyte.gz to data/MNIST/raw\n",
            "\n",
            "Downloading http://yann.lecun.com/exdb/mnist/t10k-images-idx3-ubyte.gz\n",
            "Downloading http://yann.lecun.com/exdb/mnist/t10k-images-idx3-ubyte.gz to data/MNIST/raw/t10k-images-idx3-ubyte.gz\n"
          ]
        },
        {
          "output_type": "display_data",
          "data": {
            "text/plain": [
              "  0%|          | 0/1648877 [00:00<?, ?it/s]"
            ],
            "application/vnd.jupyter.widget-view+json": {
              "version_major": 2,
              "version_minor": 0,
              "model_id": "37e4ff44f40a461d89955d75055fbec3"
            }
          },
          "metadata": {}
        },
        {
          "output_type": "stream",
          "name": "stdout",
          "text": [
            "Extracting data/MNIST/raw/t10k-images-idx3-ubyte.gz to data/MNIST/raw\n",
            "\n",
            "Downloading http://yann.lecun.com/exdb/mnist/t10k-labels-idx1-ubyte.gz\n",
            "Downloading http://yann.lecun.com/exdb/mnist/t10k-labels-idx1-ubyte.gz to data/MNIST/raw/t10k-labels-idx1-ubyte.gz\n"
          ]
        },
        {
          "output_type": "display_data",
          "data": {
            "text/plain": [
              "  0%|          | 0/4542 [00:00<?, ?it/s]"
            ],
            "application/vnd.jupyter.widget-view+json": {
              "version_major": 2,
              "version_minor": 0,
              "model_id": "1a73d3e771d04551b3cf2d57a35a7387"
            }
          },
          "metadata": {}
        },
        {
          "output_type": "stream",
          "name": "stdout",
          "text": [
            "Extracting data/MNIST/raw/t10k-labels-idx1-ubyte.gz to data/MNIST/raw\n",
            "\n"
          ]
        }
      ]
    },
    {
      "cell_type": "code",
      "source": [
        "# Check first training sample \n",
        "image, label = train_data[0]\n",
        "image, label "
      ],
      "metadata": {
        "id": "GzWWOXV0uz75",
        "colab": {
          "base_uri": "https://localhost:8080/"
        },
        "outputId": "1da3d6c3-4692-4721-f7b6-89b5638835b8"
      },
      "execution_count": 4,
      "outputs": [
        {
          "output_type": "execute_result",
          "data": {
            "text/plain": [
              "(tensor([[[0.0000, 0.0000, 0.0000, 0.0000, 0.0000, 0.0000, 0.0000, 0.0000,\n",
              "           0.0000, 0.0000, 0.0000, 0.0000, 0.0000, 0.0000, 0.0000, 0.0000,\n",
              "           0.0000, 0.0000, 0.0000, 0.0000, 0.0000, 0.0000, 0.0000, 0.0000,\n",
              "           0.0000, 0.0000, 0.0000, 0.0000],\n",
              "          [0.0000, 0.0000, 0.0000, 0.0000, 0.0000, 0.0000, 0.0000, 0.0000,\n",
              "           0.0000, 0.0000, 0.0000, 0.0000, 0.0000, 0.0000, 0.0000, 0.0000,\n",
              "           0.0000, 0.0000, 0.0000, 0.0000, 0.0000, 0.0000, 0.0000, 0.0000,\n",
              "           0.0000, 0.0000, 0.0000, 0.0000],\n",
              "          [0.0000, 0.0000, 0.0000, 0.0000, 0.0000, 0.0000, 0.0000, 0.0000,\n",
              "           0.0000, 0.0000, 0.0000, 0.0000, 0.0000, 0.0000, 0.0000, 0.0000,\n",
              "           0.0000, 0.0000, 0.0000, 0.0000, 0.0000, 0.0000, 0.0000, 0.0000,\n",
              "           0.0000, 0.0000, 0.0000, 0.0000],\n",
              "          [0.0000, 0.0000, 0.0000, 0.0000, 0.0000, 0.0000, 0.0000, 0.0000,\n",
              "           0.0000, 0.0000, 0.0000, 0.0000, 0.0000, 0.0000, 0.0000, 0.0000,\n",
              "           0.0000, 0.0000, 0.0000, 0.0000, 0.0000, 0.0000, 0.0000, 0.0000,\n",
              "           0.0000, 0.0000, 0.0000, 0.0000],\n",
              "          [0.0000, 0.0000, 0.0000, 0.0000, 0.0000, 0.0000, 0.0000, 0.0000,\n",
              "           0.0000, 0.0000, 0.0000, 0.0000, 0.0000, 0.0000, 0.0000, 0.0000,\n",
              "           0.0000, 0.0000, 0.0000, 0.0000, 0.0000, 0.0000, 0.0000, 0.0000,\n",
              "           0.0000, 0.0000, 0.0000, 0.0000],\n",
              "          [0.0000, 0.0000, 0.0000, 0.0000, 0.0000, 0.0000, 0.0000, 0.0000,\n",
              "           0.0000, 0.0000, 0.0000, 0.0000, 0.0118, 0.0706, 0.0706, 0.0706,\n",
              "           0.4941, 0.5333, 0.6863, 0.1020, 0.6510, 1.0000, 0.9686, 0.4980,\n",
              "           0.0000, 0.0000, 0.0000, 0.0000],\n",
              "          [0.0000, 0.0000, 0.0000, 0.0000, 0.0000, 0.0000, 0.0000, 0.0000,\n",
              "           0.1176, 0.1412, 0.3686, 0.6039, 0.6667, 0.9922, 0.9922, 0.9922,\n",
              "           0.9922, 0.9922, 0.8824, 0.6745, 0.9922, 0.9490, 0.7647, 0.2510,\n",
              "           0.0000, 0.0000, 0.0000, 0.0000],\n",
              "          [0.0000, 0.0000, 0.0000, 0.0000, 0.0000, 0.0000, 0.0000, 0.1922,\n",
              "           0.9333, 0.9922, 0.9922, 0.9922, 0.9922, 0.9922, 0.9922, 0.9922,\n",
              "           0.9922, 0.9843, 0.3647, 0.3216, 0.3216, 0.2196, 0.1529, 0.0000,\n",
              "           0.0000, 0.0000, 0.0000, 0.0000],\n",
              "          [0.0000, 0.0000, 0.0000, 0.0000, 0.0000, 0.0000, 0.0000, 0.0706,\n",
              "           0.8588, 0.9922, 0.9922, 0.9922, 0.9922, 0.9922, 0.7765, 0.7137,\n",
              "           0.9686, 0.9451, 0.0000, 0.0000, 0.0000, 0.0000, 0.0000, 0.0000,\n",
              "           0.0000, 0.0000, 0.0000, 0.0000],\n",
              "          [0.0000, 0.0000, 0.0000, 0.0000, 0.0000, 0.0000, 0.0000, 0.0000,\n",
              "           0.3137, 0.6118, 0.4196, 0.9922, 0.9922, 0.8039, 0.0431, 0.0000,\n",
              "           0.1686, 0.6039, 0.0000, 0.0000, 0.0000, 0.0000, 0.0000, 0.0000,\n",
              "           0.0000, 0.0000, 0.0000, 0.0000],\n",
              "          [0.0000, 0.0000, 0.0000, 0.0000, 0.0000, 0.0000, 0.0000, 0.0000,\n",
              "           0.0000, 0.0549, 0.0039, 0.6039, 0.9922, 0.3529, 0.0000, 0.0000,\n",
              "           0.0000, 0.0000, 0.0000, 0.0000, 0.0000, 0.0000, 0.0000, 0.0000,\n",
              "           0.0000, 0.0000, 0.0000, 0.0000],\n",
              "          [0.0000, 0.0000, 0.0000, 0.0000, 0.0000, 0.0000, 0.0000, 0.0000,\n",
              "           0.0000, 0.0000, 0.0000, 0.5451, 0.9922, 0.7451, 0.0078, 0.0000,\n",
              "           0.0000, 0.0000, 0.0000, 0.0000, 0.0000, 0.0000, 0.0000, 0.0000,\n",
              "           0.0000, 0.0000, 0.0000, 0.0000],\n",
              "          [0.0000, 0.0000, 0.0000, 0.0000, 0.0000, 0.0000, 0.0000, 0.0000,\n",
              "           0.0000, 0.0000, 0.0000, 0.0431, 0.7451, 0.9922, 0.2745, 0.0000,\n",
              "           0.0000, 0.0000, 0.0000, 0.0000, 0.0000, 0.0000, 0.0000, 0.0000,\n",
              "           0.0000, 0.0000, 0.0000, 0.0000],\n",
              "          [0.0000, 0.0000, 0.0000, 0.0000, 0.0000, 0.0000, 0.0000, 0.0000,\n",
              "           0.0000, 0.0000, 0.0000, 0.0000, 0.1373, 0.9451, 0.8824, 0.6275,\n",
              "           0.4235, 0.0039, 0.0000, 0.0000, 0.0000, 0.0000, 0.0000, 0.0000,\n",
              "           0.0000, 0.0000, 0.0000, 0.0000],\n",
              "          [0.0000, 0.0000, 0.0000, 0.0000, 0.0000, 0.0000, 0.0000, 0.0000,\n",
              "           0.0000, 0.0000, 0.0000, 0.0000, 0.0000, 0.3176, 0.9412, 0.9922,\n",
              "           0.9922, 0.4667, 0.0980, 0.0000, 0.0000, 0.0000, 0.0000, 0.0000,\n",
              "           0.0000, 0.0000, 0.0000, 0.0000],\n",
              "          [0.0000, 0.0000, 0.0000, 0.0000, 0.0000, 0.0000, 0.0000, 0.0000,\n",
              "           0.0000, 0.0000, 0.0000, 0.0000, 0.0000, 0.0000, 0.1765, 0.7294,\n",
              "           0.9922, 0.9922, 0.5882, 0.1059, 0.0000, 0.0000, 0.0000, 0.0000,\n",
              "           0.0000, 0.0000, 0.0000, 0.0000],\n",
              "          [0.0000, 0.0000, 0.0000, 0.0000, 0.0000, 0.0000, 0.0000, 0.0000,\n",
              "           0.0000, 0.0000, 0.0000, 0.0000, 0.0000, 0.0000, 0.0000, 0.0627,\n",
              "           0.3647, 0.9882, 0.9922, 0.7333, 0.0000, 0.0000, 0.0000, 0.0000,\n",
              "           0.0000, 0.0000, 0.0000, 0.0000],\n",
              "          [0.0000, 0.0000, 0.0000, 0.0000, 0.0000, 0.0000, 0.0000, 0.0000,\n",
              "           0.0000, 0.0000, 0.0000, 0.0000, 0.0000, 0.0000, 0.0000, 0.0000,\n",
              "           0.0000, 0.9765, 0.9922, 0.9765, 0.2510, 0.0000, 0.0000, 0.0000,\n",
              "           0.0000, 0.0000, 0.0000, 0.0000],\n",
              "          [0.0000, 0.0000, 0.0000, 0.0000, 0.0000, 0.0000, 0.0000, 0.0000,\n",
              "           0.0000, 0.0000, 0.0000, 0.0000, 0.0000, 0.0000, 0.1804, 0.5098,\n",
              "           0.7176, 0.9922, 0.9922, 0.8118, 0.0078, 0.0000, 0.0000, 0.0000,\n",
              "           0.0000, 0.0000, 0.0000, 0.0000],\n",
              "          [0.0000, 0.0000, 0.0000, 0.0000, 0.0000, 0.0000, 0.0000, 0.0000,\n",
              "           0.0000, 0.0000, 0.0000, 0.0000, 0.1529, 0.5804, 0.8980, 0.9922,\n",
              "           0.9922, 0.9922, 0.9804, 0.7137, 0.0000, 0.0000, 0.0000, 0.0000,\n",
              "           0.0000, 0.0000, 0.0000, 0.0000],\n",
              "          [0.0000, 0.0000, 0.0000, 0.0000, 0.0000, 0.0000, 0.0000, 0.0000,\n",
              "           0.0000, 0.0000, 0.0941, 0.4471, 0.8667, 0.9922, 0.9922, 0.9922,\n",
              "           0.9922, 0.7882, 0.3059, 0.0000, 0.0000, 0.0000, 0.0000, 0.0000,\n",
              "           0.0000, 0.0000, 0.0000, 0.0000],\n",
              "          [0.0000, 0.0000, 0.0000, 0.0000, 0.0000, 0.0000, 0.0000, 0.0000,\n",
              "           0.0902, 0.2588, 0.8353, 0.9922, 0.9922, 0.9922, 0.9922, 0.7765,\n",
              "           0.3176, 0.0078, 0.0000, 0.0000, 0.0000, 0.0000, 0.0000, 0.0000,\n",
              "           0.0000, 0.0000, 0.0000, 0.0000],\n",
              "          [0.0000, 0.0000, 0.0000, 0.0000, 0.0000, 0.0000, 0.0706, 0.6706,\n",
              "           0.8588, 0.9922, 0.9922, 0.9922, 0.9922, 0.7647, 0.3137, 0.0353,\n",
              "           0.0000, 0.0000, 0.0000, 0.0000, 0.0000, 0.0000, 0.0000, 0.0000,\n",
              "           0.0000, 0.0000, 0.0000, 0.0000],\n",
              "          [0.0000, 0.0000, 0.0000, 0.0000, 0.2157, 0.6745, 0.8863, 0.9922,\n",
              "           0.9922, 0.9922, 0.9922, 0.9569, 0.5216, 0.0431, 0.0000, 0.0000,\n",
              "           0.0000, 0.0000, 0.0000, 0.0000, 0.0000, 0.0000, 0.0000, 0.0000,\n",
              "           0.0000, 0.0000, 0.0000, 0.0000],\n",
              "          [0.0000, 0.0000, 0.0000, 0.0000, 0.5333, 0.9922, 0.9922, 0.9922,\n",
              "           0.8314, 0.5294, 0.5176, 0.0627, 0.0000, 0.0000, 0.0000, 0.0000,\n",
              "           0.0000, 0.0000, 0.0000, 0.0000, 0.0000, 0.0000, 0.0000, 0.0000,\n",
              "           0.0000, 0.0000, 0.0000, 0.0000],\n",
              "          [0.0000, 0.0000, 0.0000, 0.0000, 0.0000, 0.0000, 0.0000, 0.0000,\n",
              "           0.0000, 0.0000, 0.0000, 0.0000, 0.0000, 0.0000, 0.0000, 0.0000,\n",
              "           0.0000, 0.0000, 0.0000, 0.0000, 0.0000, 0.0000, 0.0000, 0.0000,\n",
              "           0.0000, 0.0000, 0.0000, 0.0000],\n",
              "          [0.0000, 0.0000, 0.0000, 0.0000, 0.0000, 0.0000, 0.0000, 0.0000,\n",
              "           0.0000, 0.0000, 0.0000, 0.0000, 0.0000, 0.0000, 0.0000, 0.0000,\n",
              "           0.0000, 0.0000, 0.0000, 0.0000, 0.0000, 0.0000, 0.0000, 0.0000,\n",
              "           0.0000, 0.0000, 0.0000, 0.0000],\n",
              "          [0.0000, 0.0000, 0.0000, 0.0000, 0.0000, 0.0000, 0.0000, 0.0000,\n",
              "           0.0000, 0.0000, 0.0000, 0.0000, 0.0000, 0.0000, 0.0000, 0.0000,\n",
              "           0.0000, 0.0000, 0.0000, 0.0000, 0.0000, 0.0000, 0.0000, 0.0000,\n",
              "           0.0000, 0.0000, 0.0000, 0.0000]]]), 5)"
            ]
          },
          "metadata": {},
          "execution_count": 4
        }
      ]
    },
    {
      "cell_type": "code",
      "source": [
        "# Check shape \n",
        "image.shape # CHW "
      ],
      "metadata": {
        "colab": {
          "base_uri": "https://localhost:8080/"
        },
        "id": "M-J7Dzi0u5gr",
        "outputId": "e540f380-0007-4df0-8ec2-3cbd23338b9c"
      },
      "execution_count": 5,
      "outputs": [
        {
          "output_type": "execute_result",
          "data": {
            "text/plain": [
              "torch.Size([1, 28, 28])"
            ]
          },
          "metadata": {},
          "execution_count": 5
        }
      ]
    },
    {
      "cell_type": "code",
      "source": [
        "# How many samples \n",
        "len(train_data.data), len(train_data.targets), len(test_data.data), len(test_data.targets)"
      ],
      "metadata": {
        "colab": {
          "base_uri": "https://localhost:8080/"
        },
        "id": "GIHXfznpu-JX",
        "outputId": "e0c57f2d-3abf-4f96-b5a7-b5b068d602c5"
      },
      "execution_count": 6,
      "outputs": [
        {
          "output_type": "execute_result",
          "data": {
            "text/plain": [
              "(60000, 60000, 10000, 10000)"
            ]
          },
          "metadata": {},
          "execution_count": 6
        }
      ]
    },
    {
      "cell_type": "code",
      "source": [
        "class_names = train_data.classes\n",
        "class_names"
      ],
      "metadata": {
        "colab": {
          "base_uri": "https://localhost:8080/"
        },
        "id": "7U_Z9XnRvjPQ",
        "outputId": "fe5b9469-fbc0-4200-c7e7-c7d6e6b89987"
      },
      "execution_count": 7,
      "outputs": [
        {
          "output_type": "execute_result",
          "data": {
            "text/plain": [
              "['0 - zero',\n",
              " '1 - one',\n",
              " '2 - two',\n",
              " '3 - three',\n",
              " '4 - four',\n",
              " '5 - five',\n",
              " '6 - six',\n",
              " '7 - seven',\n",
              " '8 - eight',\n",
              " '9 - nine']"
            ]
          },
          "metadata": {},
          "execution_count": 7
        }
      ]
    },
    {
      "cell_type": "code",
      "source": [
        "# Plot one of the images \n",
        "image, label = train_data[0] \n",
        "print(f\"Image shape: {image.shape}\")\n",
        "plt.imshow(image.squeeze(), cmap='gray')\n",
        "plt.title(label) \n",
        "plt.axis(False);"
      ],
      "metadata": {
        "colab": {
          "base_uri": "https://localhost:8080/",
          "height": 281
        },
        "id": "pIfHAMxWvlXs",
        "outputId": "1dea4c02-d3fa-49f6-df23-484cd77ddedc"
      },
      "execution_count": 8,
      "outputs": [
        {
          "output_type": "stream",
          "name": "stdout",
          "text": [
            "Image shape: torch.Size([1, 28, 28])\n"
          ]
        },
        {
          "output_type": "display_data",
          "data": {
            "text/plain": [
              "<Figure size 432x288 with 1 Axes>"
            ],
            "image/png": "[encoded data removed]"
          },
          "metadata": {
            "needs_background": "light"
          }
        }
      ]
    },
    {
      "cell_type": "code",
      "source": [
        "# Plot multiple images at once \n",
        "fig = plt.figure(figsize=(10,10))\n",
        "rows, cols = 5,5 \n",
        "for i in range(1, rows*cols+1):\n",
        "  rand_idx = torch.randint(0, len(train_data), size=[1]).item()\n",
        "  img, label = train_data[rand_idx] \n",
        "  fig.add_subplot(rows, cols, i)\n",
        "  plt.imshow(img.squeeze(), cmap='gray')\n",
        "  plt.title(class_names[label])\n",
        "  plt.axis(False)"
      ],
      "metadata": {
        "colab": {
          "base_uri": "https://localhost:8080/",
          "height": 591
        },
        "id": "zAiVVcmEwEaU",
        "outputId": "fbeb97b6-51c2-4cc8-aad8-231a1e0f7533"
      },
      "execution_count": 9,
      "outputs": [
        {
          "output_type": "display_data",
          "data": {
            "text/plain": [
              "<Figure size 720x720 with 25 Axes>"
            ],
            "image/png": "[encoded data removed]"
          },
          "metadata": {
            "needs_background": "light"
          }
        }
      ]
    },
    {
      "cell_type": "code",
      "source": [
        "from torch.utils.data import DataLoader \n",
        "\n",
        "BATCH_SIZE = 32 \n",
        "\n",
        "# Turn datasets into iterables \n",
        "train_dataloader = DataLoader(train_data, \n",
        "                              batch_size=BATCH_SIZE, \n",
        "                              shuffle=True # shuffle data every epoch\n",
        "                              )\n",
        "\n",
        "test_dataloader = DataLoader(test_data,\n",
        "                             batch_size=BATCH_SIZE, \n",
        "                             shuffle=False # doesn't need to be shuffled\n",
        "                             )\n",
        "\n",
        "print(f\"Dataloaders: {train_dataloader, test_dataloader}\")\n",
        "print(f\"Length of train dataloader: {len(train_dataloader)} batches of {BATCH_SIZE}\")\n",
        "print(f\"Length of test dataloader: {len(test_dataloader)} batches of {BATCH_SIZE}\")\n"
      ],
      "metadata": {
        "colab": {
          "base_uri": "https://localhost:8080/"
        },
        "id": "AaLOUbDHxNji",
        "outputId": "db0009db-c1b3-42e3-8877-7afc3f01a79b"
      },
      "execution_count": 10,
      "outputs": [
        {
          "output_type": "stream",
          "name": "stdout",
          "text": [
            "Dataloaders: (<torch.utils.data.dataloader.DataLoader object at 0x7f130000cc50>, <torch.utils.data.dataloader.DataLoader object at 0x7f130000cbd0>)\n",
            "Length of train dataloader: 1875 batches of 32\n",
            "Length of test dataloader: 313 batches of 32\n"
          ]
        }
      ]
    },
    {
      "cell_type": "code",
      "source": [
        "train_features_batch, train_labels_batch = next(iter(train_dataloader))\n",
        "train_features_batch.shape, train_labels_batch.shape"
      ],
      "metadata": {
        "colab": {
          "base_uri": "https://localhost:8080/"
        },
        "id": "who-DOi6zZHe",
        "outputId": "e425f568-81c5-4b90-80e7-0ffb90921a87"
      },
      "execution_count": 11,
      "outputs": [
        {
          "output_type": "execute_result",
          "data": {
            "text/plain": [
              "(torch.Size([32, 1, 28, 28]), torch.Size([32]))"
            ]
          },
          "metadata": {},
          "execution_count": 11
        }
      ]
    },
    {
      "cell_type": "markdown",
      "source": [
        "## Model 0 : Baseline Model \n",
        "\n",
        "- Model has no linearity (i.e. only linear layers and no non-linear activation functions)"
      ],
      "metadata": {
        "id": "Sm1Y2O9p0EQt"
      }
    },
    {
      "cell_type": "code",
      "source": [
        "# Set up device agnostic code \n",
        "import torch \n",
        "device = \"cuda\" if torch.cuda.is_available() else \"cpu\"\n",
        "device"
      ],
      "metadata": {
        "colab": {
          "base_uri": "https://localhost:8080/",
          "height": 36
        },
        "id": "m0VTU8L0paSG",
        "outputId": "e1179495-3ae6-4d0c-c820-7c403db36454"
      },
      "execution_count": 12,
      "outputs": [
        {
          "output_type": "execute_result",
          "data": {
            "text/plain": [
              "'cuda'"
            ],
            "application/vnd.google.colaboratory.intrinsic+json": {
              "type": "string"
            }
          },
          "metadata": {},
          "execution_count": 12
        }
      ]
    },
    {
      "cell_type": "code",
      "source": [
        "from torch import nn \n",
        "class MNISTModelV0(nn.Module):\n",
        "  def __init__(self, input_shape: int, hidden_units: int, output_shape: int):\n",
        "    super().__init__()\n",
        "    self.layer_stack = nn.Sequential(\n",
        "        nn.Flatten(),\n",
        "        nn.Linear(in_features=input_shape, out_features=hidden_units),\n",
        "        nn.Linear(in_features=hidden_units, out_features=output_shape)\n",
        "    )\n",
        "\n",
        "  def forward(self, x):\n",
        "    return self.layer_stack(x)"
      ],
      "metadata": {
        "id": "ApYfr94h0VeP"
      },
      "execution_count": 13,
      "outputs": []
    },
    {
      "cell_type": "code",
      "source": [
        "# set up model with input parameters\n",
        "model_0 = MNISTModelV0(input_shape=784, \n",
        "                       hidden_units=32, \n",
        "                       output_shape=len(class_names))\n",
        "\n",
        "model_0.to(device)"
      ],
      "metadata": {
        "colab": {
          "base_uri": "https://localhost:8080/"
        },
        "id": "M68cFgyf1xqA",
        "outputId": "ff293a68-9228-4bdd-831a-c0734bf41bc1"
      },
      "execution_count": 14,
      "outputs": [
        {
          "output_type": "execute_result",
          "data": {
            "text/plain": [
              "MNISTModelV0(\n",
              "  (layer_stack): Sequential(\n",
              "    (0): Flatten(start_dim=1, end_dim=-1)\n",
              "    (1): Linear(in_features=784, out_features=32, bias=True)\n",
              "    (2): Linear(in_features=32, out_features=10, bias=True)\n",
              "  )\n",
              ")"
            ]
          },
          "metadata": {},
          "execution_count": 14
        }
      ]
    },
    {
      "cell_type": "code",
      "source": [
        "import requests \n",
        "from pathlib import Path \n",
        "\n",
        "request = requests.get(\"https://raw.githubusercontent.com/mrdbourke/pytorch-deep-learning/main/helper_functions.py\")\n",
        "with open(\"helper_functions.py\", \"wb\") as f:\n",
        "  f.write(request.content)"
      ],
      "metadata": {
        "id": "6-d2Y6K82BXb"
      },
      "execution_count": 15,
      "outputs": []
    },
    {
      "cell_type": "code",
      "source": [
        "# accuracy function gotten from ZTM PyTorch course\n",
        "def accuracy_fn(y_true, y_pred):\n",
        "  correct = torch.eq(y_true, y_pred).sum().item()\n",
        "  acc = (correct / len(y_pred)) * 100\n",
        "  return acc"
      ],
      "metadata": {
        "id": "shzU35MF3Q8-"
      },
      "execution_count": 16,
      "outputs": []
    },
    {
      "cell_type": "code",
      "source": [
        "# Set up loss function and optimizer \n",
        "loss_fn = nn.CrossEntropyLoss()\n",
        "optimizer = torch.optim.SGD(params=model_0.parameters(), lr=0.01)"
      ],
      "metadata": {
        "id": "GBqpw_kS4DJD"
      },
      "execution_count": 17,
      "outputs": []
    },
    {
      "cell_type": "code",
      "source": [
        "# Number of batches in our data\n",
        "len(train_dataloader), len(test_dataloader)"
      ],
      "metadata": {
        "colab": {
          "base_uri": "https://localhost:8080/"
        },
        "id": "SHA7plXfRpok",
        "outputId": "a41dce0b-6268-4f6a-db54-025f6bc1e542"
      },
      "execution_count": 18,
      "outputs": [
        {
          "output_type": "execute_result",
          "data": {
            "text/plain": [
              "(1875, 313)"
            ]
          },
          "metadata": {},
          "execution_count": 18
        }
      ]
    },
    {
      "cell_type": "code",
      "source": [
        "from tqdm.auto import tqdm \n",
        "\n",
        "epochs = 5\n",
        "\n",
        "# Create training and testing loop \n",
        "for epoch in tqdm(range(epochs)):\n",
        "  print(f\"Epoch: {epoch}\\n---------\")\n",
        "\n",
        "  train_loss = 0 \n",
        "  # Loop through training batches \n",
        "  for batch, (X,y) in enumerate(train_dataloader):\n",
        "    model_0.train()\n",
        "    # Put on target device \n",
        "    X, y = X.to(device), y.to(device)\n",
        "    # 1. Forward pass \n",
        "    y_pred = model_0(X) \n",
        "\n",
        "    # 2. Calculate loss (per batch)\n",
        "    loss = loss_fn(y_pred, y) \n",
        "    train_loss += loss # accumulatively add up the loss per epoch\n",
        "\n",
        "    # 3. Optimizer zero grad \n",
        "    optimizer.zero_grad() \n",
        "\n",
        "    # 4. Loss backward \n",
        "    loss.backward() \n",
        "\n",
        "    # 5. Optimizer step \n",
        "    optimizer.step() \n",
        "\n",
        "    if batch % 400 == 0:\n",
        "      print(f\"Looked at {batch * len(X)}/{len(train_dataloader.dataset)} samples\")\n",
        "\n",
        "  train_loss /= len(train_dataloader) \n",
        "\n",
        "  ### Testing \n",
        "  # Set up variables for accumulatively adding up loss and accuracy \n",
        "  test_loss, test_acc = 0,0 \n",
        "  model_0.eval() \n",
        "  with torch.inference_mode():\n",
        "    for X, y in test_dataloader:\n",
        "      # Put on target device \n",
        "      X, y = X.to(device), y.to(device)\n",
        "      # 1. Forward pass \n",
        "      test_pred = model_0(X) \n",
        "\n",
        "      # 2. Calculate loss \n",
        "      test_loss += loss_fn(test_pred, y) # Accumulatively add up the loss per epcoh \n",
        "\n",
        "      # 3. Calculate accuracy\n",
        "      test_acc += accuracy_fn(y_true=y, y_pred=test_pred.argmax(dim=1))\n",
        "\n",
        "    # Divide total test loss by length of test dataloader (per batch)\n",
        "    test_loss /= len(test_dataloader)\n",
        "\n",
        "    test_acc /= len(test_dataloader)\n",
        "\n",
        "    # Print out what's happening \n",
        "    print(f\"\\nTrain loss: {train_loss:.5f} | Test loss: {test_loss:.5f}, Test acc: {test_acc:.2f}\")"
      ],
      "metadata": {
        "colab": {
          "base_uri": "https://localhost:8080/",
          "height": 830,
          "referenced_widgets": [
            "b7582eb1bf6d4a15aacbe53edac44141",
            "cc45b178570e4eb9b8eaa28d848ce926",
            "2e1e9d6eda0546da967f25ad2c293900",
            "1642d8d106084ff5b47cc53d7cbbdca4",
            "c391d5c492f94a999cda2d784958cd2c",
            "06914ba7ea174a68a35887f9dbeccbf3",
            "71c61db2c99e4c94a88f70b80a7037c4",
            "68654a44c81542d8983624852e48c77d",
            "03a10ad434464da7a1dde607069e4bcd",
            "5029d1d36c524781bc457b3042ae5683",
            "59ec61933b00479aa92529437b4aabe5"
          ]
        },
        "id": "Pq8u0t0K4TU3",
        "outputId": "85ec91a6-1d05-482f-de6a-4e2a3a59ab3b"
      },
      "execution_count": 19,
      "outputs": [
        {
          "output_type": "display_data",
          "data": {
            "text/plain": [
              "  0%|          | 0/5 [00:00<?, ?it/s]"
            ],
            "application/vnd.jupyter.widget-view+json": {
              "version_major": 2,
              "version_minor": 0,
              "model_id": "b7582eb1bf6d4a15aacbe53edac44141"
            }
          },
          "metadata": {}
        },
        {
          "output_type": "stream",
          "name": "stdout",
          "text": [
            "Epoch: 0\n",
            "---------\n",
            "Looked at 0/60000 samples\n",
            "Looked at 12800/60000 samples\n",
            "Looked at 25600/60000 samples\n",
            "Looked at 38400/60000 samples\n",
            "Looked at 51200/60000 samples\n",
            "\n",
            "Train loss: 0.81232 | Test loss: 0.40907, Test acc: 89.04\n",
            "Epoch: 1\n",
            "---------\n",
            "Looked at 0/60000 samples\n",
            "Looked at 12800/60000 samples\n",
            "Looked at 25600/60000 samples\n",
            "Looked at 38400/60000 samples\n",
            "Looked at 51200/60000 samples\n",
            "\n",
            "Train loss: 0.38584 | Test loss: 0.33594, Test acc: 90.59\n",
            "Epoch: 2\n",
            "---------\n",
            "Looked at 0/60000 samples\n",
            "Looked at 12800/60000 samples\n",
            "Looked at 25600/60000 samples\n",
            "Looked at 38400/60000 samples\n",
            "Looked at 51200/60000 samples\n",
            "\n",
            "Train loss: 0.34045 | Test loss: 0.31262, Test acc: 91.17\n",
            "Epoch: 3\n",
            "---------\n",
            "Looked at 0/60000 samples\n",
            "Looked at 12800/60000 samples\n",
            "Looked at 25600/60000 samples\n",
            "Looked at 38400/60000 samples\n",
            "Looked at 51200/60000 samples\n",
            "\n",
            "Train loss: 0.32053 | Test loss: 0.29985, Test acc: 91.71\n",
            "Epoch: 4\n",
            "---------\n",
            "Looked at 0/60000 samples\n",
            "Looked at 12800/60000 samples\n",
            "Looked at 25600/60000 samples\n",
            "Looked at 38400/60000 samples\n",
            "Looked at 51200/60000 samples\n",
            "\n",
            "Train loss: 0.30828 | Test loss: 0.29390, Test acc: 91.78\n"
          ]
        }
      ]
    },
    {
      "cell_type": "markdown",
      "source": [
        "## Predictions and Model_0 results"
      ],
      "metadata": {
        "id": "gcThVo_r5bDM"
      }
    },
    {
      "cell_type": "code",
      "source": [
        "def eval_model(model: torch.nn.Module, \n",
        "               data_loader: torch.utils.data.DataLoader, \n",
        "               loss_fn: torch.nn.Module,\n",
        "               accuracy_fn,\n",
        "               device: torch.device = device): \n",
        "\n",
        "  \"\"\"\n",
        "  Returns a dictionary with the model results predicted on a data_loader\n",
        "  \"\"\"\n",
        "\n",
        "  loss, acc = 0,0     # Zero out loss and accuracy \n",
        "  model.eval() # model in evaluation mode\n",
        "  with torch.inference_mode():\n",
        "    for X, y in data_loader:\n",
        "      # Send data to target device \n",
        "      X, y = X.to(device), y.to(device)\n",
        "      # Make predictions with the model \n",
        "      y_pred = model(X) \n",
        "\n",
        "      # Accumulate the loss and accuracy values per batch \n",
        "      loss += loss_fn(y_pred, y) \n",
        "      acc += accuracy_fn(y_true=y, \n",
        "                          y_pred=y_pred.argmax(dim=1))\n",
        "      \n",
        "    # Scale loss and acc to find average loss/acc per batch\n",
        "    loss /= len(data_loader) # loss divided by # of batches\n",
        "    acc /= len(data_loader) # accuracy divided by # of batches\n",
        "\n",
        "  return {\"model_name\": model.__class__.__name__, \n",
        "          \"model_loss\": loss.item(), \n",
        "          \"model_acc\": acc} "
      ],
      "metadata": {
        "id": "R-dICh35SL_a"
      },
      "execution_count": 20,
      "outputs": []
    },
    {
      "cell_type": "code",
      "source": [
        "# Calculate model 0 results on the test dataset \n",
        "model_0_results = eval_model(model=model_0, \n",
        "                              data_loader=test_dataloader,\n",
        "                              loss_fn=loss_fn, \n",
        "                              accuracy_fn=accuracy_fn)\n",
        "\n",
        "model_0_results"
      ],
      "metadata": {
        "colab": {
          "base_uri": "https://localhost:8080/"
        },
        "id": "sdspRENrURdg",
        "outputId": "49763078-4067-4562-a8b2-ad0938282caf"
      },
      "execution_count": 21,
      "outputs": [
        {
          "output_type": "execute_result",
          "data": {
            "text/plain": [
              "{'model_name': 'MNISTModelV0',\n",
              " 'model_loss': 0.2938983738422394,\n",
              " 'model_acc': 91.78314696485623}"
            ]
          },
          "metadata": {},
          "execution_count": 21
        }
      ]
    },
    {
      "cell_type": "markdown",
      "source": [
        "## Model 1: Adding non-linearity"
      ],
      "metadata": {
        "id": "-w4XVr-BU--z"
      }
    },
    {
      "cell_type": "code",
      "source": [
        "# Build model with ReLU activation functions (non-linear function) \n",
        "class MNISTModelV1(nn.Module): \n",
        "  def __init__(self, input_shape: int, hidden_units: int, output_shape: int): \n",
        "    super().__init__() \n",
        "    self.layer_stack = nn.Sequential( \n",
        "        nn.Flatten(), # flatten inputs to 1D feature vector \n",
        "        nn.Linear(in_features=input_shape, out_features=hidden_units),\n",
        "        nn.ReLU(), # non-linear activation function \n",
        "        nn.Linear(in_features=hidden_units, out_features=output_shape),\n",
        "        nn.ReLU()\n",
        "    )\n",
        "\n",
        "  def forward(self, x: torch.Tensor):\n",
        "    return self.layer_stack(x)"
      ],
      "metadata": {
        "id": "9XSUYl1BVQ29"
      },
      "execution_count": 22,
      "outputs": []
    },
    {
      "cell_type": "code",
      "source": [
        "model_1 = MNISTModelV1(input_shape=784, \n",
        "                       hidden_units=32, \n",
        "                       output_shape=len(class_names)).to(device) # output_shape must match number of classes in our dataset\n",
        "                       "
      ],
      "metadata": {
        "id": "ITE93oztV8GT"
      },
      "execution_count": 23,
      "outputs": []
    },
    {
      "cell_type": "code",
      "source": [
        "# Check device\n",
        "next(model_1.parameters()).device"
      ],
      "metadata": {
        "colab": {
          "base_uri": "https://localhost:8080/"
        },
        "id": "pzHmJQHvWjs7",
        "outputId": "56efe50a-863d-41eb-95df-1b4b04c163cf"
      },
      "execution_count": 24,
      "outputs": [
        {
          "output_type": "execute_result",
          "data": {
            "text/plain": [
              "device(type='cuda', index=0)"
            ]
          },
          "metadata": {},
          "execution_count": 24
        }
      ]
    },
    {
      "cell_type": "code",
      "source": [
        "# Set up loss, optimier and evaluation metrics \n",
        "loss_fn = nn.CrossEntropyLoss() \n",
        "optimizer = torch.optim.SGD(params=model_1.parameters(),\n",
        "                             lr=0.01)"
      ],
      "metadata": {
        "id": "KkoLf--tWolZ"
      },
      "execution_count": 25,
      "outputs": []
    },
    {
      "cell_type": "code",
      "source": [
        "# Build training and testing functions \n",
        "# Function originally built in ZTM PyTorch course by Daniel Bourke\n",
        "\n",
        "def train_step(model: torch.nn.Module, \n",
        "               data_loader: torch.utils.data.DataLoader, \n",
        "               optimizer: torch.nn.Module, \n",
        "               loss_fn: torch.nn.Module,\n",
        "               accuracy_fn=accuracy_fn, \n",
        "               device: torch.device = device):\n",
        "  \"\"\" \n",
        "  Iterates over a data_loader and returns the training loss and accuracy\n",
        "\n",
        "  Args:\n",
        "  --------\n",
        "\n",
        "  Returns: \n",
        "  --------\n",
        "  \"\"\"\n",
        "\n",
        "  train_loss, train_acc = 0,0 # zero out training loss and accuracy \n",
        "  for batch, (X,y) in enumerate(data_loader): # enumerate will iterate through the batches in data_loader\n",
        "    # Send data to GPU (if available) \n",
        "    X, y = X.to(device), y.to(device) \n",
        "\n",
        "    # 1. Forward pass \n",
        "    y_pred = model(X) \n",
        "\n",
        "    # 2. Calculate loss \n",
        "    loss = loss_fn(y_pred, y) \n",
        "    train_loss += loss \n",
        "    train_acc += accuracy_fn(y_true=y, \n",
        "                             y_pred=y_pred.argmax(dim=1)) # logits -> pred labels\n",
        "\n",
        "    # 3. Optimizer zero grad \n",
        "    optimizer.zero_grad()\n",
        "\n",
        "    # 4. Loss backward \n",
        "    loss.backward() \n",
        "\n",
        "    # 5. Optimizer step \n",
        "    optimizer.step() \n",
        "\n",
        "  # Get loss and accuracy per epoch\n",
        "  train_loss /= len(data_loader) \n",
        "  train_acc /= len(data_loader) \n",
        "\n",
        "  print(f\"Train loss: {train_loss} | Train accuracy: {train_acc:.2f}%\")\n",
        "\n",
        "def test_step(data_loader: torch.utils.data.DataLoader, \n",
        "              model: torch.nn.Module, \n",
        "              loss_fn: torch.nn.Module, \n",
        "              accuracy_fn,\n",
        "              device: torch.device = device): \n",
        "    \n",
        "  test_loss, test_acc = 0,0 \n",
        "  model.eval() # model in eval mode \n",
        "  # Turn on inference context manager\n",
        "  with torch.inference_mode(): \n",
        "    for X, y in data_loader: \n",
        "      # Send data to GPU \n",
        "      X, y = X.to(device), y.to(device)\n",
        "\n",
        "      # 1. Forward pass \n",
        "      test_pred = model(X) # get predictions \n",
        "\n",
        "      # 2. Calculate loss and accuracy \n",
        "      test_loss += loss_fn(test_pred, y) \n",
        "      test_acc += accuracy_fn(y_true=y, \n",
        "                              y_pred=test_pred.argmax(dim=1)) # logits -> pred labels\n",
        "      \n",
        "    # Adjust metrics and print out \n",
        "    test_loss /= len(data_loader) \n",
        "    test_acc /= len(data_loader)\n",
        "    print(f\"Test loss: {test_loss:.5f} | Test accuracy: {test_acc:.2f}%\\n\")\n"
      ],
      "metadata": {
        "id": "gIwIkhiLXV8I"
      },
      "execution_count": 26,
      "outputs": []
    },
    {
      "cell_type": "code",
      "source": [
        "# Set number of epochs\n",
        "epochs = 5 \n",
        "\n",
        "# Iterate over epochs \n",
        "for epoch in tqdm(range(epochs)): \n",
        "  print(f\"Epoch: {epoch}\\n-------\")\n",
        "  train_step(data_loader=train_dataloader, \n",
        "             model=model_1, \n",
        "             loss_fn=loss_fn, \n",
        "             optimizer=optimizer,  \n",
        "             accuracy_fn=accuracy_fn\n",
        "             )\n",
        "\n",
        "  test_step(data_loader=test_dataloader,  \n",
        "            model=model_1,  \n",
        "            loss_fn=loss_fn,  \n",
        "            accuracy_fn=accuracy_fn,  \n",
        "            ) "
      ],
      "metadata": {
        "colab": {
          "base_uri": "https://localhost:8080/",
          "height": 483,
          "referenced_widgets": [
            "c29e1914b4934ee594d4cb7df8fe9607",
            "97fde1d683984c52a820456b54656009",
            "1a5bdcca4d4a4eab986637fa8eee72cb",
            "b796a9a8d18d4e89aeb634a85dbb25f3",
            "e0042e145a534e1f96d038263e209c5c",
            "9cbd1dc2a3a84b7c8b643240122ce851",
            "d65943ea52844bc5aa0d9c0f819cfe27",
            "652b2091d6d74ae5894fe81936cf2c27",
            "3e22ce4e892f4e5aa76d201572ccf063",
            "d041b925899b4afbaaa8ede3a10679ec",
            "84f166f37c694078accede947384933c"
          ]
        },
        "id": "DpZKisRQcjn5",
        "outputId": "f1c52be2-5607-4e0e-bf95-39bce0a5d4a2"
      },
      "execution_count": 27,
      "outputs": [
        {
          "output_type": "display_data",
          "data": {
            "text/plain": [
              "  0%|          | 0/5 [00:00<?, ?it/s]"
            ],
            "application/vnd.jupyter.widget-view+json": {
              "version_major": 2,
              "version_minor": 0,
              "model_id": "c29e1914b4934ee594d4cb7df8fe9607"
            }
          },
          "metadata": {}
        },
        {
          "output_type": "stream",
          "name": "stdout",
          "text": [
            "Epoch: 0\n",
            "-------\n",
            "Train loss: 1.3103960752487183 | Train accuracy: 62.60%\n",
            "Test loss: 0.88191 | Test accuracy: 72.25%\n",
            "\n",
            "Epoch: 1\n",
            "-------\n",
            "Train loss: 0.661980926990509 | Train accuracy: 80.62%\n",
            "Test loss: 0.37680 | Test accuracy: 89.79%\n",
            "\n",
            "Epoch: 2\n",
            "-------\n",
            "Train loss: 0.3477233648300171 | Train accuracy: 90.27%\n",
            "Test loss: 0.30998 | Test accuracy: 91.38%\n",
            "\n",
            "Epoch: 3\n",
            "-------\n",
            "Train loss: 0.30486929416656494 | Train accuracy: 91.31%\n",
            "Test loss: 0.28275 | Test accuracy: 92.32%\n",
            "\n",
            "Epoch: 4\n",
            "-------\n",
            "Train loss: 0.28012925386428833 | Train accuracy: 92.09%\n",
            "Test loss: 0.26556 | Test accuracy: 92.51%\n",
            "\n"
          ]
        }
      ]
    },
    {
      "cell_type": "code",
      "source": [
        "# Get model_1 results\n",
        "model_1_results = eval_model(model=model_1, data_loader=test_dataloader,  \n",
        "                             loss_fn=loss_fn,  \n",
        "                             accuracy_fn=accuracy_fn,  \n",
        "                             device=device)\n",
        "model_1_results"
      ],
      "metadata": {
        "colab": {
          "base_uri": "https://localhost:8080/"
        },
        "id": "Aq3Do1IpeJ9h",
        "outputId": "3be22f6b-3ac9-4876-a6c5-231828227aef"
      },
      "execution_count": 28,
      "outputs": [
        {
          "output_type": "execute_result",
          "data": {
            "text/plain": [
              "{'model_name': 'MNISTModelV1',\n",
              " 'model_loss': 0.2655579745769501,\n",
              " 'model_acc': 92.51198083067092}"
            ]
          },
          "metadata": {},
          "execution_count": 28
        }
      ]
    },
    {
      "cell_type": "code",
      "source": [
        "model_0_results"
      ],
      "metadata": {
        "colab": {
          "base_uri": "https://localhost:8080/"
        },
        "id": "kcNDh3k2f-ba",
        "outputId": "07bc3567-b50f-49ff-c8df-182b393dddcb"
      },
      "execution_count": 29,
      "outputs": [
        {
          "output_type": "execute_result",
          "data": {
            "text/plain": [
              "{'model_name': 'MNISTModelV0',\n",
              " 'model_loss': 0.2938983738422394,\n",
              " 'model_acc': 91.78314696485623}"
            ]
          },
          "metadata": {},
          "execution_count": 29
        }
      ]
    },
    {
      "cell_type": "markdown",
      "source": [
        "## Model 2: Conv2D model"
      ],
      "metadata": {
        "id": "Hx1YhuDfgAOC"
      }
    },
    {
      "cell_type": "code",
      "source": [
        "# Build convolutoinal model\n",
        "class MNISTModelV2(nn.Module): \n",
        "  def __init__(self, input_shape: int, hidden_units, output_shape: int):\n",
        "    super().__init__()\n",
        "    self.block_1 = nn.Sequential( \n",
        "        nn.Conv2d(in_channels=input_shape,  \n",
        "                  out_channels=hidden_units, \n",
        "                  kernel_size=3, \n",
        "                  stride=1, \n",
        "                  padding=1),\n",
        "    nn.ReLU(), \n",
        "    nn.MaxPool2d(kernel_size=2, \n",
        "                 stride=2)\n",
        "    )\n",
        "\n",
        "    self.block_2 = nn.Sequential( \n",
        "        nn.Conv2d(hidden_units, hidden_units, 3, padding=1), \n",
        "        nn.ReLU(), \n",
        "        nn.Conv2d(hidden_units, hidden_units, 3, padding=1), \n",
        "        nn.ReLU(), \n",
        "        nn.MaxPool2d(2)\n",
        "    )\n",
        "    self.classifier = nn.Sequential( \n",
        "        nn.Flatten(), \n",
        "        nn.Linear(in_features=hidden_units*7*7, # 7 because we have two nn.MaxPool2d layers before this\n",
        "                  out_features=output_shape)\n",
        "    )\n",
        "\n",
        "  def forward(self, x: torch.Tensor):\n",
        "    x = self.block_1(x) \n",
        "    x = self.block_2(x) \n",
        "    x = self.classifier(x) \n",
        "    return x "
      ],
      "metadata": {
        "id": "XZ56CWl6gPDp"
      },
      "execution_count": 30,
      "outputs": []
    },
    {
      "cell_type": "code",
      "source": [
        "model_2 = MNISTModelV2(input_shape=1, \n",
        "                       hidden_units=10, \n",
        "                       output_shape=len(class_names)).to(device)\n",
        "model_2"
      ],
      "metadata": {
        "colab": {
          "base_uri": "https://localhost:8080/"
        },
        "id": "5wR6q6hKjEKt",
        "outputId": "943b109e-868e-41c3-f6e5-8873b2805de6"
      },
      "execution_count": 31,
      "outputs": [
        {
          "output_type": "execute_result",
          "data": {
            "text/plain": [
              "MNISTModelV2(\n",
              "  (block_1): Sequential(\n",
              "    (0): Conv2d(1, 10, kernel_size=(3, 3), stride=(1, 1), padding=(1, 1))\n",
              "    (1): ReLU()\n",
              "    (2): MaxPool2d(kernel_size=2, stride=2, padding=0, dilation=1, ceil_mode=False)\n",
              "  )\n",
              "  (block_2): Sequential(\n",
              "    (0): Conv2d(10, 10, kernel_size=(3, 3), stride=(1, 1), padding=(1, 1))\n",
              "    (1): ReLU()\n",
              "    (2): Conv2d(10, 10, kernel_size=(3, 3), stride=(1, 1), padding=(1, 1))\n",
              "    (3): ReLU()\n",
              "    (4): MaxPool2d(kernel_size=2, stride=2, padding=0, dilation=1, ceil_mode=False)\n",
              "  )\n",
              "  (classifier): Sequential(\n",
              "    (0): Flatten(start_dim=1, end_dim=-1)\n",
              "    (1): Linear(in_features=490, out_features=10, bias=True)\n",
              "  )\n",
              ")"
            ]
          },
          "metadata": {},
          "execution_count": 31
        }
      ]
    },
    {
      "cell_type": "code",
      "source": [
        "model_2.state_dict()"
      ],
      "metadata": {
        "colab": {
          "base_uri": "https://localhost:8080/"
        },
        "id": "BOkfa0guj4CC",
        "outputId": "82940812-a956-4ae8-98b9-568fa77c1dc6"
      },
      "execution_count": 32,
      "outputs": [
        {
          "output_type": "execute_result",
          "data": {
            "text/plain": [
              "OrderedDict([('block_1.0.weight', tensor([[[[-0.2624,  0.2086,  0.2425],\n",
              "                        [ 0.0737, -0.2436, -0.1582],\n",
              "                        [ 0.0058,  0.0077,  0.2591]]],\n",
              "              \n",
              "              \n",
              "                      [[[ 0.1696,  0.0251,  0.2840],\n",
              "                        [-0.3211, -0.3072,  0.2903],\n",
              "                        [ 0.3039, -0.0942, -0.2749]]],\n",
              "              \n",
              "              \n",
              "                      [[[-0.2078, -0.1701, -0.2296],\n",
              "                        [ 0.0914, -0.0870, -0.3041],\n",
              "                        [ 0.1297,  0.2657,  0.0896]]],\n",
              "              \n",
              "              \n",
              "                      [[[-0.1830,  0.1187, -0.2670],\n",
              "                        [-0.1362, -0.3212,  0.0485],\n",
              "                        [ 0.2693,  0.1619, -0.2789]]],\n",
              "              \n",
              "              \n",
              "                      [[[-0.1103, -0.1032,  0.2026],\n",
              "                        [-0.1186, -0.1156,  0.0677],\n",
              "                        [-0.2812, -0.0764,  0.0847]]],\n",
              "              \n",
              "              \n",
              "                      [[[ 0.2812, -0.1394, -0.1219],\n",
              "                        [ 0.2163,  0.3041,  0.0631],\n",
              "                        [ 0.2662,  0.1731,  0.2972]]],\n",
              "              \n",
              "              \n",
              "                      [[[ 0.1314, -0.0740,  0.3099],\n",
              "                        [ 0.0613, -0.3142, -0.1467],\n",
              "                        [ 0.1562,  0.1533, -0.2249]]],\n",
              "              \n",
              "              \n",
              "                      [[[ 0.1467, -0.1368, -0.1793],\n",
              "                        [-0.0005,  0.2399,  0.0426],\n",
              "                        [-0.2416, -0.2001,  0.1891]]],\n",
              "              \n",
              "              \n",
              "                      [[[-0.2020, -0.2745,  0.1297],\n",
              "                        [ 0.0332,  0.0669, -0.0584],\n",
              "                        [-0.3257,  0.0501, -0.1734]]],\n",
              "              \n",
              "              \n",
              "                      [[[-0.1625,  0.1385, -0.1979],\n",
              "                        [ 0.3124,  0.1813,  0.1829],\n",
              "                        [ 0.0528, -0.1842,  0.1142]]]], device='cuda:0')),\n",
              "             ('block_1.0.bias',\n",
              "              tensor([-0.1258,  0.0341,  0.2835,  0.2914, -0.3158,  0.2841,  0.0603,  0.3205,\n",
              "                       0.2366,  0.3171], device='cuda:0')),\n",
              "             ('block_2.0.weight', tensor([[[[ 0.0559, -0.0052,  0.0012],\n",
              "                        [-0.0294,  0.0975, -0.0129],\n",
              "                        [-0.0690,  0.0322, -0.0291]],\n",
              "              \n",
              "                       [[ 0.0051, -0.0165,  0.0436],\n",
              "                        [ 0.0667,  0.0395,  0.1036],\n",
              "                        [ 0.0196, -0.0798, -0.1044]],\n",
              "              \n",
              "                       [[-0.0123,  0.0921,  0.0150],\n",
              "                        [ 0.0472,  0.0310, -0.0873],\n",
              "                        [-0.0769,  0.0815, -0.0887]],\n",
              "              \n",
              "                       [[-0.0405,  0.0533, -0.0185],\n",
              "                        [-0.0629, -0.0811,  0.0338],\n",
              "                        [ 0.0852, -0.0025,  0.0044]],\n",
              "              \n",
              "                       [[ 0.0089, -0.0551, -0.0519],\n",
              "                        [ 0.0158,  0.0163,  0.0437],\n",
              "                        [ 0.0972,  0.0694,  0.0711]],\n",
              "              \n",
              "                       [[ 0.0716, -0.0601, -0.0130],\n",
              "                        [ 0.0136,  0.0443,  0.0387],\n",
              "                        [-0.0384,  0.0753,  0.0350]],\n",
              "              \n",
              "                       [[ 0.0580, -0.0726,  0.0442],\n",
              "                        [-0.0978, -0.0174,  0.0963],\n",
              "                        [-0.0676, -0.0932, -0.0370]],\n",
              "              \n",
              "                       [[ 0.0855, -0.0267, -0.0718],\n",
              "                        [-0.0724, -0.0714, -0.0029],\n",
              "                        [ 0.0796,  0.0028, -0.0403]],\n",
              "              \n",
              "                       [[ 0.0929, -0.0177,  0.0598],\n",
              "                        [ 0.0620, -0.0877, -0.0046],\n",
              "                        [ 0.0071,  0.0666,  0.0729]],\n",
              "              \n",
              "                       [[-0.0268,  0.0535,  0.0209],\n",
              "                        [ 0.1050,  0.0802,  0.0867],\n",
              "                        [-0.0434,  0.0597, -0.0522]]],\n",
              "              \n",
              "              \n",
              "                      [[[ 0.0742, -0.0355,  0.0119],\n",
              "                        [ 0.0285,  0.0405,  0.0395],\n",
              "                        [-0.0146, -0.0907,  0.0732]],\n",
              "              \n",
              "                       [[ 0.1010, -0.0905, -0.0410],\n",
              "                        [-0.0243, -0.0944, -0.0467],\n",
              "                        [-0.0907, -0.0276,  0.0610]],\n",
              "              \n",
              "                       [[-0.0700,  0.0348, -0.0272],\n",
              "                        [ 0.0332,  0.0786,  0.0130],\n",
              "                        [ 0.0452, -0.0713,  0.0121]],\n",
              "              \n",
              "                       [[-0.0656,  0.1053, -0.0417],\n",
              "                        [ 0.1042, -0.0070, -0.1009],\n",
              "                        [-0.0176,  0.0003,  0.0509]],\n",
              "              \n",
              "                       [[ 0.0859,  0.0633,  0.0431],\n",
              "                        [ 0.0040,  0.0685,  0.0241],\n",
              "                        [ 0.0392, -0.0692,  0.0401]],\n",
              "              \n",
              "                       [[ 0.0234,  0.0085,  0.0316],\n",
              "                        [ 0.0124,  0.1027, -0.1050],\n",
              "                        [-0.0528,  0.0386,  0.0512]],\n",
              "              \n",
              "                       [[-0.0114, -0.0345, -0.0478],\n",
              "                        [ 0.0391, -0.0459,  0.0718],\n",
              "                        [ 0.0218, -0.0066,  0.0600]],\n",
              "              \n",
              "                       [[-0.0508, -0.0424,  0.0530],\n",
              "                        [-0.0589, -0.0235,  0.0573],\n",
              "                        [-0.0767, -0.0918, -0.0536]],\n",
              "              \n",
              "                       [[-0.0610, -0.0521,  0.0139],\n",
              "                        [ 0.0876,  0.0649,  0.1041],\n",
              "                        [-0.1036,  0.0776,  0.0471]],\n",
              "              \n",
              "                       [[-0.0273, -0.0613, -0.1006],\n",
              "                        [-0.0600,  0.0901, -0.0050],\n",
              "                        [ 0.0719,  0.0472,  0.0505]]],\n",
              "              \n",
              "              \n",
              "                      [[[ 0.0238,  0.0368, -0.0033],\n",
              "                        [ 0.0341, -0.0135,  0.0958],\n",
              "                        [-0.0862,  0.0943, -0.0392]],\n",
              "              \n",
              "                       [[-0.1012, -0.0892,  0.0490],\n",
              "                        [-0.0388,  0.0327,  0.0334],\n",
              "                        [ 0.0345, -0.0241, -0.0400]],\n",
              "              \n",
              "                       [[-0.0850, -0.0832, -0.0233],\n",
              "                        [ 0.0670,  0.0282, -0.0213],\n",
              "                        [-0.0999, -0.0343,  0.0076]],\n",
              "              \n",
              "                       [[ 0.0337, -0.0015,  0.0246],\n",
              "                        [-0.0998, -0.0193,  0.0114],\n",
              "                        [ 0.0947, -0.0142,  0.0967]],\n",
              "              \n",
              "                       [[-0.0384, -0.0930, -0.0106],\n",
              "                        [ 0.0746,  0.0047, -0.0970],\n",
              "                        [-0.0060,  0.0401,  0.0820]],\n",
              "              \n",
              "                       [[-0.0535, -0.0339,  0.0128],\n",
              "                        [-0.0879,  0.0656, -0.0144],\n",
              "                        [ 0.0082,  0.0741, -0.0236]],\n",
              "              \n",
              "                       [[ 0.0599, -0.0357,  0.0960],\n",
              "                        [-0.0620,  0.0746,  0.0781],\n",
              "                        [ 0.0633, -0.0620, -0.0924]],\n",
              "              \n",
              "                       [[-0.0463, -0.0540,  0.0686],\n",
              "                        [ 0.0146,  0.0532,  0.0999],\n",
              "                        [ 0.0557, -0.0353, -0.0589]],\n",
              "              \n",
              "                       [[ 0.0716,  0.0891, -0.0841],\n",
              "                        [ 0.0016, -0.0463, -0.0198],\n",
              "                        [ 0.0390,  0.0430, -0.0197]],\n",
              "              \n",
              "                       [[-0.0567, -0.0849, -0.0179],\n",
              "                        [ 0.0719, -0.0039,  0.0632],\n",
              "                        [ 0.0002, -0.0277, -0.0615]]],\n",
              "              \n",
              "              \n",
              "                      [[[-0.0361,  0.0405, -0.0338],\n",
              "                        [ 0.0583, -0.0563, -0.0541],\n",
              "                        [ 0.0758, -0.0552, -0.0479]],\n",
              "              \n",
              "                       [[ 0.0832,  0.0152,  0.0091],\n",
              "                        [-0.0323,  0.0434,  0.0202],\n",
              "                        [-0.0776, -0.1028,  0.0217]],\n",
              "              \n",
              "                       [[ 0.0760, -0.0164,  0.0783],\n",
              "                        [-0.0492,  0.0199,  0.0092],\n",
              "                        [ 0.0342,  0.0075,  0.0536]],\n",
              "              \n",
              "                       [[ 0.0360, -0.0734,  0.0497],\n",
              "                        [ 0.0402, -0.0533, -0.0335],\n",
              "                        [-0.0531, -0.0788,  0.0698]],\n",
              "              \n",
              "                       [[ 0.0527,  0.0965, -0.0909],\n",
              "                        [-0.0168, -0.1023,  0.0264],\n",
              "                        [ 0.0794, -0.0644, -0.0692]],\n",
              "              \n",
              "                       [[-0.0912,  0.0656,  0.0795],\n",
              "                        [-0.0640, -0.0817,  0.0049],\n",
              "                        [-0.0721,  0.0309, -0.1035]],\n",
              "              \n",
              "                       [[ 0.0912, -0.0593, -0.0786],\n",
              "                        [ 0.0580,  0.0891, -0.0096],\n",
              "                        [-0.0318,  0.0083,  0.0296]],\n",
              "              \n",
              "                       [[ 0.0686,  0.0424, -0.0334],\n",
              "                        [ 0.0555,  0.0516, -0.0955],\n",
              "                        [ 0.0264, -0.0944, -0.1034]],\n",
              "              \n",
              "                       [[-0.0862, -0.0549, -0.0583],\n",
              "                        [ 0.0035,  0.0157, -0.0097],\n",
              "                        [ 0.0500, -0.0585, -0.0246]],\n",
              "              \n",
              "                       [[ 0.0027,  0.0218,  0.0656],\n",
              "                        [ 0.0306,  0.0200,  0.0063],\n",
              "                        [ 0.0689,  0.0336, -0.0486]]],\n",
              "              \n",
              "              \n",
              "                      [[[-0.1024, -0.0384, -0.0512],\n",
              "                        [-0.0237,  0.0935,  0.0673],\n",
              "                        [-0.0065,  0.0807,  0.0699]],\n",
              "              \n",
              "                       [[-0.1000, -0.0464,  0.0881],\n",
              "                        [ 0.0505,  0.0116, -0.0268],\n",
              "                        [-0.0249,  0.0240,  0.0358]],\n",
              "              \n",
              "                       [[-0.0397,  0.0682, -0.0697],\n",
              "                        [-0.0551, -0.0094, -0.0413],\n",
              "                        [ 0.0132, -0.0839,  0.0306]],\n",
              "              \n",
              "                       [[ 0.0678,  0.0282, -0.0992],\n",
              "                        [ 0.0350,  0.0691,  0.0650],\n",
              "                        [ 0.0164, -0.0054, -0.0572]],\n",
              "              \n",
              "                       [[ 0.0374, -0.0949, -0.0541],\n",
              "                        [ 0.0729, -0.0630, -0.0646],\n",
              "                        [-0.0399,  0.0314, -0.0982]],\n",
              "              \n",
              "                       [[-0.0752, -0.0372,  0.0250],\n",
              "                        [-0.0354,  0.0273,  0.0261],\n",
              "                        [ 0.0206, -0.0582, -0.0407]],\n",
              "              \n",
              "                       [[-0.0002,  0.0219,  0.0826],\n",
              "                        [-0.0107, -0.0532, -0.0649],\n",
              "                        [-0.0140,  0.0142,  0.1045]],\n",
              "              \n",
              "                       [[ 0.0606, -0.0506,  0.0220],\n",
              "                        [-0.1037, -0.0458,  0.0853],\n",
              "                        [ 0.0450,  0.0238, -0.0433]],\n",
              "              \n",
              "                       [[ 0.0237, -0.0781, -0.0027],\n",
              "                        [-0.0881, -0.0418,  0.0431],\n",
              "                        [-0.0266,  0.0900,  0.0140]],\n",
              "              \n",
              "                       [[-0.0214,  0.0683, -0.0495],\n",
              "                        [ 0.0986, -0.0494,  0.0625],\n",
              "                        [-0.0196,  0.0907, -0.0827]]],\n",
              "              \n",
              "              \n",
              "                      [[[ 0.0553, -0.0240,  0.0063],\n",
              "                        [-0.0676,  0.0955,  0.0131],\n",
              "                        [-0.0406, -0.0140,  0.1043]],\n",
              "              \n",
              "                       [[-0.0189,  0.0626,  0.0555],\n",
              "                        [-0.0300, -0.0123,  0.0195],\n",
              "                        [-0.0443, -0.0300, -0.0636]],\n",
              "              \n",
              "                       [[-0.0463, -0.0529, -0.0328],\n",
              "                        [-0.0455, -0.0805, -0.0215],\n",
              "                        [ 0.0389,  0.0174, -0.0867]],\n",
              "              \n",
              "                       [[ 0.0302, -0.0672, -0.0765],\n",
              "                        [-0.0606,  0.0923, -0.0262],\n",
              "                        [-0.0513,  0.0275,  0.0712]],\n",
              "              \n",
              "                       [[ 0.0459,  0.0829,  0.0159],\n",
              "                        [-0.1011, -0.0513,  0.0491],\n",
              "                        [ 0.0161,  0.0469,  0.0970]],\n",
              "              \n",
              "                       [[-0.0854,  0.0430, -0.0172],\n",
              "                        [-0.0201, -0.0071, -0.0255],\n",
              "                        [-0.0774, -0.0668, -0.0209]],\n",
              "              \n",
              "                       [[-0.0709, -0.1027,  0.0442],\n",
              "                        [-0.0467, -0.0734, -0.0399],\n",
              "                        [-0.0555,  0.0236, -0.0715]],\n",
              "              \n",
              "                       [[-0.1022,  0.0991,  0.0498],\n",
              "                        [ 0.0590,  0.0779,  0.0340],\n",
              "                        [-0.0335, -0.0580,  0.0980]],\n",
              "              \n",
              "                       [[-0.0270,  0.0738,  0.0607],\n",
              "                        [ 0.0135,  0.0388, -0.0933],\n",
              "                        [-0.0952, -0.0789, -0.0819]],\n",
              "              \n",
              "                       [[ 0.0124, -0.0618, -0.1034],\n",
              "                        [ 0.0438,  0.0208, -0.0377],\n",
              "                        [ 0.0061, -0.0685,  0.0844]]],\n",
              "              \n",
              "              \n",
              "                      [[[-0.0663,  0.0253,  0.0533],\n",
              "                        [ 0.0919,  0.0623, -0.0991],\n",
              "                        [ 0.0747,  0.0560,  0.0334]],\n",
              "              \n",
              "                       [[ 0.0132,  0.0358, -0.0739],\n",
              "                        [-0.0366, -0.0968,  0.0308],\n",
              "                        [ 0.0938, -0.0780, -0.0160]],\n",
              "              \n",
              "                       [[ 0.0756, -0.0435, -0.0229],\n",
              "                        [-0.0420, -0.0483,  0.0279],\n",
              "                        [-0.0893,  0.0788,  0.0743]],\n",
              "              \n",
              "                       [[ 0.0991,  0.0852, -0.0106],\n",
              "                        [ 0.0126, -0.0763,  0.0216],\n",
              "                        [-0.0819, -0.0518, -0.0746]],\n",
              "              \n",
              "                       [[-0.0261,  0.0174,  0.1006],\n",
              "                        [ 0.0037,  0.0720, -0.0434],\n",
              "                        [-0.0334,  0.0851,  0.1000]],\n",
              "              \n",
              "                       [[-0.0298, -0.0502,  0.0574],\n",
              "                        [-0.0814, -0.0579, -0.0770],\n",
              "                        [ 0.0162,  0.0029, -0.0855]],\n",
              "              \n",
              "                       [[ 0.0675, -0.0058, -0.0975],\n",
              "                        [ 0.0877, -0.0197,  0.0743],\n",
              "                        [-0.0263, -0.0880,  0.0181]],\n",
              "              \n",
              "                       [[ 0.0976, -0.0467,  0.0104],\n",
              "                        [ 0.0981, -0.0381,  0.0265],\n",
              "                        [ 0.0076,  0.0381,  0.0636]],\n",
              "              \n",
              "                       [[ 0.0609, -0.1040, -0.0398],\n",
              "                        [-0.0374,  0.0728, -0.0095],\n",
              "                        [-0.0536,  0.0478,  0.0003]],\n",
              "              \n",
              "                       [[ 0.0453, -0.0655,  0.0803],\n",
              "                        [-0.0494,  0.0170,  0.0096],\n",
              "                        [ 0.0778,  0.0260, -0.1025]]],\n",
              "              \n",
              "              \n",
              "                      [[[-0.0726,  0.0095, -0.0048],\n",
              "                        [ 0.0840, -0.0273,  0.1004],\n",
              "                        [-0.0068, -0.0990,  0.0417]],\n",
              "              \n",
              "                       [[ 0.0782, -0.0551, -0.0388],\n",
              "                        [ 0.0100, -0.0459,  0.0484],\n",
              "                        [ 0.0849,  0.0835,  0.0353]],\n",
              "              \n",
              "                       [[-0.0051, -0.0307, -0.0693],\n",
              "                        [ 0.0006,  0.0157,  0.0228],\n",
              "                        [ 0.0124,  0.0152, -0.0854]],\n",
              "              \n",
              "                       [[ 0.0910, -0.0222,  0.0084],\n",
              "                        [ 0.0142, -0.0163, -0.0283],\n",
              "                        [ 0.0941,  0.0889, -0.0473]],\n",
              "              \n",
              "                       [[ 0.0910,  0.0928,  0.0466],\n",
              "                        [ 0.0443,  0.0076, -0.0515],\n",
              "                        [-0.0632, -0.0556, -0.0582]],\n",
              "              \n",
              "                       [[-0.0231,  0.0232,  0.0687],\n",
              "                        [-0.1012, -0.0792, -0.0345],\n",
              "                        [-0.0523, -0.0612, -0.1025]],\n",
              "              \n",
              "                       [[-0.0779, -0.0740,  0.0815],\n",
              "                        [ 0.0843,  0.0284, -0.0601],\n",
              "                        [ 0.0568, -0.0392,  0.0355]],\n",
              "              \n",
              "                       [[-0.0035,  0.0486, -0.0069],\n",
              "                        [-0.0918, -0.0851, -0.0126],\n",
              "                        [ 0.0644, -0.0430, -0.0743]],\n",
              "              \n",
              "                       [[-0.0936, -0.0710, -0.0822],\n",
              "                        [-0.0910,  0.0018, -0.0664],\n",
              "                        [-0.0537, -0.0414,  0.1028]],\n",
              "              \n",
              "                       [[ 0.0382,  0.0959,  0.0596],\n",
              "                        [-0.0715, -0.0348,  0.0917],\n",
              "                        [-0.0245,  0.0321,  0.0491]]],\n",
              "              \n",
              "              \n",
              "                      [[[-0.0803,  0.0860, -0.0158],\n",
              "                        [ 0.0806, -0.0939,  0.0832],\n",
              "                        [-0.0960,  0.0910, -0.0273]],\n",
              "              \n",
              "                       [[-0.0072,  0.0347,  0.0309],\n",
              "                        [ 0.0221,  0.0377, -0.0832],\n",
              "                        [ 0.0422, -0.0998,  0.0115]],\n",
              "              \n",
              "                       [[-0.0973, -0.0521, -0.0166],\n",
              "                        [ 0.0799,  0.0898, -0.0522],\n",
              "                        [ 0.0431,  0.0058,  0.0159]],\n",
              "              \n",
              "                       [[ 0.0864,  0.0347,  0.0325],\n",
              "                        [ 0.0809, -0.0156,  0.0803],\n",
              "                        [-0.0825, -0.0389,  0.0428]],\n",
              "              \n",
              "                       [[-0.0559,  0.0347, -0.0391],\n",
              "                        [ 0.0432, -0.0790, -0.0088],\n",
              "                        [-0.0109,  0.0207, -0.0942]],\n",
              "              \n",
              "                       [[ 0.1037, -0.0087, -0.0805],\n",
              "                        [ 0.0933, -0.0891, -0.0966],\n",
              "                        [ 0.0237,  0.0155, -0.1000]],\n",
              "              \n",
              "                       [[-0.0703,  0.0492,  0.0303],\n",
              "                        [-0.0590, -0.0521,  0.0152],\n",
              "                        [ 0.0442,  0.0470, -0.0459]],\n",
              "              \n",
              "                       [[-0.1024,  0.0762, -0.0795],\n",
              "                        [-0.0292,  0.0611, -0.0603],\n",
              "                        [-0.0909,  0.0818,  0.0830]],\n",
              "              \n",
              "                       [[-0.0044, -0.0554,  0.0733],\n",
              "                        [ 0.0442,  0.0154,  0.0001],\n",
              "                        [-0.0944, -0.0788, -0.1022]],\n",
              "              \n",
              "                       [[-0.0226, -0.0072,  0.0411],\n",
              "                        [ 0.0533,  0.0123, -0.0783],\n",
              "                        [ 0.0087,  0.0461,  0.0377]]],\n",
              "              \n",
              "              \n",
              "                      [[[-0.0574, -0.0294, -0.0535],\n",
              "                        [-0.0861,  0.0447, -0.0044],\n",
              "                        [ 0.1052, -0.0876, -0.0837]],\n",
              "              \n",
              "                       [[ 0.0772,  0.0758, -0.0665],\n",
              "                        [ 0.0407, -0.0498, -0.0106],\n",
              "                        [ 0.0816,  0.0494,  0.0234]],\n",
              "              \n",
              "                       [[-0.0894, -0.0805,  0.0608],\n",
              "                        [-0.0013,  0.0326, -0.0688],\n",
              "                        [ 0.0742,  0.0782,  0.0956]],\n",
              "              \n",
              "                       [[-0.0633, -0.0363, -0.0187],\n",
              "                        [-0.0537, -0.0421,  0.0996],\n",
              "                        [ 0.0430, -0.0651,  0.1031]],\n",
              "              \n",
              "                       [[ 0.0222, -0.0877, -0.0194],\n",
              "                        [-0.0169,  0.0156, -0.0793],\n",
              "                        [ 0.1024, -0.0095, -0.0026]],\n",
              "              \n",
              "                       [[ 0.0975, -0.0573,  0.0839],\n",
              "                        [-0.0110, -0.0624, -0.0307],\n",
              "                        [ 0.0570, -0.0110,  0.0009]],\n",
              "              \n",
              "                       [[-0.0039,  0.0719, -0.0416],\n",
              "                        [ 0.0393,  0.0573, -0.0591],\n",
              "                        [ 0.0965,  0.0357, -0.0774]],\n",
              "              \n",
              "                       [[-0.0328,  0.0319,  0.0810],\n",
              "                        [-0.0277,  0.0287, -0.1049],\n",
              "                        [-0.0121, -0.1006,  0.0619]],\n",
              "              \n",
              "                       [[ 0.0853,  0.0516,  0.0891],\n",
              "                        [-0.0041, -0.0822, -0.0647],\n",
              "                        [ 0.0549,  0.0257, -0.0527]],\n",
              "              \n",
              "                       [[-0.0453, -0.0430, -0.0977],\n",
              "                        [ 0.0341,  0.0498, -0.0799],\n",
              "                        [-0.0025, -0.1015,  0.0592]]]], device='cuda:0')),\n",
              "             ('block_2.0.bias',\n",
              "              tensor([-0.0280,  0.0695, -0.0977,  0.0591, -0.0893,  0.0333, -0.0138,  0.0941,\n",
              "                       0.0955,  0.0620], device='cuda:0')),\n",
              "             ('block_2.2.weight', tensor([[[[-0.0097, -0.0721, -0.0080],\n",
              "                        [ 0.0247,  0.0358, -0.0101],\n",
              "                        [ 0.0117,  0.0792,  0.0827]],\n",
              "              \n",
              "                       [[ 0.0704,  0.0945, -0.0225],\n",
              "                        [-0.0817,  0.0945,  0.0105],\n",
              "                        [ 0.0775,  0.0469, -0.0458]],\n",
              "              \n",
              "                       [[-0.0848, -0.0014,  0.0026],\n",
              "                        [ 0.0225, -0.0736, -0.0385],\n",
              "                        [ 0.0939, -0.0839, -0.0233]],\n",
              "              \n",
              "                       [[-0.0077, -0.0696, -0.0126],\n",
              "                        [-0.1026,  0.0565, -0.0654],\n",
              "                        [-0.0644,  0.0452, -0.0154]],\n",
              "              \n",
              "                       [[ 0.0500,  0.0267, -0.0684],\n",
              "                        [ 0.0901, -0.0430,  0.0538],\n",
              "                        [ 0.0023,  0.0177, -0.0979]],\n",
              "              \n",
              "                       [[ 0.0359,  0.0016,  0.0994],\n",
              "                        [ 0.0746,  0.0002, -0.0696],\n",
              "                        [-0.0052,  0.0843,  0.0836]],\n",
              "              \n",
              "                       [[-0.0506,  0.0293,  0.1043],\n",
              "                        [ 0.0658,  0.0550,  0.0419],\n",
              "                        [-0.0491, -0.0812, -0.0002]],\n",
              "              \n",
              "                       [[-0.0804, -0.0210,  0.0067],\n",
              "                        [ 0.0705,  0.0224, -0.0066],\n",
              "                        [ 0.0175,  0.0430,  0.0225]],\n",
              "              \n",
              "                       [[ 0.0786,  0.0950, -0.0231],\n",
              "                        [ 0.0273, -0.1053,  0.0219],\n",
              "                        [-0.0128,  0.0288,  0.0268]],\n",
              "              \n",
              "                       [[-0.0316, -0.0217,  0.0570],\n",
              "                        [ 0.0164,  0.0713,  0.0549],\n",
              "                        [-0.0465,  0.0455, -0.0528]]],\n",
              "              \n",
              "              \n",
              "                      [[[-0.0409, -0.0429,  0.0241],\n",
              "                        [-0.0381,  0.0183,  0.0265],\n",
              "                        [ 0.0708,  0.0530,  0.0382]],\n",
              "              \n",
              "                       [[-0.0455, -0.0798,  0.0147],\n",
              "                        [ 0.1024,  0.0869,  0.0001],\n",
              "                        [-0.0580, -0.0427, -0.0178]],\n",
              "              \n",
              "                       [[ 0.0003, -0.0594,  0.0140],\n",
              "                        [ 0.0382,  0.0995, -0.0092],\n",
              "                        [-0.0113, -0.0775, -0.0196]],\n",
              "              \n",
              "                       [[ 0.0512, -0.0834, -0.0533],\n",
              "                        [ 0.0672,  0.0674, -0.0430],\n",
              "                        [-0.0853, -0.0833, -0.0515]],\n",
              "              \n",
              "                       [[ 0.0377, -0.0593,  0.0417],\n",
              "                        [-0.0984, -0.0044, -0.0757],\n",
              "                        [-0.0305,  0.0271,  0.0394]],\n",
              "              \n",
              "                       [[ 0.0665, -0.0369, -0.0585],\n",
              "                        [ 0.0967,  0.0116,  0.0145],\n",
              "                        [-0.0119,  0.0662, -0.0936]],\n",
              "              \n",
              "                       [[-0.0844, -0.0105, -0.0312],\n",
              "                        [-0.0112, -0.0310,  0.0777],\n",
              "                        [-0.1008,  0.0208,  0.0827]],\n",
              "              \n",
              "                       [[-0.0756,  0.0861,  0.0553],\n",
              "                        [-0.0771, -0.0212, -0.0860],\n",
              "                        [-0.0648, -0.0901, -0.0593]],\n",
              "              \n",
              "                       [[ 0.1007, -0.0550,  0.0697],\n",
              "                        [ 0.0480, -0.0587,  0.0444],\n",
              "                        [ 0.0983,  0.0547,  0.0545]],\n",
              "              \n",
              "                       [[-0.0023, -0.0009,  0.0369],\n",
              "                        [-0.0523, -0.0771,  0.0034],\n",
              "                        [ 0.0288,  0.0239, -0.1035]]],\n",
              "              \n",
              "              \n",
              "                      [[[-0.0760,  0.0739, -0.0236],\n",
              "                        [ 0.0689, -0.0807, -0.0121],\n",
              "                        [-0.0578,  0.0438, -0.0888]],\n",
              "              \n",
              "                       [[ 0.0428, -0.0056,  0.0831],\n",
              "                        [-0.0502,  0.0988,  0.0308],\n",
              "                        [-0.0800,  0.0767,  0.0629]],\n",
              "              \n",
              "                       [[-0.0670, -0.0677,  0.0205],\n",
              "                        [ 0.0095,  0.0427,  0.0279],\n",
              "                        [-0.0981,  0.0378,  0.0090]],\n",
              "              \n",
              "                       [[-0.0301, -0.0345, -0.0431],\n",
              "                        [ 0.0229, -0.0495,  0.0929],\n",
              "                        [ 0.0306, -0.0203, -0.1023]],\n",
              "              \n",
              "                       [[-0.0296,  0.0337, -0.0352],\n",
              "                        [-0.1037, -0.0850, -0.0503],\n",
              "                        [ 0.0535,  0.0004, -0.0237]],\n",
              "              \n",
              "                       [[ 0.0431,  0.0850, -0.0761],\n",
              "                        [ 0.0982, -0.0845,  0.0299],\n",
              "                        [ 0.0216,  0.0758,  0.0127]],\n",
              "              \n",
              "                       [[ 0.0559, -0.0697, -0.0444],\n",
              "                        [-0.0016, -0.0051,  0.0270],\n",
              "                        [-0.0554,  0.0788, -0.0177]],\n",
              "              \n",
              "                       [[ 0.0633,  0.0530,  0.0349],\n",
              "                        [-0.1008, -0.0004, -0.0908],\n",
              "                        [-0.0413, -0.0876,  0.0175]],\n",
              "              \n",
              "                       [[-0.0767,  0.0405, -0.0247],\n",
              "                        [-0.0652, -0.0199,  0.0918],\n",
              "                        [ 0.0632,  0.0466, -0.0689]],\n",
              "              \n",
              "                       [[ 0.0339,  0.0698, -0.0148],\n",
              "                        [-0.0138, -0.0962, -0.0972],\n",
              "                        [-0.1012, -0.0133,  0.0302]]],\n",
              "              \n",
              "              \n",
              "                      [[[-0.0275, -0.0256,  0.0433],\n",
              "                        [-0.0377,  0.0354, -0.0157],\n",
              "                        [-0.0308, -0.0282, -0.0384]],\n",
              "              \n",
              "                       [[-0.0129,  0.0212,  0.0282],\n",
              "                        [ 0.0843, -0.0363, -0.0360],\n",
              "                        [-0.0471, -0.0837, -0.0240]],\n",
              "              \n",
              "                       [[-0.0605, -0.0748, -0.0198],\n",
              "                        [-0.0890,  0.0509,  0.1050],\n",
              "                        [ 0.0062,  0.0815,  0.0423]],\n",
              "              \n",
              "                       [[ 0.0322, -0.1041, -0.0733],\n",
              "                        [ 0.0576,  0.0330, -0.0207],\n",
              "                        [-0.0059, -0.0999,  0.0614]],\n",
              "              \n",
              "                       [[ 0.0694,  0.0299, -0.0928],\n",
              "                        [ 0.0764, -0.0172, -0.0973],\n",
              "                        [ 0.0715,  0.0036, -0.0526]],\n",
              "              \n",
              "                       [[ 0.0606, -0.0085,  0.0328],\n",
              "                        [ 0.0788, -0.0983,  0.1047],\n",
              "                        [-0.0327, -0.0021, -0.0440]],\n",
              "              \n",
              "                       [[ 0.0007,  0.0918, -0.0449],\n",
              "                        [-0.0627, -0.0102,  0.0756],\n",
              "                        [-0.0856, -0.0803,  0.0633]],\n",
              "              \n",
              "                       [[-0.0848,  0.0801, -0.0093],\n",
              "                        [-0.0541, -0.0616,  0.0391],\n",
              "                        [-0.0879,  0.0947, -0.0309]],\n",
              "              \n",
              "                       [[-0.1053,  0.0622,  0.0551],\n",
              "                        [-0.0424, -0.0109,  0.0430],\n",
              "                        [ 0.0731, -0.1050, -0.0643]],\n",
              "              \n",
              "                       [[-0.0862,  0.0565,  0.0775],\n",
              "                        [-0.0878,  0.0474, -0.0939],\n",
              "                        [ 0.0517,  0.0341, -0.0368]]],\n",
              "              \n",
              "              \n",
              "                      [[[-0.0011,  0.0571, -0.0244],\n",
              "                        [-0.0300, -0.0667, -0.0251],\n",
              "                        [ 0.0921,  0.0010, -0.0881]],\n",
              "              \n",
              "                       [[ 0.0893,  0.0293, -0.0186],\n",
              "                        [ 0.0371,  0.0203,  0.0009],\n",
              "                        [-0.0617, -0.0858, -0.0185]],\n",
              "              \n",
              "                       [[-0.0132, -0.0393, -0.0933],\n",
              "                        [-0.0053, -0.0771, -0.0045],\n",
              "                        [-0.0725,  0.0873,  0.0366]],\n",
              "              \n",
              "                       [[-0.0782, -0.0421, -0.0340],\n",
              "                        [ 0.0561, -0.0580,  0.0838],\n",
              "                        [-0.0767, -0.0688, -0.0012]],\n",
              "              \n",
              "                       [[ 0.0982,  0.0087, -0.0333],\n",
              "                        [-0.0841, -0.0593, -0.0841],\n",
              "                        [-0.0669,  0.0197,  0.0495]],\n",
              "              \n",
              "                       [[ 0.0568,  0.0543, -0.0440],\n",
              "                        [-0.0343, -0.0809, -0.0919],\n",
              "                        [ 0.0001, -0.0284,  0.0875]],\n",
              "              \n",
              "                       [[-0.0099,  0.0052,  0.0675],\n",
              "                        [-0.0189, -0.0753,  0.0350],\n",
              "                        [ 0.0116,  0.0573, -0.0430]],\n",
              "              \n",
              "                       [[ 0.0935,  0.0639,  0.1004],\n",
              "                        [ 0.0405, -0.0347,  0.0035],\n",
              "                        [ 0.0601, -0.0360,  0.0637]],\n",
              "              \n",
              "                       [[-0.0936,  0.0785, -0.0491],\n",
              "                        [-0.0437,  0.0273, -0.0725],\n",
              "                        [ 0.0752, -0.0484,  0.0966]],\n",
              "              \n",
              "                       [[ 0.0770,  0.0796,  0.0522],\n",
              "                        [ 0.0244, -0.0263,  0.0049],\n",
              "                        [-0.0245,  0.0726,  0.1018]]],\n",
              "              \n",
              "              \n",
              "                      [[[-0.0933,  0.0519,  0.0480],\n",
              "                        [-0.0320,  0.0464,  0.0584],\n",
              "                        [ 0.0353,  0.0836, -0.0176]],\n",
              "              \n",
              "                       [[-0.0513,  0.0218, -0.0148],\n",
              "                        [-0.0687, -0.0374,  0.0823],\n",
              "                        [-0.0308, -0.0742,  0.0173]],\n",
              "              \n",
              "                       [[ 0.1003,  0.0679,  0.0330],\n",
              "                        [-0.0368,  0.1001,  0.0364],\n",
              "                        [-0.0212, -0.0412, -0.0552]],\n",
              "              \n",
              "                       [[ 0.0867, -0.0531,  0.0816],\n",
              "                        [ 0.0079, -0.0673,  0.0529],\n",
              "                        [ 0.0930,  0.0989,  0.0803]],\n",
              "              \n",
              "                       [[ 0.0355,  0.0342,  0.0786],\n",
              "                        [-0.0421,  0.0019, -0.0081],\n",
              "                        [ 0.0920,  0.0131, -0.0977]],\n",
              "              \n",
              "                       [[ 0.0975, -0.0431, -0.0771],\n",
              "                        [-0.0784, -0.0869, -0.0319],\n",
              "                        [-0.0644,  0.0815, -0.0741]],\n",
              "              \n",
              "                       [[ 0.0976, -0.0827, -0.0541],\n",
              "                        [-0.0505, -0.0124, -0.0738],\n",
              "                        [-0.0887, -0.0843, -0.0071]],\n",
              "              \n",
              "                       [[-0.0432, -0.0901,  0.0591],\n",
              "                        [-0.0593,  0.0107, -0.0859],\n",
              "                        [-0.0464,  0.0996, -0.0650]],\n",
              "              \n",
              "                       [[ 0.0756,  0.1002, -0.0768],\n",
              "                        [ 0.0486,  0.0816, -0.0495],\n",
              "                        [-0.0484, -0.0122, -0.0729]],\n",
              "              \n",
              "                       [[ 0.0263, -0.0713,  0.0688],\n",
              "                        [-0.0803, -0.0758,  0.0858],\n",
              "                        [ 0.0387,  0.0972,  0.0495]]],\n",
              "              \n",
              "              \n",
              "                      [[[ 0.0589,  0.0295,  0.0145],\n",
              "                        [ 0.0669,  0.0832, -0.0027],\n",
              "                        [ 0.0584, -0.0529, -0.0838]],\n",
              "              \n",
              "                       [[-0.0668,  0.0366, -0.0580],\n",
              "                        [-0.0268, -0.0565, -0.0416],\n",
              "                        [-0.0716,  0.0216,  0.0926]],\n",
              "              \n",
              "                       [[-0.0333,  0.0773,  0.1026],\n",
              "                        [ 0.0654, -0.0499,  0.0895],\n",
              "                        [ 0.0815, -0.0164,  0.0931]],\n",
              "              \n",
              "                       [[ 0.0091, -0.0749,  0.0353],\n",
              "                        [ 0.0376,  0.0859,  0.0514],\n",
              "                        [ 0.0028, -0.0126,  0.0374]],\n",
              "              \n",
              "                       [[ 0.0921,  0.1013,  0.0422],\n",
              "                        [ 0.0029, -0.0095, -0.0883],\n",
              "                        [ 0.0127, -0.0605, -0.0766]],\n",
              "              \n",
              "                       [[-0.0857,  0.0196,  0.0143],\n",
              "                        [-0.0582, -0.0883, -0.0939],\n",
              "                        [ 0.0312, -0.0798, -0.0035]],\n",
              "              \n",
              "                       [[-0.0816, -0.0109, -0.0085],\n",
              "                        [ 0.1017,  0.0093, -0.0120],\n",
              "                        [ 0.0252,  0.0844,  0.0644]],\n",
              "              \n",
              "                       [[-0.1012,  0.0574, -0.0595],\n",
              "                        [-0.0935, -0.0512,  0.0916],\n",
              "                        [ 0.0206,  0.1032, -0.0844]],\n",
              "              \n",
              "                       [[ 0.0080,  0.0181,  0.0761],\n",
              "                        [ 0.0310,  0.0075,  0.0167],\n",
              "                        [-0.0473,  0.0669,  0.0681]],\n",
              "              \n",
              "                       [[-0.0531,  0.0792,  0.0281],\n",
              "                        [ 0.0385,  0.0661,  0.0491],\n",
              "                        [ 0.0969,  0.0134,  0.0485]]],\n",
              "              \n",
              "              \n",
              "                      [[[ 0.0440,  0.0464,  0.0848],\n",
              "                        [ 0.0275,  0.0013,  0.0246],\n",
              "                        [ 0.0874, -0.0891, -0.0608]],\n",
              "              \n",
              "                       [[ 0.0113,  0.0278, -0.0162],\n",
              "                        [-0.0629,  0.0632, -0.0932],\n",
              "                        [-0.0467,  0.0682, -0.0138]],\n",
              "              \n",
              "                       [[-0.0183,  0.0654,  0.0474],\n",
              "                        [-0.0760,  0.0305,  0.0188],\n",
              "                        [-0.0875,  0.0723, -0.0480]],\n",
              "              \n",
              "                       [[ 0.0226, -0.0799,  0.0291],\n",
              "                        [-0.0871, -0.0340,  0.0313],\n",
              "                        [-0.0245,  0.0284, -0.0249]],\n",
              "              \n",
              "                       [[-0.0555,  0.0002,  0.0847],\n",
              "                        [-0.0793,  0.0032,  0.0735],\n",
              "                        [-0.0565,  0.0659,  0.0827]],\n",
              "              \n",
              "                       [[ 0.0527,  0.0039, -0.0137],\n",
              "                        [ 0.0270,  0.0195,  0.0668],\n",
              "                        [-0.0720, -0.0289,  0.0965]],\n",
              "              \n",
              "                       [[-0.0605,  0.0037, -0.0938],\n",
              "                        [-0.0952,  0.0281, -0.0060],\n",
              "                        [-0.0493, -0.1052,  0.0340]],\n",
              "              \n",
              "                       [[ 0.0848, -0.0124,  0.0401],\n",
              "                        [-0.0363,  0.0564,  0.0285],\n",
              "                        [ 0.0919, -0.0240,  0.0623]],\n",
              "              \n",
              "                       [[ 0.0958, -0.0583,  0.0259],\n",
              "                        [-0.1019, -0.0505, -0.0111],\n",
              "                        [ 0.0093,  0.0926, -0.1034]],\n",
              "              \n",
              "                       [[ 0.0343,  0.0218, -0.0282],\n",
              "                        [-0.0276, -0.0859, -0.0227],\n",
              "                        [ 0.0898,  0.0644,  0.0698]]],\n",
              "              \n",
              "              \n",
              "                      [[[ 0.0218, -0.0557, -0.0479],\n",
              "                        [-0.0903,  0.0598, -0.0857],\n",
              "                        [-0.0149,  0.0851, -0.0875]],\n",
              "              \n",
              "                       [[-0.0270, -0.0758,  0.0737],\n",
              "                        [-0.0213, -0.0697,  0.0233],\n",
              "                        [ 0.1033,  0.0464,  0.0681]],\n",
              "              \n",
              "                       [[ 0.0231, -0.0837,  0.0764],\n",
              "                        [-0.0513, -0.0463,  0.0966],\n",
              "                        [ 0.0446, -0.0407,  0.0688]],\n",
              "              \n",
              "                       [[-0.0928,  0.0623, -0.0948],\n",
              "                        [-0.0930,  0.0653, -0.0884],\n",
              "                        [-0.0589, -0.0839, -0.0133]],\n",
              "              \n",
              "                       [[ 0.0053,  0.0711, -0.0229],\n",
              "                        [ 0.0145,  0.0135, -0.0556],\n",
              "                        [-0.0562, -0.0801, -0.0920]],\n",
              "              \n",
              "                       [[-0.0746,  0.0417, -0.0384],\n",
              "                        [ 0.0851, -0.0777,  0.0032],\n",
              "                        [ 0.0764,  0.0053, -0.0861]],\n",
              "              \n",
              "                       [[-0.0769, -0.0452, -0.0048],\n",
              "                        [-0.0426, -0.0051, -0.0767],\n",
              "                        [ 0.0225, -0.0473, -0.1027]],\n",
              "              \n",
              "                       [[ 0.0949,  0.0517,  0.0890],\n",
              "                        [ 0.0271,  0.0184, -0.0973],\n",
              "                        [-0.0229, -0.0184,  0.0421]],\n",
              "              \n",
              "                       [[-0.0406, -0.0838,  0.0262],\n",
              "                        [ 0.0521,  0.0405,  0.0114],\n",
              "                        [ 0.0272,  0.0554,  0.0495]],\n",
              "              \n",
              "                       [[ 0.0856, -0.0539,  0.0880],\n",
              "                        [ 0.0077,  0.0752,  0.0894],\n",
              "                        [ 0.0183,  0.0826,  0.0602]]],\n",
              "              \n",
              "              \n",
              "                      [[[-0.0997, -0.0330,  0.0276],\n",
              "                        [-0.0915, -0.1037, -0.0444],\n",
              "                        [ 0.0685, -0.0216, -0.0791]],\n",
              "              \n",
              "                       [[-0.0374, -0.0162, -0.0622],\n",
              "                        [ 0.0716,  0.0621,  0.0449],\n",
              "                        [-0.0968,  0.0032,  0.0288]],\n",
              "              \n",
              "                       [[-0.0393,  0.0193, -0.0083],\n",
              "                        [ 0.0209, -0.0387,  0.1024],\n",
              "                        [-0.1024, -0.1018,  0.0501]],\n",
              "              \n",
              "                       [[-0.0758, -0.0750,  0.0979],\n",
              "                        [ 0.1038,  0.0104, -0.0445],\n",
              "                        [ 0.0761,  0.0724, -0.0188]],\n",
              "              \n",
              "                       [[-0.0962, -0.0933,  0.0575],\n",
              "                        [-0.0424,  0.0683,  0.0111],\n",
              "                        [-0.0649,  0.0793, -0.0980]],\n",
              "              \n",
              "                       [[-0.0245,  0.0023, -0.0206],\n",
              "                        [-0.1050,  0.0086, -0.0794],\n",
              "                        [ 0.0083,  0.0077,  0.0014]],\n",
              "              \n",
              "                       [[-0.0261,  0.1022,  0.0878],\n",
              "                        [ 0.0485,  0.0664,  0.1010],\n",
              "                        [ 0.0815, -0.0789,  0.0016]],\n",
              "              \n",
              "                       [[ 0.0906, -0.0259,  0.0618],\n",
              "                        [ 0.0749,  0.0939,  0.0556],\n",
              "                        [ 0.0347, -0.0431,  0.0744]],\n",
              "              \n",
              "                       [[ 0.0259,  0.1047,  0.0981],\n",
              "                        [ 0.0444,  0.0386, -0.0935],\n",
              "                        [-0.0233, -0.0963, -0.0994]],\n",
              "              \n",
              "                       [[-0.0310, -0.0867,  0.0935],\n",
              "                        [-0.0238,  0.0383,  0.0460],\n",
              "                        [-0.0525, -0.0981, -0.0887]]]], device='cuda:0')),\n",
              "             ('block_2.2.bias',\n",
              "              tensor([-0.0491,  0.0418, -0.0040, -0.0473,  0.0450, -0.0753,  0.0130, -0.0963,\n",
              "                      -0.0958, -0.0256], device='cuda:0')),\n",
              "             ('classifier.1.weight',\n",
              "              tensor([[ 0.0019, -0.0242,  0.0025,  ...,  0.0095, -0.0297,  0.0375],\n",
              "                      [-0.0015,  0.0158,  0.0040,  ...,  0.0157,  0.0143, -0.0185],\n",
              "                      [ 0.0202,  0.0289,  0.0447,  ...,  0.0285, -0.0052, -0.0365],\n",
              "                      ...,\n",
              "                      [-0.0092,  0.0040,  0.0250,  ...,  0.0052, -0.0356,  0.0072],\n",
              "                      [-0.0158, -0.0073,  0.0014,  ..., -0.0170, -0.0002, -0.0444],\n",
              "                      [ 0.0320, -0.0295,  0.0223,  ...,  0.0016, -0.0037,  0.0449]],\n",
              "                     device='cuda:0')),\n",
              "             ('classifier.1.bias',\n",
              "              tensor([ 0.0441, -0.0239, -0.0295,  0.0217, -0.0437, -0.0394, -0.0386, -0.0091,\n",
              "                       0.0424,  0.0299], device='cuda:0'))])"
            ]
          },
          "metadata": {},
          "execution_count": 32
        }
      ]
    },
    {
      "cell_type": "code",
      "source": [
        "# Set up loss and optimizer \n",
        "loss_fn = nn.CrossEntropyLoss()\n",
        "optimizer = torch.optim.SGD(params=model_2.parameters(),\n",
        "                            lr=0.01)"
      ],
      "metadata": {
        "id": "qOd__Gm5kGo_"
      },
      "execution_count": 33,
      "outputs": []
    },
    {
      "cell_type": "code",
      "source": [
        "device"
      ],
      "metadata": {
        "colab": {
          "base_uri": "https://localhost:8080/",
          "height": 36
        },
        "id": "3ThJh7eKlxWC",
        "outputId": "3a4a2dad-be31-4c5a-a786-ffc80789ca56"
      },
      "execution_count": 34,
      "outputs": [
        {
          "output_type": "execute_result",
          "data": {
            "text/plain": [
              "'cuda'"
            ],
            "application/vnd.google.colaboratory.intrinsic+json": {
              "type": "string"
            }
          },
          "metadata": {},
          "execution_count": 34
        }
      ]
    },
    {
      "cell_type": "code",
      "source": [
        "# Train and test the model \n",
        "epochs = 5\n",
        "for epoch in tqdm(range(epochs)): \n",
        "  print(f\"Epoch: {epoch}\\n\")\n",
        "  train_step(data_loader=train_dataloader,  \n",
        "             model=model_2,  \n",
        "             loss_fn=loss_fn,  \n",
        "             optimizer=optimizer,  \n",
        "             accuracy_fn=accuracy_fn,  \n",
        "             device=device\n",
        "             )\n",
        "  \n",
        "  test_step(data_loader=test_dataloader,  \n",
        "            model=model_2,  \n",
        "            loss_fn=loss_fn,   \n",
        "            accuracy_fn=accuracy_fn,  \n",
        "            device=device\n",
        "            )"
      ],
      "metadata": {
        "colab": {
          "base_uri": "https://localhost:8080/",
          "height": 483,
          "referenced_widgets": [
            "bf8e41aedacf40ada75aa794dc64b521",
            "2559e61d500a4fdea98b973e22562f38",
            "b33864c0d6314203bdd070edc320fa4a",
            "a6a12ddf491343c8a36b2266bb9047de",
            "bb0dc613d9f44fb6a3ef1084df391d58",
            "27c34d24379a4c2ba5264e4eab6bd81f",
            "d5bd2f49b9964a23b654c603af69b653",
            "e01ce474136941d3bf184da992d16e39",
            "9cdc58beabb8492b91eea2b9d1e8aa02",
            "aaa95b7f59ae43e393b503a4aa016f02",
            "15e69a372a264964b04747728968c170"
          ]
        },
        "id": "RjD0VmSmlFCr",
        "outputId": "0015ba53-d2ce-4e0b-f142-c28b1fda20f3"
      },
      "execution_count": 35,
      "outputs": [
        {
          "output_type": "display_data",
          "data": {
            "text/plain": [
              "  0%|          | 0/5 [00:00<?, ?it/s]"
            ],
            "application/vnd.jupyter.widget-view+json": {
              "version_major": 2,
              "version_minor": 0,
              "model_id": "bf8e41aedacf40ada75aa794dc64b521"
            }
          },
          "metadata": {}
        },
        {
          "output_type": "stream",
          "name": "stdout",
          "text": [
            "Epoch: 0\n",
            "\n",
            "Train loss: 0.824308454990387 | Train accuracy: 72.26%\n",
            "Test loss: 0.20337 | Test accuracy: 94.09%\n",
            "\n",
            "Epoch: 1\n",
            "\n",
            "Train loss: 0.1659243404865265 | Train accuracy: 95.02%\n",
            "Test loss: 0.11769 | Test accuracy: 96.32%\n",
            "\n",
            "Epoch: 2\n",
            "\n",
            "Train loss: 0.11963875591754913 | Train accuracy: 96.34%\n",
            "Test loss: 0.09772 | Test accuracy: 96.96%\n",
            "\n",
            "Epoch: 3\n",
            "\n",
            "Train loss: 0.09954871237277985 | Train accuracy: 96.90%\n",
            "Test loss: 0.08068 | Test accuracy: 97.37%\n",
            "\n",
            "Epoch: 4\n",
            "\n",
            "Train loss: 0.08752189576625824 | Train accuracy: 97.28%\n",
            "Test loss: 0.06963 | Test accuracy: 97.90%\n",
            "\n"
          ]
        }
      ]
    },
    {
      "cell_type": "code",
      "source": [
        "# Get model_2 results \n",
        "model_2_results = eval_model(model=model_2,  \n",
        "                             data_loader=test_dataloader,  \n",
        "                             loss_fn=loss_fn,  \n",
        "                             accuracy_fn=accuracy_fn\n",
        "                             )\n",
        "\n",
        "model_2_results"
      ],
      "metadata": {
        "colab": {
          "base_uri": "https://localhost:8080/"
        },
        "id": "23AuZ9LzlsVY",
        "outputId": "9bdf1ee1-9eaa-4d32-93d8-30ec8fe61755"
      },
      "execution_count": 36,
      "outputs": [
        {
          "output_type": "execute_result",
          "data": {
            "text/plain": [
              "{'model_name': 'MNISTModelV2',\n",
              " 'model_loss': 0.06963407248258591,\n",
              " 'model_acc': 97.90335463258786}"
            ]
          },
          "metadata": {},
          "execution_count": 36
        }
      ]
    },
    {
      "cell_type": "markdown",
      "source": [
        "## Model 3\n",
        "- Using the Adam optimizer\n",
        "- Deeper model"
      ],
      "metadata": {
        "id": "2CWNN23y8YfK"
      }
    },
    {
      "cell_type": "code",
      "source": [
        "# Build convolutoinal model\n",
        "class MNISTModelV3(nn.Module): \n",
        "  def __init__(self, input_shape: int, hidden_units, output_shape: int):\n",
        "    super().__init__()\n",
        "    self.block_1 = nn.Sequential( \n",
        "        nn.Conv2d(in_channels=input_shape,  \n",
        "                  out_channels=hidden_units, \n",
        "                  kernel_size=3, \n",
        "                  stride=1, \n",
        "                  padding=1),\n",
        "    nn.ReLU(), \n",
        "    nn.MaxPool2d(kernel_size=2, \n",
        "                 stride=2)\n",
        "    )\n",
        "\n",
        "    self.block_2 = nn.Sequential( \n",
        "        nn.Conv2d(hidden_units, hidden_units, 3, padding=1), \n",
        "        nn.ReLU(), \n",
        "        nn.Conv2d(hidden_units, hidden_units, 3, padding=1), \n",
        "        nn.ReLU(), \n",
        "        nn.MaxPool2d(2)\n",
        "    )\n",
        "    self.classifier = nn.Sequential( \n",
        "        nn.Flatten(), \n",
        "        nn.Linear(in_features=hidden_units*7*7, # 7 because we have two nn.MaxPool2d layers before this\n",
        "                  out_features=output_shape)\n",
        "    )\n",
        "\n",
        "  def forward(self, x: torch.Tensor):\n",
        "    x = self.block_1(x) \n",
        "    x = self.block_2(x) \n",
        "    x = self.classifier(x) \n",
        "    return x "
      ],
      "metadata": {
        "id": "Y898Prhu8eAT"
      },
      "execution_count": 38,
      "outputs": []
    },
    {
      "cell_type": "code",
      "source": [
        "model_3 = MNISTModelV3(input_shape=1, \n",
        "                       hidden_units=32, \n",
        "                       output_shape=len(class_names))\n",
        "model_3.to(device) \n",
        "model_3"
      ],
      "metadata": {
        "colab": {
          "base_uri": "https://localhost:8080/"
        },
        "id": "cFuOQSvu8d9z",
        "outputId": "9a3f7b1f-6cf5-4d6f-8491-674d7d13b7f3"
      },
      "execution_count": 39,
      "outputs": [
        {
          "output_type": "execute_result",
          "data": {
            "text/plain": [
              "MNISTModelV3(\n",
              "  (block_1): Sequential(\n",
              "    (0): Conv2d(1, 32, kernel_size=(3, 3), stride=(1, 1), padding=(1, 1))\n",
              "    (1): ReLU()\n",
              "    (2): MaxPool2d(kernel_size=2, stride=2, padding=0, dilation=1, ceil_mode=False)\n",
              "  )\n",
              "  (block_2): Sequential(\n",
              "    (0): Conv2d(32, 32, kernel_size=(3, 3), stride=(1, 1), padding=(1, 1))\n",
              "    (1): ReLU()\n",
              "    (2): Conv2d(32, 32, kernel_size=(3, 3), stride=(1, 1), padding=(1, 1))\n",
              "    (3): ReLU()\n",
              "    (4): MaxPool2d(kernel_size=2, stride=2, padding=0, dilation=1, ceil_mode=False)\n",
              "  )\n",
              "  (classifier): Sequential(\n",
              "    (0): Flatten(start_dim=1, end_dim=-1)\n",
              "    (1): Linear(in_features=1568, out_features=10, bias=True)\n",
              "  )\n",
              ")"
            ]
          },
          "metadata": {},
          "execution_count": 39
        }
      ]
    },
    {
      "cell_type": "code",
      "source": [
        "# Set up loss function and optimizer \n",
        "loss_fn = nn.CrossEntropyLoss() \n",
        "optimizer = torch.optim.Adam(params=model_3.parameters(), \n",
        "                             lr=0.001)"
      ],
      "metadata": {
        "id": "UaSqsQZa8d6p"
      },
      "execution_count": 40,
      "outputs": []
    },
    {
      "cell_type": "code",
      "source": [
        "# Train and test the model \n",
        "epochs = 5\n",
        "for epoch in tqdm(range(epochs)): \n",
        "  print(f\"Epoch: {epoch}\\n------\")\n",
        "  train_step(data_loader=train_dataloader,  \n",
        "             model=model_3,  \n",
        "             loss_fn=loss_fn,  \n",
        "             optimizer=optimizer,  \n",
        "             accuracy_fn=accuracy_fn,  \n",
        "             device=device\n",
        "             )\n",
        "  \n",
        "  test_step(data_loader=test_dataloader,  \n",
        "            model=model_3,  \n",
        "            loss_fn=loss_fn,   \n",
        "            accuracy_fn=accuracy_fn,  \n",
        "            device=device\n",
        "            )"
      ],
      "metadata": {
        "colab": {
          "base_uri": "https://localhost:8080/",
          "height": 483,
          "referenced_widgets": [
            "5e20f413f60c41d08d51d81d3799bab2",
            "3020fdac89d74526a3e26010a1377e5f",
            "24b5a000beae4b49b62bdd78af7c346c",
            "a0a5d723b8964c0cb225ac1d56d6e14b",
            "a18cae090802407f9907619589a5db56",
            "c6f700e512924e8880b94890f9492ef1",
            "d73d356f100142fdb72592ecc544b691",
            "cbd513a399f64ef7bb07c15163db5dcd",
            "df39f328543244d0956200268f39898c",
            "dc754d60d8584a7f893efc9c4350d2e4",
            "7852a185c71f44b69a2cd84249a92997"
          ]
        },
        "id": "_pYmz62R8d3P",
        "outputId": "21d79fc9-2982-4a05-8093-adf61b49036b"
      },
      "execution_count": 41,
      "outputs": [
        {
          "output_type": "display_data",
          "data": {
            "text/plain": [
              "  0%|          | 0/5 [00:00<?, ?it/s]"
            ],
            "application/vnd.jupyter.widget-view+json": {
              "version_major": 2,
              "version_minor": 0,
              "model_id": "5e20f413f60c41d08d51d81d3799bab2"
            }
          },
          "metadata": {}
        },
        {
          "output_type": "stream",
          "name": "stdout",
          "text": [
            "Epoch: 0\n",
            "------\n",
            "Train loss: 0.14536647498607635 | Train accuracy: 95.45%\n",
            "Test loss: 0.04485 | Test accuracy: 98.48%\n",
            "\n",
            "Epoch: 1\n",
            "------\n",
            "Train loss: 0.04857658967375755 | Train accuracy: 98.50%\n",
            "Test loss: 0.04310 | Test accuracy: 98.57%\n",
            "\n",
            "Epoch: 2\n",
            "------\n",
            "Train loss: 0.03575116768479347 | Train accuracy: 98.88%\n",
            "Test loss: 0.03927 | Test accuracy: 98.76%\n",
            "\n",
            "Epoch: 3\n",
            "------\n",
            "Train loss: 0.027757856994867325 | Train accuracy: 99.14%\n",
            "Test loss: 0.03084 | Test accuracy: 99.00%\n",
            "\n",
            "Epoch: 4\n",
            "------\n",
            "Train loss: 0.022188737988471985 | Train accuracy: 99.29%\n",
            "Test loss: 0.03523 | Test accuracy: 98.91%\n",
            "\n"
          ]
        }
      ]
    },
    {
      "cell_type": "code",
      "source": [
        "model_3_results = eval_model(model=model_3, data_loader=test_dataloader, \n",
        "                             loss_fn=loss_fn, \n",
        "                             accuracy_fn=accuracy_fn,  \n",
        "                             device=device)\n",
        "model_3_results"
      ],
      "metadata": {
        "colab": {
          "base_uri": "https://localhost:8080/"
        },
        "id": "8gkXHhTv-Teo",
        "outputId": "e022642f-39d3-4842-ffdd-ee9c87990671"
      },
      "execution_count": 42,
      "outputs": [
        {
          "output_type": "execute_result",
          "data": {
            "text/plain": [
              "{'model_name': 'MNISTModelV3',\n",
              " 'model_loss': 0.03523235023021698,\n",
              " 'model_acc': 98.91174121405751}"
            ]
          },
          "metadata": {},
          "execution_count": 42
        }
      ]
    },
    {
      "cell_type": "code",
      "source": [
        "all_results = pd.DataFrame([model_0_results, model_1_results, model_2_results, model_3_results]) \n",
        "all_results"
      ],
      "metadata": {
        "colab": {
          "base_uri": "https://localhost:8080/",
          "height": 175
        },
        "id": "8pM6zrYFm9vW",
        "outputId": "e17bb816-a9fc-47a4-bdb9-199d3e8a163f"
      },
      "execution_count": 43,
      "outputs": [
        {
          "output_type": "execute_result",
          "data": {
            "text/plain": [
              "     model_name  model_loss  model_acc\n",
              "0  MNISTModelV0    0.293898  91.783147\n",
              "1  MNISTModelV1    0.265558  92.511981\n",
              "2  MNISTModelV2    0.069634  97.903355\n",
              "3  MNISTModelV3    0.035232  98.911741"
            ],
            "text/html": [
              "\n",
              "  <div id=\"df-7b0fafc7-3916-4c82-a6bc-7ba9bd698de4\">\n",
              "    <div class=\"colab-df-container\">\n",
              "      <div>\n",
              "<style scoped>\n",
              "    .dataframe tbody tr th:only-of-type {\n",
              "        vertical-align: middle;\n",
              "    }\n",
              "\n",
              "    .dataframe tbody tr th {\n",
              "        vertical-align: top;\n",
              "    }\n",
              "\n",
              "    .dataframe thead th {\n",
              "        text-align: right;\n",
              "    }\n",
              "</style>\n",
              "<table border=\"1\" class=\"dataframe\">\n",
              "  <thead>\n",
              "    <tr style=\"text-align: right;\">\n",
              "      <th></th>\n",
              "      <th>model_name</th>\n",
              "      <th>model_loss</th>\n",
              "      <th>model_acc</th>\n",
              "    </tr>\n",
              "  </thead>\n",
              "  <tbody>\n",
              "    <tr>\n",
              "      <th>0</th>\n",
              "      <td>MNISTModelV0</td>\n",
              "      <td>0.293898</td>\n",
              "      <td>91.783147</td>\n",
              "    </tr>\n",
              "    <tr>\n",
              "      <th>1</th>\n",
              "      <td>MNISTModelV1</td>\n",
              "      <td>0.265558</td>\n",
              "      <td>92.511981</td>\n",
              "    </tr>\n",
              "    <tr>\n",
              "      <th>2</th>\n",
              "      <td>MNISTModelV2</td>\n",
              "      <td>0.069634</td>\n",
              "      <td>97.903355</td>\n",
              "    </tr>\n",
              "    <tr>\n",
              "      <th>3</th>\n",
              "      <td>MNISTModelV3</td>\n",
              "      <td>0.035232</td>\n",
              "      <td>98.911741</td>\n",
              "    </tr>\n",
              "  </tbody>\n",
              "</table>\n",
              "</div>\n",
              "      <button class=\"colab-df-convert\" onclick=\"convertToInteractive('df-7b0fafc7-3916-4c82-a6bc-7ba9bd698de4')\"\n",
              "              title=\"Convert this dataframe to an interactive table.\"\n",
              "              style=\"display:none;\">\n",
              "        \n",
              "  <svg xmlns=\"http://www.w3.org/2000/svg\" height=\"24px\"viewBox=\"0 0 24 24\"\n",
              "       width=\"24px\">\n",
              "    <path d=\"M0 0h24v24H0V0z\" fill=\"none\"/>\n",
              "    <path d=\"M18.56 5.44l.94 2.06.94-2.06 2.06-.94-2.06-.94-.94-2.06-.94 2.06-2.06.94zm-11 1L8.5 8.5l.94-2.06 2.06-.94-2.06-.94L8.5 2.5l-.94 2.06-2.06.94zm10 10l.94 2.06.94-2.06 2.06-.94-2.06-.94-.94-2.06-.94 2.06-2.06.94z\"/><path d=\"M17.41 7.96l-1.37-1.37c-.4-.4-.92-.59-1.43-.59-.52 0-1.04.2-1.43.59L10.3 9.45l-7.72 7.72c-.78.78-.78 2.05 0 2.83L4 21.41c.39.39.9.59 1.41.59.51 0 1.02-.2 1.41-.59l7.78-7.78 2.81-2.81c.8-.78.8-2.07 0-2.86zM5.41 20L4 18.59l7.72-7.72 1.47 1.35L5.41 20z\"/>\n",
              "  </svg>\n",
              "      </button>\n",
              "      \n",
              "  <style>\n",
              "    .colab-df-container {\n",
              "      display:flex;\n",
              "      flex-wrap:wrap;\n",
              "      gap: 12px;\n",
              "    }\n",
              "\n",
              "    .colab-df-convert {\n",
              "      background-color: #E8F0FE;\n",
              "      border: none;\n",
              "      border-radius: 50%;\n",
              "      cursor: pointer;\n",
              "      display: none;\n",
              "      fill: #1967D2;\n",
              "      height: 32px;\n",
              "      padding: 0 0 0 0;\n",
              "      width: 32px;\n",
              "    }\n",
              "\n",
              "    .colab-df-convert:hover {\n",
              "      background-color: #E2EBFA;\n",
              "      box-shadow: 0px 1px 2px rgba(60, 64, 67, 0.3), 0px 1px 3px 1px rgba(60, 64, 67, 0.15);\n",
              "      fill: #174EA6;\n",
              "    }\n",
              "\n",
              "    [theme=dark] .colab-df-convert {\n",
              "      background-color: #3B4455;\n",
              "      fill: #D2E3FC;\n",
              "    }\n",
              "\n",
              "    [theme=dark] .colab-df-convert:hover {\n",
              "      background-color: #434B5C;\n",
              "      box-shadow: 0px 1px 3px 1px rgba(0, 0, 0, 0.15);\n",
              "      filter: drop-shadow(0px 1px 2px rgba(0, 0, 0, 0.3));\n",
              "      fill: #FFFFFF;\n",
              "    }\n",
              "  </style>\n",
              "\n",
              "      <script>\n",
              "        const buttonEl =\n",
              "          document.querySelector('#df-7b0fafc7-3916-4c82-a6bc-7ba9bd698de4 button.colab-df-convert');\n",
              "        buttonEl.style.display =\n",
              "          google.colab.kernel.accessAllowed ? 'block' : 'none';\n",
              "\n",
              "        async function convertToInteractive(key) {\n",
              "          const element = document.querySelector('#df-7b0fafc7-3916-4c82-a6bc-7ba9bd698de4');\n",
              "          const dataTable =\n",
              "            await google.colab.kernel.invokeFunction('convertToInteractive',\n",
              "                                                     [key], {});\n",
              "          if (!dataTable) return;\n",
              "\n",
              "          const docLinkHtml = 'Like what you see? Visit the ' +\n",
              "            '<a target=\"_blank\" href=https://colab.research.google.com/notebooks/data_table.ipynb>data table notebook</a>'\n",
              "            + ' to learn more about interactive tables.';\n",
              "          element.innerHTML = '';\n",
              "          dataTable['output_type'] = 'display_data';\n",
              "          await google.colab.output.renderOutput(dataTable, element);\n",
              "          const docLink = document.createElement('div');\n",
              "          docLink.innerHTML = docLinkHtml;\n",
              "          element.appendChild(docLink);\n",
              "        }\n",
              "      </script>\n",
              "    </div>\n",
              "  </div>\n",
              "  "
            ]
          },
          "metadata": {},
          "execution_count": 43
        }
      ]
    },
    {
      "cell_type": "code",
      "source": [
        "# Plot our accuracy results \n",
        "all_results.set_index(\"model_name\")[\"model_acc\"].plot(kind='barh')\n",
        "plt.xlabel('accuracy (%)') \n",
        "plt.ylabel(\"Model\")"
      ],
      "metadata": {
        "colab": {
          "base_uri": "https://localhost:8080/",
          "height": 296
        },
        "id": "MBkoVNKenINq",
        "outputId": "9522dbe8-603a-4440-9710-3ee4e1000c50"
      },
      "execution_count": 44,
      "outputs": [
        {
          "output_type": "execute_result",
          "data": {
            "text/plain": [
              "Text(0, 0.5, 'Model')"
            ]
          },
          "metadata": {},
          "execution_count": 44
        },
        {
          "output_type": "display_data",
          "data": {
            "text/plain": [
              "<Figure size 432x288 with 1 Axes>"
            ],
            "image/png": "[encoded data removed]"
          },
          "metadata": {
            "needs_background": "light"
          }
        }
      ]
    },
    {
      "cell_type": "code",
      "source": [
        "# # A more intelligent visualization\n",
        "# highest_acc = 0\n",
        "# for accuracy_score in all_results['model_acc']:\n",
        "#   if accuracy_score > highest_acc:\n",
        "#     highest_acc = accuracy_score"
      ],
      "metadata": {
        "id": "Cy1xtYmmnmEP"
      },
      "execution_count": 45,
      "outputs": []
    },
    {
      "cell_type": "code",
      "source": [
        "all_results.set_index(\"model_name\", inplace=True)"
      ],
      "metadata": {
        "id": "tbekFZsr_L_e"
      },
      "execution_count": 46,
      "outputs": []
    },
    {
      "cell_type": "code",
      "source": [
        "for i, acc_score in enumerate(all_results[\"model_acc\"]):\n",
        "  if acc_score == all_results['model_acc'].max():\n",
        "    plt.barh(all_results.index[i], acc_score, color='forestgreen')\n",
        "    plt.text(x=acc_score-13, y=i, s=str(f\"{acc_score:.2f}%\"))\n",
        "  else: \n",
        "    plt.barh(all_results.index[i], acc_score, color='royalblue')\n",
        "    plt.text(x=acc_score-13, y=i, s=str(f\"{acc_score:.2f}%\"))\n",
        "\n",
        "plt.xlabel(\"Accuracy (%)\")\n",
        "plt.ylabel(\"Model Version\")"
      ],
      "metadata": {
        "colab": {
          "base_uri": "https://localhost:8080/",
          "height": 296
        },
        "id": "uZR03qT9o1R6",
        "outputId": "6311bf87-aa70-4826-b277-f2933c9bcc40"
      },
      "execution_count": 47,
      "outputs": [
        {
          "output_type": "execute_result",
          "data": {
            "text/plain": [
              "Text(0, 0.5, 'Model Version')"
            ]
          },
          "metadata": {},
          "execution_count": 47
        },
        {
          "output_type": "display_data",
          "data": {
            "text/plain": [
              "<Figure size 432x288 with 1 Axes>"
            ],
            "image/png": "[encoded data removed]"
          },
          "metadata": {
            "needs_background": "light"
          }
        }
      ]
    },
    {
      "cell_type": "code",
      "source": [
        "# Create a function to make predictions (from ZTM PyTorch course) \n",
        "def make_predictions(model: torch.nn.Module, data: list, device: torch.device=device):\n",
        "  pred_probs=[] # empty list for prediction probabilities\n",
        "  model.eval() # put model into evaluation mode\n",
        "  with torch.inference_mode():\n",
        "    for sample in data: \n",
        "      # Prepare sample \n",
        "      sample = torch.unsqueeze(sample, dim=0).to(device)\n",
        "\n",
        "      # Forward pass (model will output raw logits) \n",
        "      pred_logit = model(sample)  \n",
        "\n",
        "      # Get prediction probability (logit -> prediction probability) \n",
        "      pred_prob = torch.softmax(pred_logit.squeeze(), dim=0)\n",
        "\n",
        "      # Get pred_prob off GPU for further calculation \n",
        "      pred_probs.append(pred_prob.cpu())\n",
        "\n",
        "  # Stack the pred_probs to turn list into a tensor \n",
        "  return torch.stack(pred_probs)"
      ],
      "metadata": {
        "id": "6t3dYPhYuKhy"
      },
      "execution_count": 48,
      "outputs": []
    },
    {
      "cell_type": "code",
      "source": [
        "import random \n",
        "test_samples = [] \n",
        "test_labels = [] \n",
        "for sample, label in random.sample(list(test_data), k=9): \n",
        "  test_samples.append(sample) \n",
        "  test_labels.append(label) \n",
        "\n",
        "# View the first test sample and label \n",
        "print(f\"Test sample image shape: {test_samples[0].shape}\\nTest sample label: {test_labels[0]}\")"
      ],
      "metadata": {
        "colab": {
          "base_uri": "https://localhost:8080/"
        },
        "id": "bYnuQXjTsGy1",
        "outputId": "5c7809b4-3c7e-4018-d75b-095c9ad97b55"
      },
      "execution_count": 49,
      "outputs": [
        {
          "output_type": "stream",
          "name": "stdout",
          "text": [
            "Test sample image shape: torch.Size([1, 28, 28])\n",
            "Test sample label: 8\n"
          ]
        }
      ]
    },
    {
      "cell_type": "code",
      "source": [
        "# Make predictions on test samples with model 2 (our best performing model) \n",
        "pred_probs = make_predictions(model=model_3, \n",
        "                              data=test_samples)  \n",
        "\n",
        "# View first two prediction probabilities list \n",
        "pred_probs[:2] "
      ],
      "metadata": {
        "colab": {
          "base_uri": "https://localhost:8080/"
        },
        "id": "bvuFYZy0tmCb",
        "outputId": "4318bb95-cebe-4189-d2b4-d0e47fe74eb5"
      },
      "execution_count": 50,
      "outputs": [
        {
          "output_type": "execute_result",
          "data": {
            "text/plain": [
              "tensor([[1.1619e-06, 5.6201e-12, 1.1384e-08, 3.2477e-08, 2.5675e-08, 1.8814e-10,\n",
              "         2.6758e-11, 9.6406e-11, 1.0000e+00, 1.0993e-06],\n",
              "        [3.3134e-06, 1.7402e-14, 3.7411e-08, 1.2515e-07, 5.1493e-09, 7.8809e-07,\n",
              "         9.9999e-01, 7.4626e-11, 9.5340e-06, 7.0718e-10]])"
            ]
          },
          "metadata": {},
          "execution_count": 50
        }
      ]
    },
    {
      "cell_type": "code",
      "source": [
        "# Turn the prediction probabilities into prediction labels \n",
        "pred_classes = pred_probs.argmax(dim=1)  \n",
        "pred_classes"
      ],
      "metadata": {
        "colab": {
          "base_uri": "https://localhost:8080/"
        },
        "id": "zeOLzmQAt9Yb",
        "outputId": "8dc0d07b-9b9a-4f06-cc0b-765bae2d9920"
      },
      "execution_count": 51,
      "outputs": [
        {
          "output_type": "execute_result",
          "data": {
            "text/plain": [
              "tensor([8, 6, 8, 5, 0, 5, 7, 5, 3])"
            ]
          },
          "metadata": {},
          "execution_count": 51
        }
      ]
    },
    {
      "cell_type": "code",
      "source": [
        "test_labels, pred_classes"
      ],
      "metadata": {
        "colab": {
          "base_uri": "https://localhost:8080/"
        },
        "id": "aoNSySxmuMOS",
        "outputId": "6e6fee4c-7287-4b23-f42c-9b5c0205183d"
      },
      "execution_count": 52,
      "outputs": [
        {
          "output_type": "execute_result",
          "data": {
            "text/plain": [
              "([8, 6, 8, 5, 0, 3, 7, 5, 3], tensor([8, 6, 8, 5, 0, 5, 7, 5, 3]))"
            ]
          },
          "metadata": {},
          "execution_count": 52
        }
      ]
    },
    {
      "cell_type": "code",
      "source": [
        "# Plot the predictions \n",
        "plt.figure(figsize=(9,9)) \n",
        "rows = 3\n",
        "cols = 3 \n",
        "for i, sample in enumerate(test_samples): \n",
        "  # Create subplot \n",
        "  plt.subplot(rows, cols, i+1)\n",
        "\n",
        "  # Plot the target image \n",
        "  plt.imshow(sample.squeeze(), cmap='gray') \n",
        "\n",
        "  # Find the prediction label\n",
        "  pred_label = class_names[pred_classes[i]]\n",
        "\n",
        "  # Ground truth \n",
        "  truth_label = class_names[test_labels[i]] \n",
        "\n",
        "  # Plot title\n",
        "  title_text = (f\"Pred: {pred_label} | Truth: {truth_label}\") \n",
        "\n",
        "  \n",
        "  # Check for equality and change the title color accordingly \n",
        "  if pred_label == truth_label: \n",
        "    plt.title(title_text, fontsize=10, c='g')\n",
        "  else: \n",
        "    plt.title(title_text, fontsize=10, c='r')\n",
        "  plt.axis(False)"
      ],
      "metadata": {
        "colab": {
          "base_uri": "https://localhost:8080/",
          "height": 534
        },
        "id": "HjB1gz7huYP9",
        "outputId": "02c2dac7-cd71-40fe-d72e-c091ffc2f7d0"
      },
      "execution_count": 53,
      "outputs": [
        {
          "output_type": "display_data",
          "data": {
            "text/plain": [
              "<Figure size 648x648 with 9 Axes>"
            ],
            "image/png": "[encoded data removed]"
          },
          "metadata": {
            "needs_background": "light"
          }
        }
      ]
    },
    {
      "cell_type": "markdown",
      "source": [
        "## Make some predictions with Model_3"
      ],
      "metadata": {
        "id": "U6FnCf3-vHK2"
      }
    },
    {
      "cell_type": "code",
      "source": [
        "test_data.targets"
      ],
      "metadata": {
        "colab": {
          "base_uri": "https://localhost:8080/"
        },
        "id": "Jm9CnoefwbpS",
        "outputId": "3a1541ac-1ba4-4f25-b539-55a68cfdd222"
      },
      "execution_count": 54,
      "outputs": [
        {
          "output_type": "execute_result",
          "data": {
            "text/plain": [
              "tensor([7, 2, 1,  ..., 4, 5, 6])"
            ]
          },
          "metadata": {},
          "execution_count": 54
        }
      ]
    },
    {
      "cell_type": "code",
      "source": [
        "from tqdm.auto import tqdm \n",
        "\n",
        "# 1. Make predictions with trained model \n",
        "y_preds = [] \n",
        "model_3.eval() \n",
        "with torch.inference_mode(): \n",
        "  for X, y in tqdm(test_dataloader, desc='Making Predictions'): \n",
        "    # Put data on target device \n",
        "    X, y = X.to(device), y.to(device) \n",
        "    # Do the forward pass \n",
        "    y_logit = model_2(X) \n",
        "    # Get prediction label \n",
        "    y_pred = torch.softmax(y_logit, dim=1).argmax(dim=1) \n",
        "    # Put prediction on CPU\n",
        "    y_preds.append(y_pred.cpu())\n",
        "# Concatenate list of predictions into a tensor \n",
        "y_pred_tensor = torch.cat(y_preds)"
      ],
      "metadata": {
        "colab": {
          "base_uri": "https://localhost:8080/",
          "height": 49,
          "referenced_widgets": [
            "79b260294d90473aa837bc0ebb1d626e",
            "cec89406991f42d79ba440280b600ecb",
            "a3329c4a703f4a4aba83854bb67ed0d5",
            "ed1c24eee8c0422b8fba934767fd70eb",
            "dec44cf7bb3c48d1bbde290c730b318d",
            "5a328bb14303437f80ef16be74c740fd",
            "7e2d6aebe89d4ccc932c07b8edbb9bc3",
            "7eb23d9a837949bab016700f16b80d3d",
            "06766aee9fed40479d63101907a7574d",
            "5aa6c6a020944165879088a0f0598434",
            "d89d9460cdfd49ed8f338e0798044757"
          ]
        },
        "id": "kpB965bsvuln",
        "outputId": "cf43efd9-3072-4d8c-f773-8d9f05cf6faa"
      },
      "execution_count": 55,
      "outputs": [
        {
          "output_type": "display_data",
          "data": {
            "text/plain": [
              "Making Predictions:   0%|          | 0/313 [00:00<?, ?it/s]"
            ],
            "application/vnd.jupyter.widget-view+json": {
              "version_major": 2,
              "version_minor": 0,
              "model_id": "79b260294d90473aa837bc0ebb1d626e"
            }
          },
          "metadata": {}
        }
      ]
    },
    {
      "cell_type": "code",
      "source": [
        "test_labels = test_data.targets\n",
        "test_labels"
      ],
      "metadata": {
        "colab": {
          "base_uri": "https://localhost:8080/"
        },
        "id": "QXWQLMbf0rHL",
        "outputId": "7795ae4c-a44d-459f-f783-bc4984e0dd15"
      },
      "execution_count": 56,
      "outputs": [
        {
          "output_type": "execute_result",
          "data": {
            "text/plain": [
              "tensor([7, 2, 1,  ..., 4, 5, 6])"
            ]
          },
          "metadata": {},
          "execution_count": 56
        }
      ]
    },
    {
      "cell_type": "markdown",
      "source": [
        "## Plotting the incorrect predictions"
      ],
      "metadata": {
        "id": "K67vpz1e7O62"
      }
    },
    {
      "cell_type": "code",
      "source": [
        "import numpy as np  \n",
        "# Get index positions of where our model predicted incorrectly \n",
        "incorrect_preds = np.where(y_pred_tensor != test_labels)[0] # gets index position\n",
        "incorrect_preds[:10]"
      ],
      "metadata": {
        "colab": {
          "base_uri": "https://localhost:8080/"
        },
        "id": "Rgu9FB52wjV_",
        "outputId": "c3d4b815-0bad-4347-ecd0-a7429b171ea2"
      },
      "execution_count": 57,
      "outputs": [
        {
          "output_type": "execute_result",
          "data": {
            "text/plain": [
              "array([241, 247, 259, 320, 321, 359, 381, 449, 492, 582])"
            ]
          },
          "metadata": {},
          "execution_count": 57
        }
      ]
    },
    {
      "cell_type": "code",
      "source": [
        "plt.imshow(test_data[247][0].squeeze(), cmap='gray')"
      ],
      "metadata": {
        "colab": {
          "base_uri": "https://localhost:8080/",
          "height": 282
        },
        "id": "8KvGMdqx2Ml7",
        "outputId": "5f0c6160-c6f5-41ed-f123-f787d976a178"
      },
      "execution_count": 58,
      "outputs": [
        {
          "output_type": "execute_result",
          "data": {
            "text/plain": [
              "<matplotlib.image.AxesImage at 0x7f12f807d410>"
            ]
          },
          "metadata": {},
          "execution_count": 58
        },
        {
          "output_type": "display_data",
          "data": {
            "text/plain": [
              "<Figure size 432x288 with 1 Axes>"
            ],
            "image/png": "[encoded data removed]"
          },
          "metadata": {
            "needs_background": "light"
          }
        }
      ]
    },
    {
      "cell_type": "code",
      "source": [
        "random.sample(list(incorrect_preds), k=10)"
      ],
      "metadata": {
        "colab": {
          "base_uri": "https://localhost:8080/"
        },
        "id": "4k9Nd0hM2vdF",
        "outputId": "29dcc689-7eed-4ced-bcb5-0182f0f881ae"
      },
      "execution_count": 60,
      "outputs": [
        {
          "output_type": "execute_result",
          "data": {
            "text/plain": [
              "[9692, 1319, 2648, 7208, 6608, 4690, 8408, 1364, 3808, 3597]"
            ]
          },
          "metadata": {},
          "execution_count": 60
        }
      ]
    },
    {
      "cell_type": "code",
      "source": [
        "y_pred_tensor[9692]"
      ],
      "metadata": {
        "colab": {
          "base_uri": "https://localhost:8080/"
        },
        "id": "A3ixogYU2y1v",
        "outputId": "0b461acf-51fc-434a-e750-f9be46e9f80b"
      },
      "execution_count": 61,
      "outputs": [
        {
          "output_type": "execute_result",
          "data": {
            "text/plain": [
              "tensor(7)"
            ]
          },
          "metadata": {},
          "execution_count": 61
        }
      ]
    },
    {
      "cell_type": "code",
      "source": [
        "# Plot the incorrect predictions\n",
        "fig = plt.figure(figsize=(20,10))\n",
        "nrows = 2\n",
        "ncols = 5\n",
        "for i, idx in enumerate(random.sample(list(incorrect_preds), k=10)):\n",
        "  image, label = test_data[idx]\n",
        "  fig.add_subplot(nrows, ncols, i+1)\n",
        "  plt.imshow(image.squeeze(), cmap='gray')\n",
        "  plt.title(f\"Pred: {class_names[y_pred_tensor[idx].item()]} | Truth: {class_names[label]}\")\n",
        "  plt.axis(False)"
      ],
      "metadata": {
        "colab": {
          "base_uri": "https://localhost:8080/",
          "height": 536
        },
        "id": "nX_0-wo6xAw3",
        "outputId": "2ef96dc0-2068-4e83-baa9-aea36d5652c3"
      },
      "execution_count": 62,
      "outputs": [
        {
          "output_type": "display_data",
          "data": {
            "text/plain": [
              "<Figure size 1440x720 with 10 Axes>"
            ],
            "image/png": "[encoded data removed]"
          },
          "metadata": {
            "needs_background": "light"
          }
        }
      ]
    },
    {
      "cell_type": "code",
      "source": [
        "# Updating train_step and test_step functions to work with wandb\n",
        "def train_step(model: torch.nn.Module, \n",
        "               data_loader: torch.utils.data.DataLoader, \n",
        "               optimizer: torch.nn.Module, \n",
        "               loss_fn: torch.nn.Module,\n",
        "               accuracy_fn=accuracy_fn, \n",
        "               device: torch.device = device):\n",
        "  \"\"\" \n",
        "  Iterates over a data_loader and returns the training loss and accuracy\n",
        "  \"\"\"\n",
        "\n",
        "  train_loss, train_acc = 0,0 # zero out training loss and accuracy \n",
        "  model.train() # put model in training mode\n",
        "  for batch, (X,y) in enumerate(data_loader): # enumerate will iterate through the batches in data_loader\n",
        "    # Send data to GPU (if available) \n",
        "    X, y = X.to(device), y.to(device) \n",
        "\n",
        "    # 1. Forward pass \n",
        "    y_pred = model(X) \n",
        "\n",
        "    # 2. Calculate loss and accuracy\n",
        "    loss = loss_fn(y_pred, y) \n",
        "    train_loss += loss \n",
        "    train_acc += accuracy_fn(y_true=y, \n",
        "                             y_pred=y_pred.argmax(dim=1)) # logits -> pred labels\n",
        "\n",
        "    # 3. Optimizer zero grad \n",
        "    optimizer.zero_grad()\n",
        "    # 4. Loss backward \n",
        "    loss.backward() \n",
        "    # 5. Optimizer step \n",
        "    optimizer.step() \n",
        "\n",
        "  # Get loss and accuracy per epoch\n",
        "  train_loss /= len(data_loader) \n",
        "  train_acc /= len(data_loader) \n",
        "\n",
        "  print(f\"Train loss: {train_loss} | Train accuracy: {train_acc:.2f}%\")\n",
        "\n",
        "  train_metrics = {\"train_loss\": train_loss, \n",
        "                   \"train_accuracy\": train_acc}\n",
        "\n",
        "  wandb.log({**train_metrics})\n",
        "\n",
        "def test_step(data_loader: torch.utils.data.DataLoader, \n",
        "              model: torch.nn.Module, \n",
        "              loss_fn: torch.nn.Module, \n",
        "              accuracy_fn,\n",
        "              device: torch.device = device): \n",
        "    \n",
        "  test_loss, test_acc = 0,0 \n",
        "  model.eval() # model in eval mode \n",
        "  # Turn on inference context manager\n",
        "  with torch.inference_mode(): \n",
        "    for X, y in data_loader: \n",
        "      # Send data to GPU \n",
        "      X, y = X.to(device), y.to(device)\n",
        "\n",
        "      # 1. Forward pass \n",
        "      test_pred = model(X) # get predictions \n",
        "\n",
        "      # 2. Calculate loss and accuracy \n",
        "      test_loss += loss_fn(test_pred, y) \n",
        "      test_acc += accuracy_fn(y_true=y, \n",
        "                              y_pred=test_pred.argmax(dim=1)) # logits -> pred labels\n",
        "      \n",
        "    # Adjust metrics and print out \n",
        "    test_loss /= len(data_loader) \n",
        "    test_acc /= len(data_loader)\n",
        "\n",
        "    test_metrics = {\"test_loss\": test_loss, \n",
        "                    \"test_acc\": test_acc}\n",
        "\n",
        "    print(f\"Test loss: {test_loss:.5f} | Test accuracy: {test_acc:.2f}%\\n\")\n",
        "\n",
        "  wandb.log({**test_metrics})"
      ],
      "metadata": {
        "id": "NuE8-8az7TLk"
      },
      "execution_count": 69,
      "outputs": []
    },
    {
      "cell_type": "code",
      "source": [
        "# Run 5 experiments, only differing the learning rate\n",
        "for i in range(5): \n",
        "  # Initialize a wandb run \n",
        "  wandb.init(\n",
        "      project='PyTorch_MNIST_Models', \n",
        "      config={\n",
        "          'epochs': 3,\n",
        "          'batch_size': 32, \n",
        "          'lr': list([0.01, 0.005, 0.001, 0.005, 0.0001]),\n",
        "          'hidden_units': 32  \n",
        "      })\n",
        "  # Copy config\n",
        "  config = wandb.config\n",
        "\n",
        "  # Turn datasets into iterables \n",
        "  train_dataloader = DataLoader(train_data, \n",
        "                              batch_size=config.batch_size, \n",
        "                              shuffle=True # shuffle data every epoch\n",
        "                              )\n",
        "\n",
        "  test_dataloader = DataLoader(test_data,\n",
        "                             batch_size=config.batch_size, \n",
        "                             shuffle=False # doesn't need to be shuffled\n",
        "                             )\n",
        "\n",
        "  # Instantiate the model\n",
        "  model = MNISTModelV3(input_shape=1, \n",
        "                        hidden_units=config.hidden_units, \n",
        "                        output_shape=len(class_names))\n",
        "  model.to(device)\n",
        "  \n",
        "  # Create loss and optimizer functions \n",
        "  loss_fn = nn.CrossEntropyLoss() \n",
        "  optimizer = torch.optim.Adam(model.parameters(), lr=config.lr[i])\n",
        "\n",
        "  # Training and testing\n",
        "  for epoch in tqdm(range(config.epochs)): \n",
        "    print(f\"Epoch: {epoch}\\n------\")\n",
        "    train_step(data_loader=train_dataloader,  \n",
        "                model=model,  \n",
        "                loss_fn=loss_fn,  \n",
        "                optimizer=optimizer,  \n",
        "                accuracy_fn=accuracy_fn,  \n",
        "                device=device\n",
        "                )\n",
        "\n",
        "    test_step(data_loader=test_dataloader,  \n",
        "              model=model,  \n",
        "              loss_fn=loss_fn,   \n",
        "              accuracy_fn=accuracy_fn,  \n",
        "              device=device\n",
        "              )\n",
        "\n",
        "  # Close out the wandb run\n",
        "  wandb.finish()"
      ],
      "metadata": {
        "colab": {
          "base_uri": "https://localhost:8080/",
          "height": 1000,
          "referenced_widgets": [
            "db409eab7e864e56a0717e0ef79c64ed",
            "669c61a773a943ca8563bf6e410607fe",
            "4d42e5da17a0442a8efcd853123aed50",
            "c2bafce486ae47aea813729f1028c60b",
            "e58869e049d14bcbae4a7bdde6078ba2",
            "82c940ea30594990a8706ec0c532ba61",
            "b6988377cd344affb7ac3c4105b5a685",
            "a911ce12d8c24e238c2cbc2b33a84d00",
            "e88531262c804f2bb77020b0259f2d41",
            "76dfaeb19aaa45b38bb0c645884059f2",
            "e8f0e7e82b8641d6bb3c66d1b8e68041",
            "baf5e05352034a89b7c1c1f21c8ab656",
            "5b145ab5783747ee826d20410abc82ba",
            "411205ac7bfc4c24999456b31a02c512",
            "083d0edad70e4af8989bc6aa8a48f5e6",
            "33d1151149b2428682800fb0acfc8a75",
            "94733f1e2d9945e4aa4a24ab2de48452",
            "2bb795d9ae0b4990a6128d6afce40b46",
            "654fc4ec986f4f5a8098bfec2a1c7235",
            "adef85b8dafb414d837e711cb1d49043",
            "63f0676aff864bf1b438fb502bd34fb8",
            "7e928aa98bfd4b3c9d3143ce1642867e",
            "36b83d9caf094afb952bf6d7981a2017",
            "1660fdcfd13846eb8f1c8de8bfa99981",
            "7a7dcb876618430698db74bb69ec7169",
            "d73d5be4625e4417aefcfc381e7a8e4e",
            "7ab6522c0544494ba334935132ce61d7",
            "5e6860b4daf14d669001a049ea6cdff8",
            "33f21c0b733e485cb67def542e6be483",
            "0c87717894d24187bff373686d3227a6",
            "9f905ac2f44847a4aa1acc248e356dab",
            "6092009c39a143d08145a7cf2ea5498a",
            "8bc174ba8a42417e89f3dc4461bd58d3",
            "3e71c2f484274411b644702b3ca05202",
            "cc1322921ecd40f9b029fc207b768e72",
            "2cb3b45f91d249c79f181b16b9eece78",
            "cb2af336263847558e70b92fcdf3d9d3",
            "df13b8bc3f4644658f713ba6a92975f3",
            "e2e10cb1cd414d089439ee36f412682e",
            "b7d7d54024a8479697ce97a388e5c5c1",
            "82591109522b481c926841422eee7a7c",
            "ff025261425743aba5ec2f94205fcb1d",
            "cb40beb0843240d3bf46fe58e6185a20",
            "ff14aa59e440496bb802e44fe81c14f9",
            "48514ba8a1fb491f823c627057664f51",
            "d863d99293b94c27afc2acfd1f57d781",
            "ebfc34e4b9d44ca1889b83f5de900f46",
            "df8c81f3ef644aa7b03c07cd4135ea29",
            "ec8a27ebd4114b7b8d444f69b0eb9225",
            "1c582cacb0e64fa98692093d3d8223f8",
            "2c11b5fa8e394f4d98ebdc076fc82e68",
            "714069f4c8d14d358cfe36e5735796db",
            "86af9db1b01641598997a4617fedea5f",
            "da0869d8cf88438e9236ea1a614d2b8c",
            "d2bf485dee814387973f395ed36789fe",
            "ef1cdec08c4f429bb50155ac4afebd7c",
            "666eba8ddcd64a1e8030e4c9ef1cb5c7",
            "ef2d2315b49843aba301b09d266decc8",
            "73630f2ac23c4de58a269f0eddc67ada",
            "d2546a764067418e8b4150467ab4b830",
            "e92a5125954648d2bcce5f4c06640dcd",
            "34ac9863ab6b4d4892f06359a3328b2f",
            "fd60b93179204d859e4b1205e44c3e3a",
            "8edd12eedb574b9798a1a9b74d522217",
            "8c02544a9739413d826995cca2429f4e",
            "6e47976ceecd4ef59b9d6368027a17ec",
            "873270534af84061bb110f2ed6b75d05",
            "a19dfa73a9b94a15a05db2e0fc2fdaeb",
            "6b6350238eda49ff89897ee468cd90a8",
            "2bd0591e055e413484fcb40369245bd2",
            "666f47d0a2f04eb284652462ab8e1ecb",
            "6dcb95145c6c4c359c4b8f37813abcdc",
            "37e99fc649054bc7b7919782dd88efd7",
            "35e0c368a2774002b3f99bb1915ac703",
            "f2e91bdc5e7c4a06b3298cc5a690d465",
            "456ca568435549ea8c769ed72213a2a4",
            "93e57214a759406fa54653d146729b16",
            "a5e6ebcca4664034a2034a44e3d9f3f3",
            "0b35c04a3556405a9247a8c4c62d4f8f",
            "f107e58e8b484f04bbe78cdda86ed5cc",
            "817e8ab74a9544489f97220f3d644b1a",
            "89cd05c7f6f547d99469f3d3ab708166",
            "2f3a4e7dc8284d9ba1be85f0ed783c16",
            "e46297bbd79f42f9aeac85a6b338b24a",
            "6e95fb9fa99345f2b4f033c7206bc422",
            "f39618156efc4562808de67f5d9da5a0",
            "f97123b7c2c148b1b80edf3316428d71",
            "6efcea7611a24d82a8f493998adfe506",
            "efb434c905c74b56b25a50581ad056e5",
            "74127e931a814448ba99427fa6f91d12",
            "e31fbbae0bc042e9ad4164622d83e5b7",
            "afeefbb010ee467d91da9dda426364e9",
            "a44eab40e62449888f89ea0ade6f4a62",
            "1a50a046c2b548b08506d90ab451a846",
            "4b21a8565d0b404785f45f44adac2202"
          ]
        },
        "id": "DITkzJiwPUKz",
        "outputId": "67d2137d-910b-44ff-9d04-d5ba99a50859"
      },
      "execution_count": 68,
      "outputs": [
        {
          "output_type": "display_data",
          "data": {
            "text/plain": [
              "<IPython.core.display.HTML object>"
            ],
            "text/html": [
              "Finishing last run (ID:1y11syvg) before initializing another..."
            ]
          },
          "metadata": {}
        },
        {
          "output_type": "display_data",
          "data": {
            "text/plain": [
              "<IPython.core.display.HTML object>"
            ],
            "text/html": [
              "Waiting for W&B process to finish... <strong style=\"color:green\">(success).</strong>"
            ]
          },
          "metadata": {}
        },
        {
          "output_type": "display_data",
          "data": {
            "text/plain": [
              "VBox(children=(Label(value='0.001 MB of 0.001 MB uploaded (0.000 MB deduped)\\r'), FloatProgress(value=1.0, max…"
            ],
            "application/vnd.jupyter.widget-view+json": {
              "version_major": 2,
              "version_minor": 0,
              "model_id": "db409eab7e864e56a0717e0ef79c64ed"
            }
          },
          "metadata": {}
        },
        {
          "output_type": "display_data",
          "data": {
            "text/plain": [
              "<IPython.core.display.HTML object>"
            ],
            "text/html": [
              "Synced <strong style=\"color:#cdcd00\">generous-thunder-11</strong>: <a href=\"https://wandb.ai/benbatman/PyTorch_MNIST_Models/runs/1y11syvg\" target=\"_blank\">https://wandb.ai/benbatman/PyTorch_MNIST_Models/runs/1y11syvg</a><br/>Synced 5 W&B file(s), 0 media file(s), 0 artifact file(s) and 0 other file(s)"
            ]
          },
          "metadata": {}
        },
        {
          "output_type": "display_data",
          "data": {
            "text/plain": [
              "<IPython.core.display.HTML object>"
            ],
            "text/html": [
              "Find logs at: <code>./wandb/run-20221130_141107-1y11syvg/logs</code>"
            ]
          },
          "metadata": {}
        },
        {
          "output_type": "display_data",
          "data": {
            "text/plain": [
              "<IPython.core.display.HTML object>"
            ],
            "text/html": [
              "Successfully finished last run (ID:1y11syvg). Initializing new run:<br/>"
            ]
          },
          "metadata": {}
        },
        {
          "output_type": "display_data",
          "data": {
            "text/plain": [
              "<IPython.core.display.HTML object>"
            ],
            "text/html": [
              "Tracking run with wandb version 0.13.5"
            ]
          },
          "metadata": {}
        },
        {
          "output_type": "display_data",
          "data": {
            "text/plain": [
              "<IPython.core.display.HTML object>"
            ],
            "text/html": [
              "Run data is saved locally in <code>/content/wandb/run-20221130_141428-2cr0s8p7</code>"
            ]
          },
          "metadata": {}
        },
        {
          "output_type": "display_data",
          "data": {
            "text/plain": [
              "<IPython.core.display.HTML object>"
            ],
            "text/html": [
              "Syncing run <strong><a href=\"https://wandb.ai/benbatman/PyTorch_MNIST_Models/runs/2cr0s8p7\" target=\"_blank\">eager-grass-12</a></strong> to <a href=\"https://wandb.ai/benbatman/PyTorch_MNIST_Models\" target=\"_blank\">Weights & Biases</a> (<a href=\"https://wandb.me/run\" target=\"_blank\">docs</a>)<br/>"
            ]
          },
          "metadata": {}
        },
        {
          "output_type": "display_data",
          "data": {
            "text/plain": [
              "  0%|          | 0/3 [00:00<?, ?it/s]"
            ],
            "application/vnd.jupyter.widget-view+json": {
              "version_major": 2,
              "version_minor": 0,
              "model_id": "e88531262c804f2bb77020b0259f2d41"
            }
          },
          "metadata": {}
        },
        {
          "output_type": "stream",
          "name": "stdout",
          "text": [
            "Epoch: 0\n",
            "------\n",
            "Train loss: 0.2529435455799103 | Train accuracy: 92.10%\n",
            "Test loss: 0.15249 | Test accuracy: 94.94%\n",
            "\n",
            "Epoch: 1\n",
            "------\n",
            "Train loss: 0.12251285463571548 | Train accuracy: 96.34%\n",
            "Test loss: 0.09891 | Test accuracy: 96.91%\n",
            "\n",
            "Epoch: 2\n",
            "------\n",
            "Train loss: 0.10749579221010208 | Train accuracy: 96.79%\n",
            "Test loss: 0.10561 | Test accuracy: 96.91%\n",
            "\n"
          ]
        },
        {
          "output_type": "display_data",
          "data": {
            "text/plain": [
              "<IPython.core.display.HTML object>"
            ],
            "text/html": [
              "Waiting for W&B process to finish... <strong style=\"color:green\">(success).</strong>"
            ]
          },
          "metadata": {}
        },
        {
          "output_type": "display_data",
          "data": {
            "text/plain": [
              "<IPython.core.display.HTML object>"
            ],
            "text/html": [
              "<style>\n",
              "    table.wandb td:nth-child(1) { padding: 0 10px; text-align: left ; width: auto;} td:nth-child(2) {text-align: left ; width: 100%}\n",
              "    .wandb-row { display: flex; flex-direction: row; flex-wrap: wrap; justify-content: flex-start; width: 100% }\n",
              "    .wandb-col { display: flex; flex-direction: column; flex-basis: 100%; flex: 1; padding: 10px; }\n",
              "    </style>\n",
              "<div class=\"wandb-row\"><div class=\"wandb-col\"><h3>Run history:</h3><br/><table class=\"wandb\"><tr><td>test_acc</td><td>▁██</td></tr><tr><td>test_loss</td><td>█▁▂</td></tr><tr><td>train_accuracy</td><td>▁▇█</td></tr><tr><td>train_loss</td><td>█▂▁</td></tr></table><br/></div><div class=\"wandb-col\"><h3>Run summary:</h3><br/><table class=\"wandb\"><tr><td>test_acc</td><td>96.91494</td></tr><tr><td>test_loss</td><td>0.10561</td></tr><tr><td>train_accuracy</td><td>96.79</td></tr><tr><td>train_loss</td><td>0.1075</td></tr></table><br/></div></div>"
            ]
          },
          "metadata": {}
        },
        {
          "output_type": "display_data",
          "data": {
            "text/plain": [
              "<IPython.core.display.HTML object>"
            ],
            "text/html": [
              "Synced <strong style=\"color:#cdcd00\">eager-grass-12</strong>: <a href=\"https://wandb.ai/benbatman/PyTorch_MNIST_Models/runs/2cr0s8p7\" target=\"_blank\">https://wandb.ai/benbatman/PyTorch_MNIST_Models/runs/2cr0s8p7</a><br/>Synced 5 W&B file(s), 0 media file(s), 0 artifact file(s) and 0 other file(s)"
            ]
          },
          "metadata": {}
        },
        {
          "output_type": "display_data",
          "data": {
            "text/plain": [
              "<IPython.core.display.HTML object>"
            ],
            "text/html": [
              "Find logs at: <code>./wandb/run-20221130_141428-2cr0s8p7/logs</code>"
            ]
          },
          "metadata": {}
        },
        {
          "output_type": "display_data",
          "data": {
            "text/plain": [
              "<IPython.core.display.HTML object>"
            ],
            "text/html": [
              "Tracking run with wandb version 0.13.5"
            ]
          },
          "metadata": {}
        },
        {
          "output_type": "display_data",
          "data": {
            "text/plain": [
              "<IPython.core.display.HTML object>"
            ],
            "text/html": [
              "Run data is saved locally in <code>/content/wandb/run-20221130_141510-13fwaziq</code>"
            ]
          },
          "metadata": {}
        },
        {
          "output_type": "display_data",
          "data": {
            "text/plain": [
              "<IPython.core.display.HTML object>"
            ],
            "text/html": [
              "Syncing run <strong><a href=\"https://wandb.ai/benbatman/PyTorch_MNIST_Models/runs/13fwaziq\" target=\"_blank\">dauntless-night-13</a></strong> to <a href=\"https://wandb.ai/benbatman/PyTorch_MNIST_Models\" target=\"_blank\">Weights & Biases</a> (<a href=\"https://wandb.me/run\" target=\"_blank\">docs</a>)<br/>"
            ]
          },
          "metadata": {}
        },
        {
          "output_type": "display_data",
          "data": {
            "text/plain": [
              "  0%|          | 0/3 [00:00<?, ?it/s]"
            ],
            "application/vnd.jupyter.widget-view+json": {
              "version_major": 2,
              "version_minor": 0,
              "model_id": "adef85b8dafb414d837e711cb1d49043"
            }
          },
          "metadata": {}
        },
        {
          "output_type": "stream",
          "name": "stdout",
          "text": [
            "Epoch: 0\n",
            "------\n",
            "Train loss: 0.1273512989282608 | Train accuracy: 96.11%\n",
            "Test loss: 0.05013 | Test accuracy: 98.62%\n",
            "\n",
            "Epoch: 1\n",
            "------\n",
            "Train loss: 0.058146994560956955 | Train accuracy: 98.19%\n",
            "Test loss: 0.05533 | Test accuracy: 98.16%\n",
            "\n",
            "Epoch: 2\n",
            "------\n",
            "Train loss: 0.04464947059750557 | Train accuracy: 98.64%\n",
            "Test loss: 0.05865 | Test accuracy: 98.17%\n",
            "\n"
          ]
        },
        {
          "output_type": "display_data",
          "data": {
            "text/plain": [
              "<IPython.core.display.HTML object>"
            ],
            "text/html": [
              "Waiting for W&B process to finish... <strong style=\"color:green\">(success).</strong>"
            ]
          },
          "metadata": {}
        },
        {
          "output_type": "display_data",
          "data": {
            "text/plain": [
              "VBox(children=(Label(value='0.001 MB of 0.001 MB uploaded (0.000 MB deduped)\\r'), FloatProgress(value=1.0, max…"
            ],
            "application/vnd.jupyter.widget-view+json": {
              "version_major": 2,
              "version_minor": 0,
              "model_id": "9f905ac2f44847a4aa1acc248e356dab"
            }
          },
          "metadata": {}
        },
        {
          "output_type": "display_data",
          "data": {
            "text/plain": [
              "<IPython.core.display.HTML object>"
            ],
            "text/html": [
              "<style>\n",
              "    table.wandb td:nth-child(1) { padding: 0 10px; text-align: left ; width: auto;} td:nth-child(2) {text-align: left ; width: 100%}\n",
              "    .wandb-row { display: flex; flex-direction: row; flex-wrap: wrap; justify-content: flex-start; width: 100% }\n",
              "    .wandb-col { display: flex; flex-direction: column; flex-basis: 100%; flex: 1; padding: 10px; }\n",
              "    </style>\n",
              "<div class=\"wandb-row\"><div class=\"wandb-col\"><h3>Run history:</h3><br/><table class=\"wandb\"><tr><td>test_acc</td><td>█▁▁</td></tr><tr><td>test_loss</td><td>▁▅█</td></tr><tr><td>train_accuracy</td><td>▁▇█</td></tr><tr><td>train_loss</td><td>█▂▁</td></tr></table><br/></div><div class=\"wandb-col\"><h3>Run summary:</h3><br/><table class=\"wandb\"><tr><td>test_acc</td><td>98.17292</td></tr><tr><td>test_loss</td><td>0.05865</td></tr><tr><td>train_accuracy</td><td>98.64167</td></tr><tr><td>train_loss</td><td>0.04465</td></tr></table><br/></div></div>"
            ]
          },
          "metadata": {}
        },
        {
          "output_type": "display_data",
          "data": {
            "text/plain": [
              "<IPython.core.display.HTML object>"
            ],
            "text/html": [
              "Synced <strong style=\"color:#cdcd00\">dauntless-night-13</strong>: <a href=\"https://wandb.ai/benbatman/PyTorch_MNIST_Models/runs/13fwaziq\" target=\"_blank\">https://wandb.ai/benbatman/PyTorch_MNIST_Models/runs/13fwaziq</a><br/>Synced 5 W&B file(s), 0 media file(s), 0 artifact file(s) and 0 other file(s)"
            ]
          },
          "metadata": {}
        },
        {
          "output_type": "display_data",
          "data": {
            "text/plain": [
              "<IPython.core.display.HTML object>"
            ],
            "text/html": [
              "Find logs at: <code>./wandb/run-20221130_141510-13fwaziq/logs</code>"
            ]
          },
          "metadata": {}
        },
        {
          "output_type": "display_data",
          "data": {
            "text/plain": [
              "<IPython.core.display.HTML object>"
            ],
            "text/html": [
              "Tracking run with wandb version 0.13.5"
            ]
          },
          "metadata": {}
        },
        {
          "output_type": "display_data",
          "data": {
            "text/plain": [
              "<IPython.core.display.HTML object>"
            ],
            "text/html": [
              "Run data is saved locally in <code>/content/wandb/run-20221130_141550-5u2zfczt</code>"
            ]
          },
          "metadata": {}
        },
        {
          "output_type": "display_data",
          "data": {
            "text/plain": [
              "<IPython.core.display.HTML object>"
            ],
            "text/html": [
              "Syncing run <strong><a href=\"https://wandb.ai/benbatman/PyTorch_MNIST_Models/runs/5u2zfczt\" target=\"_blank\">lively-plant-14</a></strong> to <a href=\"https://wandb.ai/benbatman/PyTorch_MNIST_Models\" target=\"_blank\">Weights & Biases</a> (<a href=\"https://wandb.me/run\" target=\"_blank\">docs</a>)<br/>"
            ]
          },
          "metadata": {}
        },
        {
          "output_type": "display_data",
          "data": {
            "text/plain": [
              "  0%|          | 0/3 [00:00<?, ?it/s]"
            ],
            "application/vnd.jupyter.widget-view+json": {
              "version_major": 2,
              "version_minor": 0,
              "model_id": "e2e10cb1cd414d089439ee36f412682e"
            }
          },
          "metadata": {}
        },
        {
          "output_type": "stream",
          "name": "stdout",
          "text": [
            "Epoch: 0\n",
            "------\n",
            "Train loss: 0.14737264811992645 | Train accuracy: 95.45%\n",
            "Test loss: 0.05825 | Test accuracy: 98.02%\n",
            "\n",
            "Epoch: 1\n",
            "------\n",
            "Train loss: 0.05035887658596039 | Train accuracy: 98.44%\n",
            "Test loss: 0.04445 | Test accuracy: 98.55%\n",
            "\n",
            "Epoch: 2\n",
            "------\n",
            "Train loss: 0.037702303379774094 | Train accuracy: 98.83%\n",
            "Test loss: 0.03664 | Test accuracy: 98.88%\n",
            "\n"
          ]
        },
        {
          "output_type": "display_data",
          "data": {
            "text/plain": [
              "<IPython.core.display.HTML object>"
            ],
            "text/html": [
              "Waiting for W&B process to finish... <strong style=\"color:green\">(success).</strong>"
            ]
          },
          "metadata": {}
        },
        {
          "output_type": "display_data",
          "data": {
            "text/plain": [
              "VBox(children=(Label(value='0.001 MB of 0.009 MB uploaded (0.000 MB deduped)\\r'), FloatProgress(value=0.080808…"
            ],
            "application/vnd.jupyter.widget-view+json": {
              "version_major": 2,
              "version_minor": 0,
              "model_id": "1c582cacb0e64fa98692093d3d8223f8"
            }
          },
          "metadata": {}
        },
        {
          "output_type": "display_data",
          "data": {
            "text/plain": [
              "<IPython.core.display.HTML object>"
            ],
            "text/html": [
              "<style>\n",
              "    table.wandb td:nth-child(1) { padding: 0 10px; text-align: left ; width: auto;} td:nth-child(2) {text-align: left ; width: 100%}\n",
              "    .wandb-row { display: flex; flex-direction: row; flex-wrap: wrap; justify-content: flex-start; width: 100% }\n",
              "    .wandb-col { display: flex; flex-direction: column; flex-basis: 100%; flex: 1; padding: 10px; }\n",
              "    </style>\n",
              "<div class=\"wandb-row\"><div class=\"wandb-col\"><h3>Run history:</h3><br/><table class=\"wandb\"><tr><td>test_acc</td><td>▁▅█</td></tr><tr><td>test_loss</td><td>█▄▁</td></tr><tr><td>train_accuracy</td><td>▁▇█</td></tr><tr><td>train_loss</td><td>█▂▁</td></tr></table><br/></div><div class=\"wandb-col\"><h3>Run summary:</h3><br/><table class=\"wandb\"><tr><td>test_acc</td><td>98.88179</td></tr><tr><td>test_loss</td><td>0.03664</td></tr><tr><td>train_accuracy</td><td>98.82667</td></tr><tr><td>train_loss</td><td>0.0377</td></tr></table><br/></div></div>"
            ]
          },
          "metadata": {}
        },
        {
          "output_type": "display_data",
          "data": {
            "text/plain": [
              "<IPython.core.display.HTML object>"
            ],
            "text/html": [
              "Synced <strong style=\"color:#cdcd00\">lively-plant-14</strong>: <a href=\"https://wandb.ai/benbatman/PyTorch_MNIST_Models/runs/5u2zfczt\" target=\"_blank\">https://wandb.ai/benbatman/PyTorch_MNIST_Models/runs/5u2zfczt</a><br/>Synced 5 W&B file(s), 0 media file(s), 0 artifact file(s) and 0 other file(s)"
            ]
          },
          "metadata": {}
        },
        {
          "output_type": "display_data",
          "data": {
            "text/plain": [
              "<IPython.core.display.HTML object>"
            ],
            "text/html": [
              "Find logs at: <code>./wandb/run-20221130_141550-5u2zfczt/logs</code>"
            ]
          },
          "metadata": {}
        },
        {
          "output_type": "display_data",
          "data": {
            "text/plain": [
              "<IPython.core.display.HTML object>"
            ],
            "text/html": [
              "Tracking run with wandb version 0.13.5"
            ]
          },
          "metadata": {}
        },
        {
          "output_type": "display_data",
          "data": {
            "text/plain": [
              "<IPython.core.display.HTML object>"
            ],
            "text/html": [
              "Run data is saved locally in <code>/content/wandb/run-20221130_141627-1ev0ktb7</code>"
            ]
          },
          "metadata": {}
        },
        {
          "output_type": "display_data",
          "data": {
            "text/plain": [
              "<IPython.core.display.HTML object>"
            ],
            "text/html": [
              "Syncing run <strong><a href=\"https://wandb.ai/benbatman/PyTorch_MNIST_Models/runs/1ev0ktb7\" target=\"_blank\">vital-sea-15</a></strong> to <a href=\"https://wandb.ai/benbatman/PyTorch_MNIST_Models\" target=\"_blank\">Weights & Biases</a> (<a href=\"https://wandb.me/run\" target=\"_blank\">docs</a>)<br/>"
            ]
          },
          "metadata": {}
        },
        {
          "output_type": "display_data",
          "data": {
            "text/plain": [
              "  0%|          | 0/3 [00:00<?, ?it/s]"
            ],
            "application/vnd.jupyter.widget-view+json": {
              "version_major": 2,
              "version_minor": 0,
              "model_id": "ef2d2315b49843aba301b09d266decc8"
            }
          },
          "metadata": {}
        },
        {
          "output_type": "stream",
          "name": "stdout",
          "text": [
            "Epoch: 0\n",
            "------\n",
            "Train loss: 0.14363425970077515 | Train accuracy: 95.52%\n",
            "Test loss: 0.05015 | Test accuracy: 98.24%\n",
            "\n",
            "Epoch: 1\n",
            "------\n",
            "Train loss: 0.06329818069934845 | Train accuracy: 98.11%\n",
            "Test loss: 0.05565 | Test accuracy: 98.11%\n",
            "\n",
            "Epoch: 2\n",
            "------\n",
            "Train loss: 0.054139334708452225 | Train accuracy: 98.37%\n",
            "Test loss: 0.04339 | Test accuracy: 98.64%\n",
            "\n"
          ]
        },
        {
          "output_type": "display_data",
          "data": {
            "text/plain": [
              "<IPython.core.display.HTML object>"
            ],
            "text/html": [
              "Waiting for W&B process to finish... <strong style=\"color:green\">(success).</strong>"
            ]
          },
          "metadata": {}
        },
        {
          "output_type": "display_data",
          "data": {
            "text/plain": [
              "VBox(children=(Label(value='0.001 MB of 0.009 MB uploaded (0.000 MB deduped)\\r'), FloatProgress(value=0.082833…"
            ],
            "application/vnd.jupyter.widget-view+json": {
              "version_major": 2,
              "version_minor": 0,
              "model_id": "6b6350238eda49ff89897ee468cd90a8"
            }
          },
          "metadata": {}
        },
        {
          "output_type": "display_data",
          "data": {
            "text/plain": [
              "<IPython.core.display.HTML object>"
            ],
            "text/html": [
              "<style>\n",
              "    table.wandb td:nth-child(1) { padding: 0 10px; text-align: left ; width: auto;} td:nth-child(2) {text-align: left ; width: 100%}\n",
              "    .wandb-row { display: flex; flex-direction: row; flex-wrap: wrap; justify-content: flex-start; width: 100% }\n",
              "    .wandb-col { display: flex; flex-direction: column; flex-basis: 100%; flex: 1; padding: 10px; }\n",
              "    </style>\n",
              "<div class=\"wandb-row\"><div class=\"wandb-col\"><h3>Run history:</h3><br/><table class=\"wandb\"><tr><td>test_acc</td><td>▃▁█</td></tr><tr><td>test_loss</td><td>▅█▁</td></tr><tr><td>train_accuracy</td><td>▁▇█</td></tr><tr><td>train_loss</td><td>█▂▁</td></tr></table><br/></div><div class=\"wandb-col\"><h3>Run summary:</h3><br/><table class=\"wandb\"><tr><td>test_acc</td><td>98.64217</td></tr><tr><td>test_loss</td><td>0.04339</td></tr><tr><td>train_accuracy</td><td>98.37</td></tr><tr><td>train_loss</td><td>0.05414</td></tr></table><br/></div></div>"
            ]
          },
          "metadata": {}
        },
        {
          "output_type": "display_data",
          "data": {
            "text/plain": [
              "<IPython.core.display.HTML object>"
            ],
            "text/html": [
              "Synced <strong style=\"color:#cdcd00\">vital-sea-15</strong>: <a href=\"https://wandb.ai/benbatman/PyTorch_MNIST_Models/runs/1ev0ktb7\" target=\"_blank\">https://wandb.ai/benbatman/PyTorch_MNIST_Models/runs/1ev0ktb7</a><br/>Synced 5 W&B file(s), 0 media file(s), 0 artifact file(s) and 0 other file(s)"
            ]
          },
          "metadata": {}
        },
        {
          "output_type": "display_data",
          "data": {
            "text/plain": [
              "<IPython.core.display.HTML object>"
            ],
            "text/html": [
              "Find logs at: <code>./wandb/run-20221130_141627-1ev0ktb7/logs</code>"
            ]
          },
          "metadata": {}
        },
        {
          "output_type": "display_data",
          "data": {
            "text/plain": [
              "<IPython.core.display.HTML object>"
            ],
            "text/html": [
              "Tracking run with wandb version 0.13.5"
            ]
          },
          "metadata": {}
        },
        {
          "output_type": "display_data",
          "data": {
            "text/plain": [
              "<IPython.core.display.HTML object>"
            ],
            "text/html": [
              "Run data is saved locally in <code>/content/wandb/run-20221130_141704-14egr934</code>"
            ]
          },
          "metadata": {}
        },
        {
          "output_type": "display_data",
          "data": {
            "text/plain": [
              "<IPython.core.display.HTML object>"
            ],
            "text/html": [
              "Syncing run <strong><a href=\"https://wandb.ai/benbatman/PyTorch_MNIST_Models/runs/14egr934\" target=\"_blank\">fluent-durian-16</a></strong> to <a href=\"https://wandb.ai/benbatman/PyTorch_MNIST_Models\" target=\"_blank\">Weights & Biases</a> (<a href=\"https://wandb.me/run\" target=\"_blank\">docs</a>)<br/>"
            ]
          },
          "metadata": {}
        },
        {
          "output_type": "display_data",
          "data": {
            "text/plain": [
              "  0%|          | 0/3 [00:00<?, ?it/s]"
            ],
            "application/vnd.jupyter.widget-view+json": {
              "version_major": 2,
              "version_minor": 0,
              "model_id": "93e57214a759406fa54653d146729b16"
            }
          },
          "metadata": {}
        },
        {
          "output_type": "stream",
          "name": "stdout",
          "text": [
            "Epoch: 0\n",
            "------\n",
            "Train loss: 0.46511080861091614 | Train accuracy: 86.07%\n",
            "Test loss: 0.18492 | Test accuracy: 94.48%\n",
            "\n",
            "Epoch: 1\n",
            "------\n",
            "Train loss: 0.1423397660255432 | Train accuracy: 95.75%\n",
            "Test loss: 0.09282 | Test accuracy: 97.19%\n",
            "\n",
            "Epoch: 2\n",
            "------\n",
            "Train loss: 0.09171422570943832 | Train accuracy: 97.27%\n",
            "Test loss: 0.06915 | Test accuracy: 97.93%\n",
            "\n"
          ]
        },
        {
          "output_type": "display_data",
          "data": {
            "text/plain": [
              "<IPython.core.display.HTML object>"
            ],
            "text/html": [
              "Waiting for W&B process to finish... <strong style=\"color:green\">(success).</strong>"
            ]
          },
          "metadata": {}
        },
        {
          "output_type": "display_data",
          "data": {
            "text/plain": [
              "VBox(children=(Label(value='0.001 MB of 0.009 MB uploaded (0.000 MB deduped)\\r'), FloatProgress(value=0.080825…"
            ],
            "application/vnd.jupyter.widget-view+json": {
              "version_major": 2,
              "version_minor": 0,
              "model_id": "6efcea7611a24d82a8f493998adfe506"
            }
          },
          "metadata": {}
        },
        {
          "output_type": "display_data",
          "data": {
            "text/plain": [
              "<IPython.core.display.HTML object>"
            ],
            "text/html": [
              "<style>\n",
              "    table.wandb td:nth-child(1) { padding: 0 10px; text-align: left ; width: auto;} td:nth-child(2) {text-align: left ; width: 100%}\n",
              "    .wandb-row { display: flex; flex-direction: row; flex-wrap: wrap; justify-content: flex-start; width: 100% }\n",
              "    .wandb-col { display: flex; flex-direction: column; flex-basis: 100%; flex: 1; padding: 10px; }\n",
              "    </style>\n",
              "<div class=\"wandb-row\"><div class=\"wandb-col\"><h3>Run history:</h3><br/><table class=\"wandb\"><tr><td>test_acc</td><td>▁▇█</td></tr><tr><td>test_loss</td><td>█▂▁</td></tr><tr><td>train_accuracy</td><td>▁▇█</td></tr><tr><td>train_loss</td><td>█▂▁</td></tr></table><br/></div><div class=\"wandb-col\"><h3>Run summary:</h3><br/><table class=\"wandb\"><tr><td>test_acc</td><td>97.93331</td></tr><tr><td>test_loss</td><td>0.06915</td></tr><tr><td>train_accuracy</td><td>97.27167</td></tr><tr><td>train_loss</td><td>0.09171</td></tr></table><br/></div></div>"
            ]
          },
          "metadata": {}
        },
        {
          "output_type": "display_data",
          "data": {
            "text/plain": [
              "<IPython.core.display.HTML object>"
            ],
            "text/html": [
              "Synced <strong style=\"color:#cdcd00\">fluent-durian-16</strong>: <a href=\"https://wandb.ai/benbatman/PyTorch_MNIST_Models/runs/14egr934\" target=\"_blank\">https://wandb.ai/benbatman/PyTorch_MNIST_Models/runs/14egr934</a><br/>Synced 5 W&B file(s), 0 media file(s), 0 artifact file(s) and 0 other file(s)"
            ]
          },
          "metadata": {}
        },
        {
          "output_type": "display_data",
          "data": {
            "text/plain": [
              "<IPython.core.display.HTML object>"
            ],
            "text/html": [
              "Find logs at: <code>./wandb/run-20221130_141704-14egr934/logs</code>"
            ]
          },
          "metadata": {}
        }
      ]
    },
    {
      "cell_type": "code",
      "source": [],
      "metadata": {
        "id": "8g-SGf5EZni1"
      },
      "execution_count": null,
      "outputs": []
    }
  ]
}